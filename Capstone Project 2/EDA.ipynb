{
 "cells": [
  {
   "cell_type": "markdown",
   "id": "00902821",
   "metadata": {},
   "source": [
    "# Exploratory Data Analysis<a id='Exploratory_Data_Analysis'></a>"
   ]
  },
  {
   "cell_type": "markdown",
   "id": "1eccde51",
   "metadata": {},
   "source": [
    "# 1.1 Contents<a id='1.1_Contents'></a>\n",
    "* [1 Exploratory Data Analysis](#1_Exploratory_Data_Analysis)\n",
    "  * [1.1 Imports](#1.1_Imports)\n",
    "  * [1.2 Load The Data](#1.2_Load_The_Data)\n",
    "  * [1.3 Explore The Data](#1.3_Explore_The_Data)\n",
    "    * [1.3.1 Visualizing High Dimensional Data](#1.3.1_Visualizing_High_Dimensional_Data)\n",
    "      * [1.3.1.1 Average Door Swings Per State](#1.3.1.1_Average_Door_Swings_Per_State)\n",
    "      * [1.3.1.2 Distribution of Door Swings By State](#1.3.1.1_Distribution_of_Door_Swings_By_State)\n",
    "    * [1.3.2 Numeric Features](#1.3.1_Numeric_Features)\n",
    "      * [1.3.2.1 Numeric Data Summary](#1.3.1.1_Numeric_Data_Summary)\n",
    "  * [1.4 Hypotheses](#1.4_Hypotheses)   \n",
    "    * [1.4.1 Hypothesis #1](#1.4.1_Hypothesis_#1)\n",
    "      * [1.4.1.1 Pulling in the Data](#1.4.1.1_Pulling_in_the_Data)\n",
    "      * [1.4.1.2 Explore the Data](#1.4.1.2_Explore_the_Data)\n",
    "      * [1.4.1.3 Analyzing the Data](#1.4.1.2_Analyzing_the_Data)\n",
    "    * [1.4.2 Hypothesis #2](#1.4.2_Hypothesis_#2)\n",
    "      * [1.4.2.1 Explore the Data](#1.4.2.1_Explore_the_Data)\n",
    "      * [1.4.2.2 Analyzing the Data](#1.4.2.2_Analyzing_the_Data)\n",
    "  * [1.5 Summary](#1.5_Summary)  "
   ]
  },
  {
   "cell_type": "markdown",
   "id": "4c76411c",
   "metadata": {},
   "source": [
    "## 1.1 Imports"
   ]
  },
  {
   "cell_type": "code",
   "execution_count": 19,
   "id": "23535522",
   "metadata": {},
   "outputs": [],
   "source": [
    "import numpy as np\n",
    "import pandas as pd\n",
    "import pyodbc\n",
    "import matplotlib.pyplot as plt\n",
    "import seaborn as sns\n",
    "import os\n",
    "import openpyxl\n",
    "from Username_PW import *"
   ]
  },
  {
   "cell_type": "markdown",
   "id": "ea32fcf7",
   "metadata": {},
   "source": [
    "## 1.2 Load The Data"
   ]
  },
  {
   "cell_type": "code",
   "execution_count": 20,
   "id": "8331b777",
   "metadata": {},
   "outputs": [],
   "source": [
    "df = pd.read_excel(r'C:\\Users\\asiu200\\OneDrive - Comcast\\Python\\Springboard\\Data Wrangling.xlsx')"
   ]
  },
  {
   "cell_type": "code",
   "execution_count": 21,
   "id": "9fd13dc9",
   "metadata": {},
   "outputs": [
    {
     "name": "stdout",
     "output_type": "stream",
     "text": [
      "<class 'pandas.core.frame.DataFrame'>\n",
      "RangeIndex: 74789 entries, 0 to 74788\n",
      "Data columns (total 5 columns):\n",
      " #   Column            Non-Null Count  Dtype         \n",
      "---  ------            --------------  -----         \n",
      " 0   Traffic_Date      74789 non-null  datetime64[ns]\n",
      " 1   STORE_NAME        74789 non-null  object        \n",
      " 2   STORE_CITY_NAME   74789 non-null  object        \n",
      " 3   STORE_STATE_CODE  74789 non-null  object        \n",
      " 4   Door_Swings       74789 non-null  int64         \n",
      "dtypes: datetime64[ns](1), int64(1), object(3)\n",
      "memory usage: 2.9+ MB\n"
     ]
    }
   ],
   "source": [
    "df.info()"
   ]
  },
  {
   "cell_type": "code",
   "execution_count": 22,
   "id": "bda86468",
   "metadata": {},
   "outputs": [],
   "source": [
    "df.rename(columns={'STORE_NAME' : 'store_name', 'Traffic_Date' : 'date', 'STORE_CITY_NAME' : 'city', 'STORE_STATE_CODE' : 'state','Door_Swings' : 'door_swings'}, inplace=True)"
   ]
  },
  {
   "cell_type": "code",
   "execution_count": 23,
   "id": "b5099440",
   "metadata": {},
   "outputs": [
    {
     "data": {
      "text/html": [
       "<div>\n",
       "<style scoped>\n",
       "    .dataframe tbody tr th:only-of-type {\n",
       "        vertical-align: middle;\n",
       "    }\n",
       "\n",
       "    .dataframe tbody tr th {\n",
       "        vertical-align: top;\n",
       "    }\n",
       "\n",
       "    .dataframe thead th {\n",
       "        text-align: right;\n",
       "    }\n",
       "</style>\n",
       "<table border=\"1\" class=\"dataframe\">\n",
       "  <thead>\n",
       "    <tr style=\"text-align: right;\">\n",
       "      <th></th>\n",
       "      <th>date</th>\n",
       "      <th>store_name</th>\n",
       "      <th>city</th>\n",
       "      <th>state</th>\n",
       "      <th>door_swings</th>\n",
       "    </tr>\n",
       "  </thead>\n",
       "  <tbody>\n",
       "    <tr>\n",
       "      <th>0</th>\n",
       "      <td>2014-12-22</td>\n",
       "      <td>3351 - Albuquerque, NM (XF)</td>\n",
       "      <td>Albuquerque</td>\n",
       "      <td>NM</td>\n",
       "      <td>656</td>\n",
       "    </tr>\n",
       "    <tr>\n",
       "      <th>1</th>\n",
       "      <td>2014-12-22</td>\n",
       "      <td>3352 - Lakewood, CO (XF)</td>\n",
       "      <td>Lakewood</td>\n",
       "      <td>CO</td>\n",
       "      <td>452</td>\n",
       "    </tr>\n",
       "    <tr>\n",
       "      <th>2</th>\n",
       "      <td>2014-12-22</td>\n",
       "      <td>3353 - Colorado Springs, CO (XF)</td>\n",
       "      <td>Colorado Springs</td>\n",
       "      <td>CO</td>\n",
       "      <td>562</td>\n",
       "    </tr>\n",
       "    <tr>\n",
       "      <th>3</th>\n",
       "      <td>2014-12-22</td>\n",
       "      <td>3354 - Thornton, CO (XF)</td>\n",
       "      <td>Thornton</td>\n",
       "      <td>CO</td>\n",
       "      <td>594</td>\n",
       "    </tr>\n",
       "    <tr>\n",
       "      <th>4</th>\n",
       "      <td>2014-12-22</td>\n",
       "      <td>3356 - Boulder, CO (XF)</td>\n",
       "      <td>Boulder</td>\n",
       "      <td>CO</td>\n",
       "      <td>369</td>\n",
       "    </tr>\n",
       "  </tbody>\n",
       "</table>\n",
       "</div>"
      ],
      "text/plain": [
       "        date                        store_name              city state  \\\n",
       "0 2014-12-22       3351 - Albuquerque, NM (XF)       Albuquerque    NM   \n",
       "1 2014-12-22          3352 - Lakewood, CO (XF)          Lakewood    CO   \n",
       "2 2014-12-22  3353 - Colorado Springs, CO (XF)  Colorado Springs    CO   \n",
       "3 2014-12-22          3354 - Thornton, CO (XF)          Thornton    CO   \n",
       "4 2014-12-22           3356 - Boulder, CO (XF)           Boulder    CO   \n",
       "\n",
       "   door_swings  \n",
       "0          656  \n",
       "1          452  \n",
       "2          562  \n",
       "3          594  \n",
       "4          369  "
      ]
     },
     "execution_count": 23,
     "metadata": {},
     "output_type": "execute_result"
    }
   ],
   "source": [
    "df.head()"
   ]
  },
  {
   "cell_type": "markdown",
   "id": "f95251ce",
   "metadata": {},
   "source": [
    "## 1.3 Explore The Data"
   ]
  },
  {
   "cell_type": "code",
   "execution_count": 24,
   "id": "76b2e73f",
   "metadata": {},
   "outputs": [
    {
     "name": "stdout",
     "output_type": "stream",
     "text": [
      "3353 - Colorado Springs, CO (XF)                                2891\n",
      "3354 - Thornton, CO (XF)                                        2891\n",
      "3352 - Lakewood, CO (XF)                                        2891\n",
      "3456 - Layton2, UT (XF)                                         2887\n",
      "3357 - Centennial, CO (XF)                                      2879\n",
      "3453 - Orem, UT (XF)                                            2857\n",
      "3351 - Albuquerque, NM (XF)                                     2841\n",
      "3356 - Boulder, CO (XF)                                         2822\n",
      "3455 - Draper, UT (XF)                                          2718\n",
      "3359 - Loveland, CO (XF)                                        2489\n",
      "3360 - Arvada, CO (XF)                                          2134\n",
      "3457 - Salt Lake City, UT (XF)                                  2041\n",
      "3361 - Longmont, CO (XF)                                        1904\n",
      "3358 - Denver, CO (XF)                                          1829\n",
      "3362 - Pueblo, CO (XF)                                          1750\n",
      "3363 - Fort Collins, CO (XF)                                    1748\n",
      "3459 - Arizona Pavilions - Tucson, AZ (XF)                      1659\n",
      "3454 - Tucson - River, AZ (XF)                                  1579\n",
      "3458 - Academy Square - Logan, UT (XF)                          1531\n",
      "3365 - Gardens on Havana - Aurora, CO (XF)                      1507\n",
      "59001 - Applewood Village - Wheat Ridge, CO (XF)                1488\n",
      "3355 - Las Cruces, NM (XF)                                      1463\n",
      "3367 - Animas Valley Mall - Farmington, NM (XF)                 1454\n",
      "3368 - Prairie Center - Brighton, CO (XF)                       1411\n",
      "59002 - Greeley - Greeley, CO (XF)                              1386\n",
      "59000 - Southwest Plaza - Littleton, CO (XF)                    1382\n",
      "59008 - Southglenn/Cherry Hills - Greenwood Village, CO (XF)    1359\n",
      "3460 - Jordan Landing - West Jordan, UT (XF)                    1315\n",
      "59003 - Northfield Stapleton - Denver, CO (XF)                  1273\n",
      "3369 - Plaza Santa Fe - Santa Fe, NM (XF)                       1216\n",
      "3373 - Orchard Town Center - Westminster, CO (XF)               1196\n",
      "3372 - The Shops at NorthCreek - Denver, CO (XF)                1194\n",
      "3461 - Fashion Plaza - Murray, UT (XF)                          1168\n",
      "59009 - South Aurora - Aurora, CO (XF)                          1154\n",
      "3364 - Barnes Marketplace - Colorado Springs, CO (XF)           1107\n",
      "3403 - Park City, UT                                            1085\n",
      "3374 -Shops at Walnut Creek -Westminster, CO (XF)                958\n",
      "3371 - Crown Point - Parker, CO (XF)                             936\n",
      "3370 - Promenade at Castle Rock - Castle Rock, CO (XF)           881\n",
      "59031 - Hunter's Crossing - American Fork, UT (XF)               814\n",
      "59034 - Highbury Centre - West Valley City, UT (XF)              791\n",
      "59033 -Mountain View Village -  Riverton, UT (XF)                790\n",
      "59038 -  Diamond Plaza - Ogden, UT (XF)                          775\n",
      "59011 - River Point at Sheridan - Sheridan, CO (XF)              751\n",
      "59032 - Sugarhouse  - Salt Lake City, UT (XF)                    592\n",
      "59046 - Broadmoor Towne Center - Colorado Springs, CO (XF)       461\n",
      "3464 - Glenwood Meadows - Glenwood Springs, CO (XF)              170\n",
      "3463 - Summit Place - Silverthorne, CO (XF)                      168\n",
      "59055 - Albuquerque, NM (Uptown)                                 136\n",
      "59056 - Albuquerque, NM (Cottonwood) (BP)                         67\n",
      "Name: store_name, dtype: int64\n"
     ]
    }
   ],
   "source": [
    "print(df.store_name.value_counts())"
   ]
  },
  {
   "cell_type": "markdown",
   "id": "ff3bd081",
   "metadata": {},
   "source": [
    "There are stores that have higher amounts of data points because either they opened after 01-01-2019 or the stores have closed down and are no longer open."
   ]
  },
  {
   "cell_type": "code",
   "execution_count": 25,
   "id": "e2d1cbb4",
   "metadata": {},
   "outputs": [
    {
     "name": "stdout",
     "output_type": "stream",
     "text": [
      "state          4\n",
      "store_name    50\n",
      "dtype: int64\n"
     ]
    }
   ],
   "source": [
    "count = df[['state', 'store_name']].nunique()\n",
    "print(count)"
   ]
  },
  {
   "cell_type": "markdown",
   "id": "b066e6c7",
   "metadata": {},
   "source": [
    "We cover four states and have 50 stores in our specific region."
   ]
  },
  {
   "cell_type": "code",
   "execution_count": 26,
   "id": "d2a3dd64",
   "metadata": {},
   "outputs": [
    {
     "name": "stdout",
     "output_type": "stream",
     "text": [
      "state\n",
      "AZ     2\n",
      "CO    29\n",
      "NM     6\n",
      "UT    13\n",
      "Name: store_name, dtype: int64\n"
     ]
    }
   ],
   "source": [
    "print(df.groupby('state')['store_name'].nunique())"
   ]
  },
  {
   "cell_type": "markdown",
   "id": "e0a96392",
   "metadata": {},
   "source": [
    "Out of the four states, CO has the most stores open, while AZ has the least amount."
   ]
  },
  {
   "cell_type": "markdown",
   "id": "fefc4ac7",
   "metadata": {},
   "source": [
    "### 1.3.1 Visualizing High Dimensional Data"
   ]
  },
  {
   "cell_type": "markdown",
   "id": "643b429f",
   "metadata": {},
   "source": [
    "#### 1.3.1.1 Average Door Swings Per State"
   ]
  },
  {
   "cell_type": "code",
   "execution_count": 27,
   "id": "3bca1032",
   "metadata": {},
   "outputs": [
    {
     "data": {
      "text/plain": [
       "state\n",
       "AZ    190.512353\n",
       "CO    260.751677\n",
       "NM    377.025080\n",
       "UT    202.568478\n",
       "Name: door_swings, dtype: float64"
      ]
     },
     "execution_count": 27,
     "metadata": {},
     "output_type": "execute_result"
    }
   ],
   "source": [
    "state_avg_ds = df.groupby('state')['door_swings'].mean()\n",
    "state_avg_ds.head()"
   ]
  },
  {
   "cell_type": "code",
   "execution_count": 28,
   "id": "b8b6c6b2",
   "metadata": {},
   "outputs": [
    {
     "data": {
      "text/html": [
       "<div>\n",
       "<style scoped>\n",
       "    .dataframe tbody tr th:only-of-type {\n",
       "        vertical-align: middle;\n",
       "    }\n",
       "\n",
       "    .dataframe tbody tr th {\n",
       "        vertical-align: top;\n",
       "    }\n",
       "\n",
       "    .dataframe thead th {\n",
       "        text-align: right;\n",
       "    }\n",
       "</style>\n",
       "<table border=\"1\" class=\"dataframe\">\n",
       "  <thead>\n",
       "    <tr style=\"text-align: right;\">\n",
       "      <th></th>\n",
       "      <th>date</th>\n",
       "      <th>store_name</th>\n",
       "      <th>city</th>\n",
       "      <th>state</th>\n",
       "      <th>door_swings</th>\n",
       "    </tr>\n",
       "  </thead>\n",
       "  <tbody>\n",
       "    <tr>\n",
       "      <th>9577</th>\n",
       "      <td>2017-08-11</td>\n",
       "      <td>3360 - Arvada, CO (XF)</td>\n",
       "      <td>Arvada</td>\n",
       "      <td>CO</td>\n",
       "      <td>1683</td>\n",
       "    </tr>\n",
       "    <tr>\n",
       "      <th>9238</th>\n",
       "      <td>2017-07-16</td>\n",
       "      <td>3354 - Thornton, CO (XF)</td>\n",
       "      <td>Thornton</td>\n",
       "      <td>CO</td>\n",
       "      <td>1582</td>\n",
       "    </tr>\n",
       "    <tr>\n",
       "      <th>83</th>\n",
       "      <td>2014-12-31</td>\n",
       "      <td>3353 - Colorado Springs, CO (XF)</td>\n",
       "      <td>Colorado Springs</td>\n",
       "      <td>CO</td>\n",
       "      <td>1509</td>\n",
       "    </tr>\n",
       "    <tr>\n",
       "      <th>38246</th>\n",
       "      <td>2020-09-03</td>\n",
       "      <td>3351 - Albuquerque, NM (XF)</td>\n",
       "      <td>Albuquerque</td>\n",
       "      <td>NM</td>\n",
       "      <td>1291</td>\n",
       "    </tr>\n",
       "    <tr>\n",
       "      <th>16860</th>\n",
       "      <td>2018-10-27</td>\n",
       "      <td>3365 - Gardens on Havana - Aurora, CO (XF)</td>\n",
       "      <td>Aurora</td>\n",
       "      <td>CO</td>\n",
       "      <td>1274</td>\n",
       "    </tr>\n",
       "    <tr>\n",
       "      <th>9842</th>\n",
       "      <td>2017-09-01</td>\n",
       "      <td>3351 - Albuquerque, NM (XF)</td>\n",
       "      <td>Albuquerque</td>\n",
       "      <td>NM</td>\n",
       "      <td>1272</td>\n",
       "    </tr>\n",
       "    <tr>\n",
       "      <th>18287</th>\n",
       "      <td>2018-12-29</td>\n",
       "      <td>3360 - Arvada, CO (XF)</td>\n",
       "      <td>Arvada</td>\n",
       "      <td>CO</td>\n",
       "      <td>1249</td>\n",
       "    </tr>\n",
       "    <tr>\n",
       "      <th>39374</th>\n",
       "      <td>2020-10-01</td>\n",
       "      <td>3351 - Albuquerque, NM (XF)</td>\n",
       "      <td>Albuquerque</td>\n",
       "      <td>NM</td>\n",
       "      <td>1234</td>\n",
       "    </tr>\n",
       "    <tr>\n",
       "      <th>22417</th>\n",
       "      <td>2019-06-03</td>\n",
       "      <td>3365 - Gardens on Havana - Aurora, CO (XF)</td>\n",
       "      <td>Aurora</td>\n",
       "      <td>CO</td>\n",
       "      <td>1224</td>\n",
       "    </tr>\n",
       "    <tr>\n",
       "      <th>38207</th>\n",
       "      <td>2020-09-02</td>\n",
       "      <td>3351 - Albuquerque, NM (XF)</td>\n",
       "      <td>Albuquerque</td>\n",
       "      <td>NM</td>\n",
       "      <td>1218</td>\n",
       "    </tr>\n",
       "    <tr>\n",
       "      <th>38675</th>\n",
       "      <td>2020-09-14</td>\n",
       "      <td>3351 - Albuquerque, NM (XF)</td>\n",
       "      <td>Albuquerque</td>\n",
       "      <td>NM</td>\n",
       "      <td>1218</td>\n",
       "    </tr>\n",
       "    <tr>\n",
       "      <th>36007</th>\n",
       "      <td>2020-07-06</td>\n",
       "      <td>3351 - Albuquerque, NM (XF)</td>\n",
       "      <td>Albuquerque</td>\n",
       "      <td>NM</td>\n",
       "      <td>1217</td>\n",
       "    </tr>\n",
       "    <tr>\n",
       "      <th>99</th>\n",
       "      <td>2015-01-02</td>\n",
       "      <td>3351 - Albuquerque, NM (XF)</td>\n",
       "      <td>Albuquerque</td>\n",
       "      <td>NM</td>\n",
       "      <td>1216</td>\n",
       "    </tr>\n",
       "    <tr>\n",
       "      <th>39542</th>\n",
       "      <td>2020-10-05</td>\n",
       "      <td>3351 - Albuquerque, NM (XF)</td>\n",
       "      <td>Albuquerque</td>\n",
       "      <td>NM</td>\n",
       "      <td>1214</td>\n",
       "    </tr>\n",
       "    <tr>\n",
       "      <th>17039</th>\n",
       "      <td>2018-11-05</td>\n",
       "      <td>3353 - Colorado Springs, CO (XF)</td>\n",
       "      <td>Colorado Springs</td>\n",
       "      <td>CO</td>\n",
       "      <td>1195</td>\n",
       "    </tr>\n",
       "    <tr>\n",
       "      <th>14120</th>\n",
       "      <td>2018-06-01</td>\n",
       "      <td>3351 - Albuquerque, NM (XF)</td>\n",
       "      <td>Albuquerque</td>\n",
       "      <td>NM</td>\n",
       "      <td>1187</td>\n",
       "    </tr>\n",
       "    <tr>\n",
       "      <th>17432</th>\n",
       "      <td>2018-11-23</td>\n",
       "      <td>3365 - Gardens on Havana - Aurora, CO (XF)</td>\n",
       "      <td>Aurora</td>\n",
       "      <td>CO</td>\n",
       "      <td>1187</td>\n",
       "    </tr>\n",
       "    <tr>\n",
       "      <th>17619</th>\n",
       "      <td>2018-12-01</td>\n",
       "      <td>3365 - Gardens on Havana - Aurora, CO (XF)</td>\n",
       "      <td>Aurora</td>\n",
       "      <td>CO</td>\n",
       "      <td>1179</td>\n",
       "    </tr>\n",
       "    <tr>\n",
       "      <th>19134</th>\n",
       "      <td>2019-02-02</td>\n",
       "      <td>3365 - Gardens on Havana - Aurora, CO (XF)</td>\n",
       "      <td>Aurora</td>\n",
       "      <td>CO</td>\n",
       "      <td>1171</td>\n",
       "    </tr>\n",
       "    <tr>\n",
       "      <th>37747</th>\n",
       "      <td>2020-08-21</td>\n",
       "      <td>3351 - Albuquerque, NM (XF)</td>\n",
       "      <td>Albuquerque</td>\n",
       "      <td>NM</td>\n",
       "      <td>1170</td>\n",
       "    </tr>\n",
       "  </tbody>\n",
       "</table>\n",
       "</div>"
      ],
      "text/plain": [
       "            date                                  store_name  \\\n",
       "9577  2017-08-11                      3360 - Arvada, CO (XF)   \n",
       "9238  2017-07-16                    3354 - Thornton, CO (XF)   \n",
       "83    2014-12-31            3353 - Colorado Springs, CO (XF)   \n",
       "38246 2020-09-03                 3351 - Albuquerque, NM (XF)   \n",
       "16860 2018-10-27  3365 - Gardens on Havana - Aurora, CO (XF)   \n",
       "9842  2017-09-01                 3351 - Albuquerque, NM (XF)   \n",
       "18287 2018-12-29                      3360 - Arvada, CO (XF)   \n",
       "39374 2020-10-01                 3351 - Albuquerque, NM (XF)   \n",
       "22417 2019-06-03  3365 - Gardens on Havana - Aurora, CO (XF)   \n",
       "38207 2020-09-02                 3351 - Albuquerque, NM (XF)   \n",
       "38675 2020-09-14                 3351 - Albuquerque, NM (XF)   \n",
       "36007 2020-07-06                 3351 - Albuquerque, NM (XF)   \n",
       "99    2015-01-02                 3351 - Albuquerque, NM (XF)   \n",
       "39542 2020-10-05                 3351 - Albuquerque, NM (XF)   \n",
       "17039 2018-11-05            3353 - Colorado Springs, CO (XF)   \n",
       "14120 2018-06-01                 3351 - Albuquerque, NM (XF)   \n",
       "17432 2018-11-23  3365 - Gardens on Havana - Aurora, CO (XF)   \n",
       "17619 2018-12-01  3365 - Gardens on Havana - Aurora, CO (XF)   \n",
       "19134 2019-02-02  3365 - Gardens on Havana - Aurora, CO (XF)   \n",
       "37747 2020-08-21                 3351 - Albuquerque, NM (XF)   \n",
       "\n",
       "                   city state  door_swings  \n",
       "9577             Arvada    CO         1683  \n",
       "9238           Thornton    CO         1582  \n",
       "83     Colorado Springs    CO         1509  \n",
       "38246       Albuquerque    NM         1291  \n",
       "16860            Aurora    CO         1274  \n",
       "9842        Albuquerque    NM         1272  \n",
       "18287            Arvada    CO         1249  \n",
       "39374       Albuquerque    NM         1234  \n",
       "22417            Aurora    CO         1224  \n",
       "38207       Albuquerque    NM         1218  \n",
       "38675       Albuquerque    NM         1218  \n",
       "36007       Albuquerque    NM         1217  \n",
       "99          Albuquerque    NM         1216  \n",
       "39542       Albuquerque    NM         1214  \n",
       "17039  Colorado Springs    CO         1195  \n",
       "14120       Albuquerque    NM         1187  \n",
       "17432            Aurora    CO         1187  \n",
       "17619            Aurora    CO         1179  \n",
       "19134            Aurora    CO         1171  \n",
       "37747       Albuquerque    NM         1170  "
      ]
     },
     "execution_count": 28,
     "metadata": {},
     "output_type": "execute_result"
    }
   ],
   "source": [
    "df.sort_values(['door_swings'],ascending=False).head(20)"
   ]
  },
  {
   "cell_type": "markdown",
   "id": "aac34071",
   "metadata": {},
   "source": [
    "It is interesting to note that NM has the highest average door swings, and the Albuquerque store in NM has 10 out of the 20 highest door swings in the past eight years."
   ]
  },
  {
   "cell_type": "code",
   "execution_count": 204,
   "id": "f7446f66",
   "metadata": {},
   "outputs": [
    {
     "data": {
      "text/plain": [
       "(array([8.2080e+03, 1.9344e+04, 1.7196e+04, 1.2314e+04, 6.7630e+03,\n",
       "        3.8420e+03, 2.7360e+03, 1.7920e+03, 1.0800e+03, 7.2300e+02,\n",
       "        4.2600e+02, 2.1000e+02, 9.2000e+01, 4.5000e+01, 1.2000e+01,\n",
       "        3.0000e+00, 0.0000e+00, 1.0000e+00, 1.0000e+00, 1.0000e+00]),\n",
       " array([   0.  ,   84.15,  168.3 ,  252.45,  336.6 ,  420.75,  504.9 ,\n",
       "         589.05,  673.2 ,  757.35,  841.5 ,  925.65, 1009.8 , 1093.95,\n",
       "        1178.1 , 1262.25, 1346.4 , 1430.55, 1514.7 , 1598.85, 1683.  ]),\n",
       " <BarContainer object of 20 artists>)"
      ]
     },
     "execution_count": 204,
     "metadata": {},
     "output_type": "execute_result"
    },
    {
     "data": {
      "image/png": "[encoded data removed]",
      "text/plain": [
       "<Figure size 640x480 with 1 Axes>"
      ]
     },
     "metadata": {},
     "output_type": "display_data"
    }
   ],
   "source": [
    "plt.xlabel('Amount of Door Swings')\n",
    "plt.ylabel('Count')\n",
    "plt.title('Count of Door Swings')\n",
    "plt.hist(df['door_swings'], bins=20)"
   ]
  },
  {
   "cell_type": "markdown",
   "id": "c7508f0d",
   "metadata": {},
   "source": [
    "The most recurring number of daily door swings is between 0 and 300."
   ]
  },
  {
   "cell_type": "code",
   "execution_count": 30,
   "id": "6cfd79bd",
   "metadata": {},
   "outputs": [
    {
     "data": {
      "text/plain": [
       "0       2286\n",
       "162      265\n",
       "106      265\n",
       "158      263\n",
       "137      261\n",
       "        ... \n",
       "1003       1\n",
       "1039       1\n",
       "1043       1\n",
       "1161       1\n",
       "1012       1\n",
       "Name: door_swings, Length: 1105, dtype: int64"
      ]
     },
     "execution_count": 30,
     "metadata": {},
     "output_type": "execute_result"
    }
   ],
   "source": [
    "df['door_swings'].value_counts()"
   ]
  },
  {
   "cell_type": "markdown",
   "id": "5c51d841",
   "metadata": {},
   "source": [
    "I wanted to see if a specific number of door swings occurred more than others."
   ]
  },
  {
   "cell_type": "markdown",
   "id": "6ac4bb57",
   "metadata": {},
   "source": [
    "#### 1.3.1.2 Distribution of Door Swings By State"
   ]
  },
  {
   "cell_type": "code",
   "execution_count": 31,
   "id": "c473cdf4",
   "metadata": {},
   "outputs": [
    {
     "data": {
      "text/html": [
       "<div>\n",
       "<style scoped>\n",
       "    .dataframe tbody tr th:only-of-type {\n",
       "        vertical-align: middle;\n",
       "    }\n",
       "\n",
       "    .dataframe tbody tr th {\n",
       "        vertical-align: top;\n",
       "    }\n",
       "\n",
       "    .dataframe thead th {\n",
       "        text-align: right;\n",
       "    }\n",
       "</style>\n",
       "<table border=\"1\" class=\"dataframe\">\n",
       "  <thead>\n",
       "    <tr style=\"text-align: right;\">\n",
       "      <th></th>\n",
       "      <th>door_swings</th>\n",
       "    </tr>\n",
       "    <tr>\n",
       "      <th>state</th>\n",
       "      <th></th>\n",
       "    </tr>\n",
       "  </thead>\n",
       "  <tbody>\n",
       "    <tr>\n",
       "      <th>AZ</th>\n",
       "      <td>190.512353</td>\n",
       "    </tr>\n",
       "    <tr>\n",
       "      <th>CO</th>\n",
       "      <td>260.751677</td>\n",
       "    </tr>\n",
       "    <tr>\n",
       "      <th>NM</th>\n",
       "      <td>377.025080</td>\n",
       "    </tr>\n",
       "    <tr>\n",
       "      <th>UT</th>\n",
       "      <td>202.568478</td>\n",
       "    </tr>\n",
       "  </tbody>\n",
       "</table>\n",
       "</div>"
      ],
      "text/plain": [
       "       door_swings\n",
       "state             \n",
       "AZ      190.512353\n",
       "CO      260.751677\n",
       "NM      377.025080\n",
       "UT      202.568478"
      ]
     },
     "execution_count": 31,
     "metadata": {},
     "output_type": "execute_result"
    }
   ],
   "source": [
    "state_mean_doorswings = df.groupby('state')[['door_swings']].mean()\n",
    "state_mean_doorswings.head()"
   ]
  },
  {
   "cell_type": "markdown",
   "id": "cb536e81",
   "metadata": {},
   "source": [
    "I wanted to know which states had the highest number of door swings. It is interesting to note that NM has the highest number of door swings compared to CO. Because CO has 29 stores, NM only has six stores."
   ]
  },
  {
   "cell_type": "code",
   "execution_count": 32,
   "id": "db5d8e97",
   "metadata": {},
   "outputs": [
    {
     "data": {
      "image/png": "[encoded data removed]",
      "text/plain": [
       "<Figure size 500x500 with 1 Axes>"
      ]
     },
     "metadata": {},
     "output_type": "display_data"
    }
   ],
   "source": [
    "(state_mean_doorswings.reindex(index=state_mean_doorswings.mean(axis=1)\n",
    "    .sort_values(ascending=False)\n",
    "    .index)\n",
    "    .plot(kind='barh', figsize=(5, 5), title='Average door swings by State'))\n",
    "plt.xlabel('Door Swings');"
   ]
  },
  {
   "cell_type": "code",
   "execution_count": 33,
   "id": "dc3159af",
   "metadata": {},
   "outputs": [
    {
     "data": {
      "image/png": "[encoded data removed]",
      "text/plain": [
       "<Figure size 1200x800 with 1 Axes>"
      ]
     },
     "metadata": {},
     "output_type": "display_data"
    }
   ],
   "source": [
    "plt.subplots(figsize=(12, 8))\n",
    "sns.boxplot(x='state', y='door_swings', data=df)\n",
    "plt.xticks(rotation='vertical')\n",
    "plt.ylabel('Door Swings')\n",
    "plt.xlabel('State');"
   ]
  },
  {
   "cell_type": "markdown",
   "id": "915dc2b4",
   "metadata": {},
   "source": [
    "### 1.3.2 Numeric Features"
   ]
  },
  {
   "cell_type": "markdown",
   "id": "3bc1b826",
   "metadata": {},
   "source": [
    "#### 1.3.2.1 Numeric Data Summary"
   ]
  },
  {
   "cell_type": "code",
   "execution_count": 34,
   "id": "6f01c016",
   "metadata": {},
   "outputs": [
    {
     "data": {
      "text/html": [
       "<div>\n",
       "<style scoped>\n",
       "    .dataframe tbody tr th:only-of-type {\n",
       "        vertical-align: middle;\n",
       "    }\n",
       "\n",
       "    .dataframe tbody tr th {\n",
       "        vertical-align: top;\n",
       "    }\n",
       "\n",
       "    .dataframe thead th {\n",
       "        text-align: right;\n",
       "    }\n",
       "</style>\n",
       "<table border=\"1\" class=\"dataframe\">\n",
       "  <thead>\n",
       "    <tr style=\"text-align: right;\">\n",
       "      <th></th>\n",
       "      <th>door_swings</th>\n",
       "    </tr>\n",
       "  </thead>\n",
       "  <tbody>\n",
       "    <tr>\n",
       "      <th>count</th>\n",
       "      <td>74789.000000</td>\n",
       "    </tr>\n",
       "    <tr>\n",
       "      <th>mean</th>\n",
       "      <td>253.804129</td>\n",
       "    </tr>\n",
       "    <tr>\n",
       "      <th>std</th>\n",
       "      <td>177.083237</td>\n",
       "    </tr>\n",
       "    <tr>\n",
       "      <th>min</th>\n",
       "      <td>0.000000</td>\n",
       "    </tr>\n",
       "    <tr>\n",
       "      <th>25%</th>\n",
       "      <td>131.000000</td>\n",
       "    </tr>\n",
       "    <tr>\n",
       "      <th>50%</th>\n",
       "      <td>214.000000</td>\n",
       "    </tr>\n",
       "    <tr>\n",
       "      <th>75%</th>\n",
       "      <td>328.000000</td>\n",
       "    </tr>\n",
       "    <tr>\n",
       "      <th>max</th>\n",
       "      <td>1683.000000</td>\n",
       "    </tr>\n",
       "  </tbody>\n",
       "</table>\n",
       "</div>"
      ],
      "text/plain": [
       "        door_swings\n",
       "count  74789.000000\n",
       "mean     253.804129\n",
       "std      177.083237\n",
       "min        0.000000\n",
       "25%      131.000000\n",
       "50%      214.000000\n",
       "75%      328.000000\n",
       "max     1683.000000"
      ]
     },
     "execution_count": 34,
     "metadata": {},
     "output_type": "execute_result"
    }
   ],
   "source": [
    "df.describe()"
   ]
  },
  {
   "cell_type": "markdown",
   "id": "7fad39df",
   "metadata": {},
   "source": [
    "It is interesting to see that we had a store have almost 1700 customers go into a store in one given day."
   ]
  },
  {
   "cell_type": "code",
   "execution_count": 35,
   "id": "02a80c95",
   "metadata": {},
   "outputs": [
    {
     "data": {
      "text/html": [
       "<div>\n",
       "<style scoped>\n",
       "    .dataframe tbody tr th:only-of-type {\n",
       "        vertical-align: middle;\n",
       "    }\n",
       "\n",
       "    .dataframe tbody tr th {\n",
       "        vertical-align: top;\n",
       "    }\n",
       "\n",
       "    .dataframe thead th {\n",
       "        text-align: right;\n",
       "    }\n",
       "</style>\n",
       "<table border=\"1\" class=\"dataframe\">\n",
       "  <thead>\n",
       "    <tr style=\"text-align: right;\">\n",
       "      <th></th>\n",
       "      <th>door_swings</th>\n",
       "    </tr>\n",
       "    <tr>\n",
       "      <th>date</th>\n",
       "      <th></th>\n",
       "    </tr>\n",
       "  </thead>\n",
       "  <tbody>\n",
       "    <tr>\n",
       "      <th>2014-12-31</th>\n",
       "      <td>32174</td>\n",
       "    </tr>\n",
       "    <tr>\n",
       "      <th>2015-12-31</th>\n",
       "      <td>1275108</td>\n",
       "    </tr>\n",
       "    <tr>\n",
       "      <th>2016-12-31</th>\n",
       "      <td>1301189</td>\n",
       "    </tr>\n",
       "    <tr>\n",
       "      <th>2017-12-31</th>\n",
       "      <td>1602200</td>\n",
       "    </tr>\n",
       "    <tr>\n",
       "      <th>2018-12-31</th>\n",
       "      <td>2321143</td>\n",
       "    </tr>\n",
       "    <tr>\n",
       "      <th>2019-12-31</th>\n",
       "      <td>3203486</td>\n",
       "    </tr>\n",
       "    <tr>\n",
       "      <th>2020-12-31</th>\n",
       "      <td>3249148</td>\n",
       "    </tr>\n",
       "    <tr>\n",
       "      <th>2021-12-31</th>\n",
       "      <td>3145370</td>\n",
       "    </tr>\n",
       "    <tr>\n",
       "      <th>2022-12-31</th>\n",
       "      <td>2851939</td>\n",
       "    </tr>\n",
       "  </tbody>\n",
       "</table>\n",
       "</div>"
      ],
      "text/plain": [
       "            door_swings\n",
       "date                   \n",
       "2014-12-31        32174\n",
       "2015-12-31      1275108\n",
       "2016-12-31      1301189\n",
       "2017-12-31      1602200\n",
       "2018-12-31      2321143\n",
       "2019-12-31      3203486\n",
       "2020-12-31      3249148\n",
       "2021-12-31      3145370\n",
       "2022-12-31      2851939"
      ]
     },
     "execution_count": 35,
     "metadata": {},
     "output_type": "execute_result"
    }
   ],
   "source": [
    "df.groupby(pd.Grouper(key='date', freq='1Y')).sum().head(10)"
   ]
  },
  {
   "cell_type": "markdown",
   "id": "0ab86d94",
   "metadata": {},
   "source": [
    "Interestingly, our door swings increased from 2019 to 2020 when the pandemic was at its height."
   ]
  },
  {
   "cell_type": "markdown",
   "id": "362d4f9a",
   "metadata": {},
   "source": [
    "## 1.4 Hypotheses"
   ]
  },
  {
   "cell_type": "markdown",
   "id": "1279aab8",
   "metadata": {},
   "source": [
    "### 1.4.1 Hypothesis #1"
   ]
  },
  {
   "cell_type": "markdown",
   "id": "635ab2d5",
   "metadata": {},
   "source": [
    "I would like to know if there are specific months when we have more equipment, payment, or work order transactions. Equipment transactions are where customers come in to pick up, swap, or return equipment, and payment transactions are where customers come in to make payments either with a rep or at a kiosk. Work order transactions are where customers go into a store and add, remove, or modify their services. Transaction count will not match up with door swings because some can come in and leave without waiting or an emergency arises."
   ]
  },
  {
   "cell_type": "markdown",
   "id": "68c4dc41",
   "metadata": {},
   "source": [
    "#### 1.4.1.1 Pulling in the Data"
   ]
  },
  {
   "cell_type": "code",
   "execution_count": 9,
   "id": "6194a64f",
   "metadata": {},
   "outputs": [
    {
     "name": "stdout",
     "output_type": "stream",
     "text": [
      "Connection to Teradata NDW established\n"
     ]
    },
    {
     "name": "stderr",
     "output_type": "stream",
     "text": [
      "C:\\Users\\asiu200\\Anaconda3\\lib\\site-packages\\pandas\\io\\sql.py:762: UserWarning: pandas only support SQLAlchemy connectable(engine/connection) ordatabase string URI or sqlite3 DBAPI2 connectionother DBAPI2 objects are not tested, please consider using SQLAlchemy\n",
      "  warnings.warn(\n"
     ]
    },
    {
     "name": "stdout",
     "output_type": "stream",
     "text": [
      "Connection Closed\n",
      "      RECORD_DATE                COMCAST_STORE_NAME   STORE_CITY_NAME  \\\n",
      "0      2022-11-28       3351 - Albuquerque, NM (XF)       Albuquerque   \n",
      "1      2022-11-28          3352 - Lakewood, CO (XF)          Lakewood   \n",
      "2      2022-11-28  3353 - Colorado Springs, CO (XF)  Colorado Springs   \n",
      "3      2022-11-28          3354 - Thornton, CO (XF)          Thornton   \n",
      "4      2022-11-28        3355 - Las Cruces, NM (XF)        Las Cruces   \n",
      "...           ...                               ...               ...   \n",
      "81804  2014-11-22              3403 - Park City, UT         Park City   \n",
      "81805  2014-11-22              3453 - Orem, UT (XF)              Orem   \n",
      "81806  2014-11-22    3454 - Tucson - River, AZ (XF)            Tucson   \n",
      "81807  2014-11-22            3455 - Draper, UT (XF)            Draper   \n",
      "81808  2014-11-22           3456 - Layton2, UT (XF)            Layton   \n",
      "\n",
      "      STORE_STATE_CODE  EQUIPMENT_TRANSACTIONS  PAYMENT_TRANSACTIONS  \\\n",
      "0                   NM                      96                     8   \n",
      "1                   CO                      79                     3   \n",
      "2                   CO                     117                     6   \n",
      "3                   CO                      40                     4   \n",
      "4                   NM                      54                     1   \n",
      "...                ...                     ...                   ...   \n",
      "81804               UT                       0                     0   \n",
      "81805               UT                       0                     0   \n",
      "81806               AZ                       0                     0   \n",
      "81807               UT                       0                     0   \n",
      "81808               UT                       0                     0   \n",
      "\n",
      "       WORK_ORDER_TRANSACTIONS  TOTAL_TRANSACTIONS  \n",
      "0                           55                 159  \n",
      "1                           27                 109  \n",
      "2                           35                 158  \n",
      "3                           21                  65  \n",
      "4                           28                  83  \n",
      "...                        ...                 ...  \n",
      "81804                        1                   1  \n",
      "81805                       53                  53  \n",
      "81806                       21                  21  \n",
      "81807                       40                  40  \n",
      "81808                       81                  81  \n",
      "\n",
      "[81809 rows x 8 columns]\n",
      "Excel Sheet Saved\n"
     ]
    }
   ],
   "source": [
    "link = 'DRIVER={DRIVERNAME};DBCNAME={hostname};Authentication=LDAP; UID={uid};PWD={pwd}'.format(\n",
    "    DRIVERNAME='Teradata Database ODBC Driver 16.20', hostname='172.28.130.20',\n",
    "    uid= username ,Database='WAVE_DAILY_XFINITY_STORES', pwd= password)\n",
    "\n",
    "conn = pyodbc.connect(link)\n",
    "\n",
    "cus=conn.cursor()\n",
    "print('Connection to Teradata NDW established')\n",
    "\n",
    "sql_query = pd.read_sql_query(\"\"\"\n",
    "\n",
    "SELECT\tXS.RECORD_DATE\n",
    ",XS.COMCAST_STORE_NAME\n",
    ",SL.STORE_CITY_NAME\n",
    ",SL.STORE_STATE_CODE\n",
    ",SUM(XS.EQUIPMENT_CUSTOMER_CNT) as EQUIPMENT_TRANSACTIONS\n",
    ",SUM(XS.PAYMENT_CUSTOMER_CNT) as PAYMENT_TRANSACTIONS\n",
    ",SUM(XS.WORK_ORDER_TRANSACTIONS_CNT) as WORK_ORDER_TRANSACTIONS\n",
    ",SUM(XS.EQUIPMENT_CUSTOMER_CNT + PAYMENT_CUSTOMER_CNT + WORK_ORDER_TRANSACTIONS_CNT) as TOTAL_TRANSACTIONS\n",
    "FROM\tNDW_SALESCOMP_ANALYTICS_VIEWS.WAVE_DAILY_XFINITY_STORES_STATS_SUMMARY as XS\n",
    "INNER JOIN NDW_SALESCOMP_ANALYTICS_VIEWS.WAVE_DAILY_XFINITY_STORE_LISTING as SL\n",
    "ON XS.COMCAST_STORE_NAME = SL.STORE_NAME\n",
    "WHERE 1 = 1\n",
    "AND XS.REGION_NAME = 'Mountain West Region'\n",
    "AND XS.RECORD_DATE <= Current_Date\n",
    "AND XS.COMCAST_STORE_NAME IN (\n",
    "'3351 - Albuquerque, NM (XF)',\n",
    "'3352 - Lakewood, CO (XF)',\n",
    "'3353 - Colorado Springs, CO (XF)',\n",
    "'3354 - Thornton, CO (XF)',\n",
    "'3355 - Las Cruces, NM (XF)',\n",
    "'3356 - Boulder, CO (XF)',\n",
    "'3357 - Centennial, CO (XF)',\n",
    "'3358 - Denver, CO (XF)',\n",
    "'3359 - Loveland, CO (XF)',\n",
    "'3360 - Arvada, CO (XF)',\n",
    "'3361 - Longmont, CO (XF)',\n",
    "'3362 - Pueblo, CO (XF)',\n",
    "'3363 - Fort Collins, CO (XF)',\n",
    "'3364 - Barnes Marketplace - Colorado Springs, CO (XF)',\n",
    "'3365 - Gardens on Havana - Aurora, CO (XF)',\n",
    "'3367 - Animas Valley Mall - Farmington, NM (XF)',\n",
    "'3368 - Prairie Center - Brighton, CO (XF)',\n",
    "'3369 - Plaza Santa Fe - Santa Fe, NM (XF)',\n",
    "'3370 - Promenade at Castle Rock - Castle Rock, CO (XF)',\n",
    "'3371 - Crown Point - Parker, CO (XF)',\n",
    "'3372 - The Shops at NorthCreek - Denver, CO (XF)',\n",
    "'3373 - Orchard Town Center - Westminster, CO (XF)',\n",
    "'3374 -Shops at Walnut Creek -Westminster, CO (XF)',\n",
    "'3403 - Park City, UT',\n",
    "'3453 - Orem, UT (XF)',\n",
    "'3454 - Tucson - River, AZ (XF)',\n",
    "'3455 - Draper, UT (XF)',\n",
    "'3456 - Layton2, UT (XF)',\n",
    "'3457 - Salt Lake City, UT (XF)',\n",
    "'3458 - Academy Square - Logan, UT (XF)',\n",
    "'3459 - Arizona Pavilions - Tucson, AZ (XF)',\n",
    "'3460 - Jordan Landing - West Jordan, UT (XF)',\n",
    "'3461 - Fashion Plaza - Murray, UT (XF)',\n",
    "'3463 - Summit Place - Silverthorne, CO (XF)',\n",
    "'3464 - Glenwood Meadows - Glenwood Springs, CO (XF)',\n",
    "'59000 - Southwest Plaza - Littleton, CO (XF)',\n",
    "'59001 - Applewood Village - Wheat Ridge, CO (XF)',\n",
    "'59002 - Greeley - Greeley, CO (XF)',\n",
    "'59003 - Northfield Stapleton - Denver, CO (XF)',\n",
    "'59008 - Southglenn/Cherry Hills - Greenwood Village, CO (XF)',\n",
    "'59009 - South Aurora - Aurora, CO (XF)',\n",
    "'59011 - River Point at Sheridan - Sheridan, CO (XF)',\n",
    "'59031 - Hunter''s Crossing - American Fork, UT (XF)',\n",
    "'59032 - Sugarhouse  - Salt Lake City, UT (XF)',\n",
    "'59033 -Mountain View Village -  Riverton, UT (XF)',\n",
    "'59034 - Highbury Centre - West Valley City, UT (XF)',\n",
    "'59038 -  Diamond Plaza - Ogden, UT (XF)',\n",
    "'59046 - Broadmoor Towne Center - Colorado Springs, CO (XF)',\n",
    "'59055 - Albuquerque, NM (Uptown)',\n",
    "'59056 - Albuquerque, NM (Cottonwood) (BP)')\n",
    "\n",
    "GROUP BY 1,2,3,4\n",
    "\n",
    "ORDER BY 1 DESC, 2,3,4\n",
    "\n",
    "\n",
    "\n",
    "\"\"\", conn)\n",
    "\n",
    "df = pd.DataFrame(sql_query, columns = ['RECORD_DATE', 'COMCAST_STORE_NAME', 'STORE_CITY_NAME', 'STORE_STATE_CODE','EQUIPMENT_TRANSACTIONS','PAYMENT_TRANSACTIONS','WORK_ORDER_TRANSACTIONS','TOTAL_TRANSACTIONS'])\n",
    "\n",
    "conn.close()\n",
    "print(\"Connection Closed\")\n",
    "\n",
    "print(df)\n",
    "\n",
    "savePathReport = r'C:\\Users\\asiu200\\OneDrive - Comcast\\Python\\Springboard'\n",
    "xlsxReportName = 'Hypothesis 1.xlsx'\n",
    "\n",
    "os.chdir(savePathReport)\n",
    "wb = openpyxl.load_workbook(xlsxReportName)\n",
    "sheet = wb.active\n",
    "wb.remove(sheet)\n",
    "\n",
    "wb.create_sheet(title=(\"Hypothesis 1\"))\n",
    "\n",
    "wb.save(xlsxReportName)\n",
    "\n",
    "writer = pd.ExcelWriter(r'C:\\Users\\asiu200\\OneDrive - Comcast\\Python\\Springboard\\Hypothesis 1.xlsx', engine ='openpyxl', mode='a', if_sheet_exists='replace')\n",
    "\n",
    "df.to_excel(writer, sheet_name='Hypothesis 1', index = False)\n",
    "\n",
    "workbook = writer.book\n",
    "worksheet = writer.sheets['Hypothesis 1']\n",
    "    \n",
    "writer.save()\n",
    "       \n",
    "print('Excel Sheet Saved')"
   ]
  },
  {
   "cell_type": "code",
   "execution_count": 302,
   "id": "5c2a0013",
   "metadata": {},
   "outputs": [],
   "source": [
    "df2 = pd.read_excel(r'C:\\Users\\asiu200\\OneDrive - Comcast\\Python\\Springboard\\Hypothesis 1.xlsx')"
   ]
  },
  {
   "cell_type": "markdown",
   "id": "ac317906",
   "metadata": {},
   "source": [
    "#### 1.4.1.2 Explore the Data"
   ]
  },
  {
   "cell_type": "code",
   "execution_count": 303,
   "id": "c034feaf",
   "metadata": {},
   "outputs": [
    {
     "name": "stdout",
     "output_type": "stream",
     "text": [
      "<class 'pandas.core.frame.DataFrame'>\n",
      "RangeIndex: 81809 entries, 0 to 81808\n",
      "Data columns (total 8 columns):\n",
      " #   Column                   Non-Null Count  Dtype         \n",
      "---  ------                   --------------  -----         \n",
      " 0   RECORD_DATE              81809 non-null  datetime64[ns]\n",
      " 1   COMCAST_STORE_NAME       81809 non-null  object        \n",
      " 2   STORE_CITY_NAME          81809 non-null  object        \n",
      " 3   STORE_STATE_CODE         81809 non-null  object        \n",
      " 4   EQUIPMENT_TRANSACTIONS   81809 non-null  int64         \n",
      " 5   PAYMENT_TRANSACTIONS     81809 non-null  int64         \n",
      " 6   WORK_ORDER_TRANSACTIONS  81809 non-null  int64         \n",
      " 7   TOTAL_TRANSACTIONS       81809 non-null  int64         \n",
      "dtypes: datetime64[ns](1), int64(4), object(3)\n",
      "memory usage: 5.0+ MB\n"
     ]
    }
   ],
   "source": [
    "df2.info()"
   ]
  },
  {
   "cell_type": "code",
   "execution_count": 304,
   "id": "250f002f",
   "metadata": {},
   "outputs": [],
   "source": [
    "df2.rename(columns={'COMCAST_STORE_NAME' : 'store_name', 'RECORD_DATE' : 'date', 'STORE_CITY_NAME' : 'city', 'STORE_STATE_CODE' : 'state','EQUIPMENT_TRANSACTIONS' : 'equipment_transactions','PAYMENT_TRANSACTIONS' : 'payment_transactions', 'WORK_ORDER_TRANSACTIONS' : 'work_order_transactions', 'TOTAL_TRANSACTIONS' : 'total_transactions'}, inplace=True)"
   ]
  },
  {
   "cell_type": "code",
   "execution_count": 305,
   "id": "c8a0279c",
   "metadata": {},
   "outputs": [],
   "source": [
    "df3 = pd.merge(df,df2, how='left')"
   ]
  },
  {
   "cell_type": "markdown",
   "id": "01a31558",
   "metadata": {},
   "source": [
    "I merged the door swing and transaction data so that I could work with one dataframe."
   ]
  },
  {
   "cell_type": "code",
   "execution_count": 306,
   "id": "cc06352e",
   "metadata": {},
   "outputs": [
    {
     "name": "stdout",
     "output_type": "stream",
     "text": [
      "        date                        store_name              city state  \\\n",
      "0 2014-12-22       3351 - Albuquerque, NM (XF)       Albuquerque    NM   \n",
      "1 2014-12-22          3352 - Lakewood, CO (XF)          Lakewood    CO   \n",
      "2 2014-12-22  3353 - Colorado Springs, CO (XF)  Colorado Springs    CO   \n",
      "3 2014-12-22          3354 - Thornton, CO (XF)          Thornton    CO   \n",
      "4 2014-12-22           3356 - Boulder, CO (XF)           Boulder    CO   \n",
      "5 2014-12-22        3357 - Centennial, CO (XF)        Centennial    CO   \n",
      "6 2014-12-22              3453 - Orem, UT (XF)              Orem    UT   \n",
      "7 2014-12-22            3455 - Draper, UT (XF)            Draper    UT   \n",
      "8 2014-12-22           3456 - Layton2, UT (XF)            Layton    UT   \n",
      "9 2014-12-23       3351 - Albuquerque, NM (XF)       Albuquerque    NM   \n",
      "\n",
      "   door_swings  equipment_transactions  payment_transactions  \\\n",
      "0          656                     0.0                   0.0   \n",
      "1          452                     0.0                   0.0   \n",
      "2          562                     0.0                   0.0   \n",
      "3          594                     0.0                   0.0   \n",
      "4          369                     0.0                   0.0   \n",
      "5          416                     0.0                   0.0   \n",
      "6          308                     0.0                   0.0   \n",
      "7          231                     0.0                   0.0   \n",
      "8          391                     0.0                   0.0   \n",
      "9          612                     0.0                   0.0   \n",
      "\n",
      "   work_order_transactions  total_transactions  \n",
      "0                     63.0                63.0  \n",
      "1                     77.0                77.0  \n",
      "2                    101.0               101.0  \n",
      "3                     91.0                91.0  \n",
      "4                     46.0                46.0  \n",
      "5                     45.0                45.0  \n",
      "6                     41.0                41.0  \n",
      "7                     36.0                36.0  \n",
      "8                     46.0                46.0  \n",
      "9                     59.0                59.0  \n"
     ]
    }
   ],
   "source": [
    "print(df3.head(10))"
   ]
  },
  {
   "cell_type": "code",
   "execution_count": 307,
   "id": "c91866df",
   "metadata": {},
   "outputs": [],
   "source": [
    "df3['month_year'] = pd.to_datetime(df3['date']).dt.to_period('M')\n",
    "df3['month'] = df['date'].dt.month"
   ]
  },
  {
   "cell_type": "markdown",
   "id": "13cb4b35",
   "metadata": {},
   "source": [
    "My original question was to see if there were specific days that people came in for particular transactions. I added the `month_year` column to see which month was the highest per store."
   ]
  },
  {
   "cell_type": "code",
   "execution_count": 308,
   "id": "f614f043",
   "metadata": {},
   "outputs": [
    {
     "name": "stdout",
     "output_type": "stream",
     "text": [
      "        date                        store_name              city state  \\\n",
      "0 2014-12-22       3351 - Albuquerque, NM (XF)       Albuquerque    NM   \n",
      "1 2014-12-22          3352 - Lakewood, CO (XF)          Lakewood    CO   \n",
      "2 2014-12-22  3353 - Colorado Springs, CO (XF)  Colorado Springs    CO   \n",
      "3 2014-12-22          3354 - Thornton, CO (XF)          Thornton    CO   \n",
      "4 2014-12-22           3356 - Boulder, CO (XF)           Boulder    CO   \n",
      "\n",
      "   door_swings  equipment_transactions  payment_transactions  \\\n",
      "0          656                     0.0                   0.0   \n",
      "1          452                     0.0                   0.0   \n",
      "2          562                     0.0                   0.0   \n",
      "3          594                     0.0                   0.0   \n",
      "4          369                     0.0                   0.0   \n",
      "\n",
      "   work_order_transactions  total_transactions month_year  month  \n",
      "0                     63.0                63.0    2014-12     12  \n",
      "1                     77.0                77.0    2014-12     12  \n",
      "2                    101.0               101.0    2014-12     12  \n",
      "3                     91.0                91.0    2014-12     12  \n",
      "4                     46.0                46.0    2014-12     12  \n"
     ]
    }
   ],
   "source": [
    "print(df3.head())"
   ]
  },
  {
   "cell_type": "code",
   "execution_count": 309,
   "id": "8e82d507",
   "metadata": {},
   "outputs": [
    {
     "name": "stdout",
     "output_type": "stream",
     "text": [
      "<class 'pandas.core.frame.DataFrame'>\n",
      "Int64Index: 74789 entries, 0 to 74788\n",
      "Data columns (total 11 columns):\n",
      " #   Column                   Non-Null Count  Dtype         \n",
      "---  ------                   --------------  -----         \n",
      " 0   date                     74789 non-null  datetime64[ns]\n",
      " 1   store_name               74789 non-null  object        \n",
      " 2   city                     74789 non-null  object        \n",
      " 3   state                    74789 non-null  object        \n",
      " 4   door_swings              74789 non-null  int64         \n",
      " 5   equipment_transactions   74034 non-null  float64       \n",
      " 6   payment_transactions     74034 non-null  float64       \n",
      " 7   work_order_transactions  74034 non-null  float64       \n",
      " 8   total_transactions       74034 non-null  float64       \n",
      " 9   month_year               74789 non-null  period[M]     \n",
      " 10  month                    74789 non-null  int64         \n",
      "dtypes: datetime64[ns](1), float64(4), int64(2), object(3), period[M](1)\n",
      "memory usage: 6.8+ MB\n"
     ]
    }
   ],
   "source": [
    "df3.info()"
   ]
  },
  {
   "cell_type": "markdown",
   "id": "22ccd836",
   "metadata": {},
   "source": [
    "#### 1.4.1.3 Analyzing the Data"
   ]
  },
  {
   "cell_type": "code",
   "execution_count": 330,
   "id": "3d564e5c",
   "metadata": {},
   "outputs": [
    {
     "name": "stdout",
     "output_type": "stream",
     "text": [
      "month_year  store_name                                      \n",
      "2021-07     59002 - Greeley - Greeley, CO (XF)                  865.0\n",
      "2021-09     59002 - Greeley - Greeley, CO (XF)                  807.0\n",
      "2021-08     59002 - Greeley - Greeley, CO (XF)                  803.0\n",
      "2021-06     59002 - Greeley - Greeley, CO (XF)                  763.0\n",
      "2021-10     59002 - Greeley - Greeley, CO (XF)                  756.0\n",
      "2021-07     59000 - Southwest Plaza - Littleton, CO (XF)        694.0\n",
      "2021-08     59000 - Southwest Plaza - Littleton, CO (XF)        667.0\n",
      "2021-10     59000 - Southwest Plaza - Littleton, CO (XF)        642.0\n",
      "2021-09     59000 - Southwest Plaza - Littleton, CO (XF)        634.0\n",
      "2021-05     59002 - Greeley - Greeley, CO (XF)                  626.0\n",
      "2021-10     59009 - South Aurora - Aurora, CO (XF)              615.0\n",
      "2021-03     59002 - Greeley - Greeley, CO (XF)                  613.0\n",
      "2021-06     59000 - Southwest Plaza - Littleton, CO (XF)        586.0\n",
      "2021-02     59002 - Greeley - Greeley, CO (XF)                  540.0\n",
      "2020-09     59002 - Greeley - Greeley, CO (XF)                  533.0\n",
      "2020-08     59002 - Greeley - Greeley, CO (XF)                  522.0\n",
      "2021-02     59000 - Southwest Plaza - Littleton, CO (XF)        510.0\n",
      "2021-10     59001 - Applewood Village - Wheat Ridge, CO (XF)    503.0\n",
      "2020-10     59002 - Greeley - Greeley, CO (XF)                  497.0\n",
      "2020-11     59002 - Greeley - Greeley, CO (XF)                  488.0\n",
      "Name: total_transactions, dtype: float64\n"
     ]
    }
   ],
   "source": [
    "store_month_total_trans_max = df3.groupby(['month_year','store_name'])['total_transactions'].max()\n",
    "print(store_month_total_trans_max.sort_values(ascending=False).head(20))"
   ]
  },
  {
   "cell_type": "markdown",
   "id": "ee4d10e3",
   "metadata": {},
   "source": [
    "Greeley had the highest amount of transactions in a month. Our stores were only open 10 hours a day, so the Greeley store averaged 86.5 transactions per hour!"
   ]
  },
  {
   "cell_type": "code",
   "execution_count": 331,
   "id": "96d2e816",
   "metadata": {},
   "outputs": [
    {
     "name": "stdout",
     "output_type": "stream",
     "text": [
      "month_year  store_name                 \n",
      "2018-08     3351 - Albuquerque, NM (XF)    318.870968\n",
      "2018-07     3351 - Albuquerque, NM (XF)    306.096774\n",
      "2018-06     3351 - Albuquerque, NM (XF)    295.033333\n",
      "2017-06     3351 - Albuquerque, NM (XF)    293.766667\n",
      "2018-09     3351 - Albuquerque, NM (XF)    284.233333\n",
      "2017-08     3351 - Albuquerque, NM (XF)    277.193548\n",
      "2018-10     3351 - Albuquerque, NM (XF)    274.193548\n",
      "2017-07     3351 - Albuquerque, NM (XF)    273.709677\n",
      "2018-05     3351 - Albuquerque, NM (XF)    273.129032\n",
      "2019-08     3356 - Boulder, CO (XF)        272.806452\n",
      "Name: total_transactions, dtype: float64\n"
     ]
    }
   ],
   "source": [
    "store_month_total_trans_avg = df3.groupby(['month_year','store_name'])['total_transactions'].mean()\n",
    "print(store_month_total_trans_avg.sort_values(ascending=False).head(10))"
   ]
  },
  {
   "cell_type": "markdown",
   "id": "6705baa3",
   "metadata": {},
   "source": [
    "Even though Greeley had the highest amount of transactions in a day, Albuquerque has a lot more average total transactions."
   ]
  },
  {
   "cell_type": "code",
   "execution_count": 131,
   "id": "3ff298d4",
   "metadata": {},
   "outputs": [
    {
     "name": "stdout",
     "output_type": "stream",
     "text": [
      "month_year  store_name                                     \n",
      "2019-09     3355 - Las Cruces, NM (XF)                         170.0\n",
      "2022-07     3351 - Albuquerque, NM (XF)                        166.0\n",
      "            3362 - Pueblo, CO (XF)                             166.0\n",
      "2018-07     3352 - Lakewood, CO (XF)                           163.0\n",
      "2022-07     3355 - Las Cruces, NM (XF)                         155.0\n",
      "2017-11     3351 - Albuquerque, NM (XF)                        140.0\n",
      "2022-07     3367 - Animas Valley Mall - Farmington, NM (XF)    135.0\n",
      "2022-08     3362 - Pueblo, CO (XF)                             130.0\n",
      "2018-02     3353 - Colorado Springs, CO (XF)                   129.0\n",
      "2018-11     3351 - Albuquerque, NM (XF)                        128.0\n",
      "Name: payment_transactions, dtype: float64\n"
     ]
    }
   ],
   "source": [
    "store_month_payment_trans_max = df3.groupby(['month_year','store_name'])['payment_transactions'].max()\n",
    "print(store_month_payment_trans_max.sort_values(ascending=False).head(10))"
   ]
  },
  {
   "cell_type": "markdown",
   "id": "b3d9c07f",
   "metadata": {},
   "source": [
    "Interestingly, the top payment months are primarily in the NM stores between July and September."
   ]
  },
  {
   "cell_type": "code",
   "execution_count": 132,
   "id": "3d2b5bf7",
   "metadata": {},
   "outputs": [
    {
     "name": "stdout",
     "output_type": "stream",
     "text": [
      "month_year  store_name                                \n",
      "2022-07     3351 - Albuquerque, NM (XF)                   67.161290\n",
      "            3365 - Gardens on Havana - Aurora, CO (XF)    67.064516\n",
      "2022-08     3365 - Gardens on Havana - Aurora, CO (XF)    59.225806\n",
      "            3351 - Albuquerque, NM (XF)                   59.096774\n",
      "2017-04     3352 - Lakewood, CO (XF)                      58.966667\n",
      "2017-06     3351 - Albuquerque, NM (XF)                   57.633333\n",
      "2022-07     3355 - Las Cruces, NM (XF)                    56.290323\n",
      "2018-07     3351 - Albuquerque, NM (XF)                   53.677419\n",
      "2018-04     3351 - Albuquerque, NM (XF)                   53.666667\n",
      "2022-08     3355 - Las Cruces, NM (XF)                    53.032258\n",
      "Name: payment_transactions, dtype: float64\n"
     ]
    }
   ],
   "source": [
    "store_month_payment_trans_avg = df3.groupby(['month_year','store_name'])['payment_transactions'].mean()\n",
    "print(store_month_payment_trans_avg.sort_values(ascending=False).head(10))"
   ]
  },
  {
   "cell_type": "markdown",
   "id": "55908b68",
   "metadata": {},
   "source": [
    "Albuquerque and the Aurora store have high payment transactions this year even though we give our customers many options to pay their bills instead of coming into the stores."
   ]
  },
  {
   "cell_type": "code",
   "execution_count": 133,
   "id": "05154ca0",
   "metadata": {},
   "outputs": [
    {
     "name": "stdout",
     "output_type": "stream",
     "text": [
      "month_year  store_name                 \n",
      "2019-04     3356 - Boulder, CO (XF)        336.0\n",
      "2021-08     3356 - Boulder, CO (XF)        256.0\n",
      "2017-07     3356 - Boulder, CO (XF)        252.0\n",
      "2019-08     3356 - Boulder, CO (XF)        252.0\n",
      "2021-07     3356 - Boulder, CO (XF)        245.0\n",
      "2017-08     3351 - Albuquerque, NM (XF)    241.0\n",
      "2018-07     3351 - Albuquerque, NM (XF)    238.0\n",
      "2018-08     3351 - Albuquerque, NM (XF)    235.0\n",
      "2018-09     3351 - Albuquerque, NM (XF)    234.0\n",
      "2018-06     3351 - Albuquerque, NM (XF)    228.0\n",
      "Name: equipment_transactions, dtype: float64\n"
     ]
    }
   ],
   "source": [
    "store_month_equipment_trans_max = df3.groupby(['month_year','store_name'])['equipment_transactions'].max()\n",
    "print(store_month_equipment_trans_max.sort_values(ascending=False).head(10))"
   ]
  },
  {
   "cell_type": "code",
   "execution_count": 134,
   "id": "76788dc0",
   "metadata": {},
   "outputs": [
    {
     "name": "stdout",
     "output_type": "stream",
     "text": [
      "month_year  store_name                 \n",
      "2018-08     3351 - Albuquerque, NM (XF)    173.193548\n",
      "2018-07     3351 - Albuquerque, NM (XF)    163.387097\n",
      "2020-08     3351 - Albuquerque, NM (XF)    163.032258\n",
      "2018-06     3351 - Albuquerque, NM (XF)    161.000000\n",
      "2017-06     3351 - Albuquerque, NM (XF)    159.233333\n",
      "2020-09     3351 - Albuquerque, NM (XF)    157.633333\n",
      "2017-07     3351 - Albuquerque, NM (XF)    150.935484\n",
      "2018-09     3351 - Albuquerque, NM (XF)    150.933333\n",
      "2018-10     3351 - Albuquerque, NM (XF)    145.258065\n",
      "2020-07     3351 - Albuquerque, NM (XF)    144.806452\n",
      "Name: equipment_transactions, dtype: float64\n"
     ]
    }
   ],
   "source": [
    "store_month_equipment_trans_avg = df3.groupby(['month_year','store_name'])['equipment_transactions'].mean()\n",
    "print(store_month_equipment_trans_avg.sort_values(ascending=False).head(10))"
   ]
  },
  {
   "cell_type": "markdown",
   "id": "13aab95d",
   "metadata": {},
   "source": [
    "Albuquerque has had the highest amount of equipment transactions out of 50 stores in our region."
   ]
  },
  {
   "cell_type": "code",
   "execution_count": 135,
   "id": "be9042a1",
   "metadata": {},
   "outputs": [
    {
     "name": "stdout",
     "output_type": "stream",
     "text": [
      "month_year  store_name                                  \n",
      "2021-07     59002 - Greeley - Greeley, CO (XF)              794.0\n",
      "2021-08     59002 - Greeley - Greeley, CO (XF)              749.0\n",
      "2021-09     59002 - Greeley - Greeley, CO (XF)              739.0\n",
      "2021-10     59002 - Greeley - Greeley, CO (XF)              692.0\n",
      "2021-06     59002 - Greeley - Greeley, CO (XF)              654.0\n",
      "2021-07     59000 - Southwest Plaza - Littleton, CO (XF)    635.0\n",
      "2021-08     59000 - Southwest Plaza - Littleton, CO (XF)    629.0\n",
      "2021-10     59000 - Southwest Plaza - Littleton, CO (XF)    591.0\n",
      "2021-05     59002 - Greeley - Greeley, CO (XF)              574.0\n",
      "2021-09     59000 - Southwest Plaza - Littleton, CO (XF)    570.0\n",
      "Name: work_order_transactions, dtype: float64\n"
     ]
    }
   ],
   "source": [
    "store_month_work_order_trans_max = df3.groupby(['month_year','store_name'])['work_order_transactions'].max()\n",
    "print(store_month_work_order_trans_max.sort_values(ascending=False).head(10))"
   ]
  },
  {
   "cell_type": "code",
   "execution_count": 136,
   "id": "6b31f458",
   "metadata": {},
   "outputs": [
    {
     "name": "stdout",
     "output_type": "stream",
     "text": [
      "month_year  store_name                      \n",
      "2015-08     3356 - Boulder, CO (XF)             131.258065\n",
      "2017-08     3356 - Boulder, CO (XF)             115.677419\n",
      "2016-08     3356 - Boulder, CO (XF)             112.741935\n",
      "2019-08     3356 - Boulder, CO (XF)             112.709677\n",
      "2018-08     3356 - Boulder, CO (XF)             108.903226\n",
      "            3353 - Colorado Springs, CO (XF)    105.000000\n",
      "2017-08     3353 - Colorado Springs, CO (XF)    100.935484\n",
      "2019-08     3353 - Colorado Springs, CO (XF)    100.838710\n",
      "2018-09     3353 - Colorado Springs, CO (XF)     99.400000\n",
      "2018-02     3353 - Colorado Springs, CO (XF)     97.750000\n",
      "Name: work_order_transactions, dtype: float64\n"
     ]
    }
   ],
   "source": [
    "store_month_work_order_trans_avg = df3.groupby(['month_year','store_name'])['work_order_transactions'].mean()\n",
    "print(store_month_work_order_trans_avg.sort_values(ascending=False).head(10))"
   ]
  },
  {
   "cell_type": "markdown",
   "id": "74963a9e",
   "metadata": {},
   "source": [
    "It is not surprising that Boulder had the most average work orders in August. During our back-to-school rush, the Boulder store gets bustling this month."
   ]
  },
  {
   "cell_type": "code",
   "execution_count": 195,
   "id": "2f0fb830",
   "metadata": {},
   "outputs": [
    {
     "name": "stdout",
     "output_type": "stream",
     "text": [
      "month_year  state\n",
      "2018-08     NM       318.870968\n",
      "2018-07     NM       306.096774\n",
      "2018-06     NM       295.033333\n",
      "2017-06     NM       293.766667\n",
      "2018-09     NM       284.233333\n",
      "2017-08     NM       277.193548\n",
      "2018-10     NM       274.193548\n",
      "2017-07     NM       273.709677\n",
      "2018-05     NM       273.129032\n",
      "2017-10     NM       271.032258\n",
      "2018-04     NM       265.200000\n",
      "2018-03     NM       264.161290\n",
      "2018-01     NM       263.677419\n",
      "2018-02     NM       258.285714\n",
      "2017-09     NM       254.166667\n",
      "2017-11     NM       253.366667\n",
      "2017-05     NM       247.451613\n",
      "2017-12     NM       245.419355\n",
      "2017-04     NM       239.400000\n",
      "2018-11     NM       195.688889\n",
      "2017-08     CO       192.572581\n",
      "2017-06     CO       178.985714\n",
      "2017-05     CO       176.944700\n",
      "2017-07     CO       176.847162\n",
      "2017-04     CO       167.857143\n",
      "2018-08     CO       164.759531\n",
      "2017-09     CO       152.648148\n",
      "2018-01     CO       149.219355\n",
      "2018-07     CO       147.744868\n",
      "2017-11     CO       146.793333\n",
      "Name: total_transactions, dtype: float64\n"
     ]
    }
   ],
   "source": [
    "state_month_total_trans_avg = df3.groupby(['month_year','state'])['total_transactions'].mean()\n",
    "print(state_month_total_trans_avg.sort_values(ascending=False).head(30))"
   ]
  },
  {
   "cell_type": "code",
   "execution_count": 197,
   "id": "366c2324",
   "metadata": {},
   "outputs": [
    {
     "name": "stdout",
     "output_type": "stream",
     "text": [
      "month_year  state\n",
      "2017-06     NM       57.633333\n",
      "2018-07     NM       53.677419\n",
      "2018-04     NM       53.666667\n",
      "2018-08     NM       51.774194\n",
      "2018-02     NM       51.714286\n",
      "2018-03     NM       51.354839\n",
      "2017-08     NM       50.903226\n",
      "2017-10     NM       50.709677\n",
      "2018-05     NM       49.064516\n",
      "2017-09     NM       48.966667\n",
      "Name: payment_transactions, dtype: float64\n"
     ]
    }
   ],
   "source": [
    "state_month_payment_trans_avg = df3.groupby(['month_year','state'])['payment_transactions'].mean()\n",
    "print(state_month_payment_trans_avg.sort_values(ascending=False).head(10))"
   ]
  },
  {
   "cell_type": "code",
   "execution_count": 209,
   "id": "514309d9",
   "metadata": {},
   "outputs": [
    {
     "data": {
      "text/plain": [
       "(array([252.,  45.,  21.,   7.,   0.,   2.,   2.,  12.,   6.]),\n",
       " array([ 0.        ,  6.4037037 , 12.80740741, 19.21111111, 25.61481481,\n",
       "        32.01851852, 38.42222222, 44.82592593, 51.22962963, 57.63333333]),\n",
       " <BarContainer object of 9 artists>)"
      ]
     },
     "execution_count": 209,
     "metadata": {},
     "output_type": "execute_result"
    },
    {
     "data": {
      "image/png": "[encoded data removed]",
      "text/plain": [
       "<Figure size 640x480 with 1 Axes>"
      ]
     },
     "metadata": {},
     "output_type": "display_data"
    }
   ],
   "source": [
    "plt.xlabel('Average Amount of Payments')\n",
    "plt.ylabel('Count')\n",
    "plt.title('Count of Average Amount of Payments in a Month')\n",
    "plt.hist(state_month_payment_trans_avg, bins=9)"
   ]
  },
  {
   "cell_type": "code",
   "execution_count": 212,
   "id": "d30acc54",
   "metadata": {},
   "outputs": [
    {
     "name": "stdout",
     "output_type": "stream",
     "text": [
      "month_year  state\n",
      "2018-08     NM       173.193548\n",
      "2018-07     NM       163.387097\n",
      "2018-06     NM       161.000000\n",
      "2017-06     NM       159.233333\n",
      "2017-07     NM       150.935484\n",
      "2018-09     NM       150.933333\n",
      "2018-10     NM       145.258065\n",
      "2018-05     NM       142.967742\n",
      "2017-08     NM       142.322581\n",
      "2018-04     NM       132.966667\n",
      "Name: equipment_transactions, dtype: float64\n"
     ]
    }
   ],
   "source": [
    "state_month_equipment_trans_avg = df3.groupby(['month_year','state'])['equipment_transactions'].mean()\n",
    "print(state_month_equipment_trans_avg.sort_values(ascending=False).head(10))"
   ]
  },
  {
   "cell_type": "code",
   "execution_count": 214,
   "id": "309bb4be",
   "metadata": {},
   "outputs": [
    {
     "data": {
      "text/plain": [
       "(array([ 81.,  43., 121.,  64.,  14.,   5.,   1.,   9.,   5.,   4.]),\n",
       " array([  0.        ,  17.31935484,  34.63870968,  51.95806452,\n",
       "         69.27741935,  86.59677419, 103.91612903, 121.23548387,\n",
       "        138.55483871, 155.87419355, 173.19354839]),\n",
       " <BarContainer object of 10 artists>)"
      ]
     },
     "execution_count": 214,
     "metadata": {},
     "output_type": "execute_result"
    },
    {
     "data": {
      "image/png": "[encoded data removed]",
      "text/plain": [
       "<Figure size 640x480 with 1 Axes>"
      ]
     },
     "metadata": {},
     "output_type": "display_data"
    }
   ],
   "source": [
    "plt.xlabel('Average Amount of Equipment Transactions')\n",
    "plt.ylabel('Count')\n",
    "plt.title('Count of Average Amount of Equipment Transactions')\n",
    "plt.hist(state_month_equipment_trans_avg)"
   ]
  },
  {
   "cell_type": "code",
   "execution_count": 193,
   "id": "ec0519bd",
   "metadata": {},
   "outputs": [
    {
     "name": "stdout",
     "output_type": "stream",
     "text": [
      "month_day  state\n",
      "08-01      CO       88.736434\n",
      "10-01      CO       76.631579\n",
      "09-01      CO       74.806202\n",
      "06-01      CO       74.142857\n",
      "07-01      CO       72.666667\n",
      "05-01      CO       61.898305\n",
      "02-29      AZ       61.000000\n",
      "           NM       60.400000\n",
      "03-01      CO       59.521368\n",
      "12-01      CO       59.336364\n",
      "02-01      CO       59.008547\n",
      "08-03      NM       56.100000\n",
      "08-10      NM       54.500000\n",
      "07-01      NM       54.315789\n",
      "08-17      NM       54.000000\n",
      "02-29      UT       53.727273\n",
      "08-15      NM       53.600000\n",
      "08-31      NM       53.050000\n",
      "08-24      NM       52.850000\n",
      "07-29      NM       52.700000\n",
      "Name: work_order_transactions, dtype: float64\n"
     ]
    }
   ],
   "source": [
    "state_month_work_order_trans_avg = df3.groupby(['month_year','state'])['work_order_transactions'].mean()\n",
    "print(state_day_work_order_trans_avg.sort_values(ascending=False).head(20))"
   ]
  },
  {
   "cell_type": "code",
   "execution_count": 220,
   "id": "748795da",
   "metadata": {},
   "outputs": [
    {
     "data": {
      "text/plain": [
       "(array([16., 95., 58., 56., 31., 29., 30., 14., 12.,  6.]),\n",
       " array([12.1       , 20.28032258, 28.46064516, 36.64096774, 44.82129032,\n",
       "        53.0016129 , 61.18193548, 69.36225806, 77.54258065, 85.72290323,\n",
       "        93.90322581]),\n",
       " <BarContainer object of 10 artists>)"
      ]
     },
     "execution_count": 220,
     "metadata": {},
     "output_type": "execute_result"
    },
    {
     "data": {
      "image/png": "[encoded data removed]",
      "text/plain": [
       "<Figure size 640x480 with 1 Axes>"
      ]
     },
     "metadata": {},
     "output_type": "display_data"
    }
   ],
   "source": [
    "plt.xlabel('Average Amount of Work Order Transactions')\n",
    "plt.ylabel('Count')\n",
    "plt.title('Count of Average Amount of Work Order Transactions')\n",
    "plt.hist(state_month_work_order_trans_avg)"
   ]
  },
  {
   "cell_type": "code",
   "execution_count": 166,
   "id": "e647dc19",
   "metadata": {},
   "outputs": [
    {
     "data": {
      "text/plain": [
       "<AxesSubplot:>"
      ]
     },
     "execution_count": 166,
     "metadata": {},
     "output_type": "execute_result"
    },
    {
     "data": {
      "image/png": "[encoded data removed]",
      "text/plain": [
       "<Figure size 1200x1000 with 2 Axes>"
      ]
     },
     "metadata": {},
     "output_type": "display_data"
    }
   ],
   "source": [
    "plt.subplots(figsize=(12,10))\n",
    "sns.heatmap(df3.corr())"
   ]
  },
  {
   "cell_type": "markdown",
   "id": "b82072c1",
   "metadata": {},
   "source": [
    "### 1.4.2 Hypothesis #2"
   ]
  },
  {
   "cell_type": "markdown",
   "id": "be9d61ed",
   "metadata": {},
   "source": [
    "I would like to research if there are certain days when customers want to come in more often."
   ]
  },
  {
   "cell_type": "markdown",
   "id": "5c95283c",
   "metadata": {},
   "source": [
    "#### 1.4.1.1 Explore the Data"
   ]
  },
  {
   "cell_type": "code",
   "execution_count": 151,
   "id": "56d6a852",
   "metadata": {},
   "outputs": [],
   "source": [
    "df4 = pd.merge(df,df2, how='left')"
   ]
  },
  {
   "cell_type": "code",
   "execution_count": 152,
   "id": "4151d3b0",
   "metadata": {},
   "outputs": [],
   "source": [
    "df4['month_day'] = df['date'].dt.strftime('%m-%d')\n",
    "df4['year'] = df['date'].dt.year"
   ]
  },
  {
   "cell_type": "code",
   "execution_count": 153,
   "id": "6e0d58fe",
   "metadata": {},
   "outputs": [
    {
     "name": "stdout",
     "output_type": "stream",
     "text": [
      "            date                                         store_name  \\\n",
      "0     2014-12-22                        3351 - Albuquerque, NM (XF)   \n",
      "1     2014-12-22                           3352 - Lakewood, CO (XF)   \n",
      "2     2014-12-22                   3353 - Colorado Springs, CO (XF)   \n",
      "3     2014-12-22                           3354 - Thornton, CO (XF)   \n",
      "4     2014-12-22                            3356 - Boulder, CO (XF)   \n",
      "...          ...                                                ...   \n",
      "74784 2022-11-20  59034 - Highbury Centre - West Valley City, UT...   \n",
      "74785 2022-11-20            59038 -  Diamond Plaza - Ogden, UT (XF)   \n",
      "74786 2022-11-20  59046 - Broadmoor Towne Center - Colorado Spri...   \n",
      "74787 2022-11-20                   59055 - Albuquerque, NM (Uptown)   \n",
      "74788 2022-11-20          59056 - Albuquerque, NM (Cottonwood) (BP)   \n",
      "\n",
      "                   city state  door_swings  equipment_transactions  \\\n",
      "0           Albuquerque    NM          656                     0.0   \n",
      "1              Lakewood    CO          452                     0.0   \n",
      "2      Colorado Springs    CO          562                     0.0   \n",
      "3              Thornton    CO          594                     0.0   \n",
      "4               Boulder    CO          369                     0.0   \n",
      "...                 ...   ...          ...                     ...   \n",
      "74784  West Valley City    UT            0                    17.0   \n",
      "74785             Ogden    UT            0                    28.0   \n",
      "74786  Colorado Springs    CO            0                    50.0   \n",
      "74787       Albuquerque    NM            0                    13.0   \n",
      "74788       Albuquerque    NM            0                    27.0   \n",
      "\n",
      "       payment_transactions  work_order_transactions  total_transactions  \\\n",
      "0                       0.0                     63.0                63.0   \n",
      "1                       0.0                     77.0                77.0   \n",
      "2                       0.0                    101.0               101.0   \n",
      "3                       0.0                     91.0                91.0   \n",
      "4                       0.0                     46.0                46.0   \n",
      "...                     ...                      ...                 ...   \n",
      "74784                   0.0                     15.0                32.0   \n",
      "74785                   0.0                     12.0                40.0   \n",
      "74786                   0.0                     14.0                64.0   \n",
      "74787                   0.0                      9.0                22.0   \n",
      "74788                   0.0                     12.0                39.0   \n",
      "\n",
      "      month_day  year  \n",
      "0         12-22  2014  \n",
      "1         12-22  2014  \n",
      "2         12-22  2014  \n",
      "3         12-22  2014  \n",
      "4         12-22  2014  \n",
      "...         ...   ...  \n",
      "74784     11-20  2022  \n",
      "74785     11-20  2022  \n",
      "74786     11-20  2022  \n",
      "74787     11-20  2022  \n",
      "74788     11-20  2022  \n",
      "\n",
      "[74789 rows x 11 columns]\n"
     ]
    }
   ],
   "source": [
    "print(df4)"
   ]
  },
  {
   "cell_type": "markdown",
   "id": "23d684ef",
   "metadata": {},
   "source": [
    "#### 1.4.2.2 Analyzing the Data"
   ]
  },
  {
   "cell_type": "code",
   "execution_count": 154,
   "id": "addbd10f",
   "metadata": {},
   "outputs": [
    {
     "name": "stdout",
     "output_type": "stream",
     "text": [
      "month_day  year  store_name                                  \n",
      "07-01      2021  59002 - Greeley - Greeley, CO (XF)              865.0\n",
      "09-01      2021  59002 - Greeley - Greeley, CO (XF)              807.0\n",
      "08-01      2021  59002 - Greeley - Greeley, CO (XF)              803.0\n",
      "06-01      2021  59002 - Greeley - Greeley, CO (XF)              763.0\n",
      "10-01      2021  59002 - Greeley - Greeley, CO (XF)              756.0\n",
      "07-01      2021  59000 - Southwest Plaza - Littleton, CO (XF)    694.0\n",
      "08-01      2021  59000 - Southwest Plaza - Littleton, CO (XF)    667.0\n",
      "10-01      2021  59000 - Southwest Plaza - Littleton, CO (XF)    642.0\n",
      "09-01      2021  59000 - Southwest Plaza - Littleton, CO (XF)    634.0\n",
      "05-01      2021  59002 - Greeley - Greeley, CO (XF)              626.0\n",
      "Name: total_transactions, dtype: float64\n"
     ]
    }
   ],
   "source": [
    "store_day_total_trans_max = df4.groupby(['month_day','year','store_name'])['total_transactions'].max()\n",
    "print(store_day_total_trans_max.sort_values(ascending=False).head(10))"
   ]
  },
  {
   "cell_type": "code",
   "execution_count": 162,
   "id": "d0ca57cb",
   "metadata": {},
   "outputs": [
    {
     "name": "stdout",
     "output_type": "stream",
     "text": [
      "month_day  store_name                                  \n",
      "09-01      59002 - Greeley - Greeley, CO (XF)              377.50\n",
      "08-01      59002 - Greeley - Greeley, CO (XF)              367.75\n",
      "07-01      59002 - Greeley - Greeley, CO (XF)              367.50\n",
      "06-01      59002 - Greeley - Greeley, CO (XF)              364.75\n",
      "10-01      59002 - Greeley - Greeley, CO (XF)              364.25\n",
      "07-01      59000 - Southwest Plaza - Littleton, CO (XF)    348.00\n",
      "08-01      59000 - Southwest Plaza - Littleton, CO (XF)    342.50\n",
      "10-01      59000 - Southwest Plaza - Littleton, CO (XF)    320.25\n",
      "09-01      59000 - Southwest Plaza - Littleton, CO (XF)    307.75\n",
      "02-01      59002 - Greeley - Greeley, CO (XF)              296.00\n",
      "Name: total_transactions, dtype: float64\n"
     ]
    }
   ],
   "source": [
    "store_day_total_trans_avg = df4.groupby(['month_day','store_name'])['total_transactions'].mean()\n",
    "print(store_day_total_trans_avg.sort_values(ascending=False).head(10))"
   ]
  },
  {
   "cell_type": "code",
   "execution_count": 156,
   "id": "11ea954e",
   "metadata": {},
   "outputs": [
    {
     "name": "stdout",
     "output_type": "stream",
     "text": [
      "month_day  year  store_name                                     \n",
      "09-03      2019  3355 - Las Cruces, NM (XF)                         170.0\n",
      "07-01      2022  3351 - Albuquerque, NM (XF)                        166.0\n",
      "                 3362 - Pueblo, CO (XF)                             166.0\n",
      "07-03      2018  3352 - Lakewood, CO (XF)                           163.0\n",
      "07-01      2022  3355 - Las Cruces, NM (XF)                         155.0\n",
      "11-03      2017  3351 - Albuquerque, NM (XF)                        140.0\n",
      "07-01      2022  3367 - Animas Valley Mall - Farmington, NM (XF)    135.0\n",
      "08-03      2022  3362 - Pueblo, CO (XF)                             130.0\n",
      "02-14      2018  3353 - Colorado Springs, CO (XF)                   129.0\n",
      "11-02      2018  3351 - Albuquerque, NM (XF)                        128.0\n",
      "Name: payment_transactions, dtype: float64\n"
     ]
    }
   ],
   "source": [
    "store_day_payment_trans_max = df4.groupby(['month_day','year','store_name'])['payment_transactions'].max()\n",
    "print(store_day_payment_trans_max.sort_values(ascending=False).head(10))"
   ]
  },
  {
   "cell_type": "markdown",
   "id": "10bee47c",
   "metadata": {},
   "source": [
    "The first five days of the calendar month are busy with payments since customers receive their benefits from the government."
   ]
  },
  {
   "cell_type": "code",
   "execution_count": 158,
   "id": "f7164186",
   "metadata": {},
   "outputs": [
    {
     "name": "stdout",
     "output_type": "stream",
     "text": [
      "month_day  store_name                 \n",
      "07-01      3355 - Las Cruces, NM (XF)     48.000\n",
      "11-01      3355 - Las Cruces, NM (XF)     47.750\n",
      "09-03      3355 - Las Cruces, NM (XF)     45.750\n",
      "08-03      3351 - Albuquerque, NM (XF)    45.625\n",
      "11-03      3351 - Albuquerque, NM (XF)    44.500\n",
      "08-01      3355 - Las Cruces, NM (XF)     43.000\n",
      "07-03      3351 - Albuquerque, NM (XF)    42.500\n",
      "08-02      3351 - Albuquerque, NM (XF)    42.250\n",
      "11-02      3351 - Albuquerque, NM (XF)    41.375\n",
      "07-01      3351 - Albuquerque, NM (XF)    40.625\n",
      "Name: payment_transactions, dtype: float64\n"
     ]
    }
   ],
   "source": [
    "store_day_payment_trans_avg = df4.groupby(['month_day','store_name'])['payment_transactions'].mean()\n",
    "print(store_day_payment_trans_avg.sort_values(ascending=False).head(10))"
   ]
  },
  {
   "cell_type": "markdown",
   "id": "e88cfdae",
   "metadata": {},
   "source": [
    "Las Cruces and Albuquerque have the largest amount of average payments on the first three days of the month."
   ]
  },
  {
   "cell_type": "code",
   "execution_count": 146,
   "id": "267bbbd9",
   "metadata": {},
   "outputs": [
    {
     "name": "stdout",
     "output_type": "stream",
     "text": [
      "month_day  year  store_name                 \n",
      "04-30      2019  3356 - Boulder, CO (XF)        336.0\n",
      "08-02      2021  3356 - Boulder, CO (XF)        256.0\n",
      "08-12      2019  3356 - Boulder, CO (XF)        252.0\n",
      "07-31      2017  3356 - Boulder, CO (XF)        252.0\n",
      "           2021  3356 - Boulder, CO (XF)        245.0\n",
      "08-14      2017  3351 - Albuquerque, NM (XF)    241.0\n",
      "07-27      2018  3351 - Albuquerque, NM (XF)    238.0\n",
      "07-30      2018  3351 - Albuquerque, NM (XF)    237.0\n",
      "08-06      2018  3351 - Albuquerque, NM (XF)    235.0\n",
      "09-01      2018  3351 - Albuquerque, NM (XF)    234.0\n",
      "Name: equipment_transactions, dtype: float64\n"
     ]
    }
   ],
   "source": [
    "store_day_equipment_trans_max = df4.groupby(['month_day','year','store_name'])['equipment_transactions'].max()\n",
    "print(store_day_equipment_trans_max.sort_values(ascending=False).head(10))"
   ]
  },
  {
   "cell_type": "code",
   "execution_count": 160,
   "id": "ff924ff8",
   "metadata": {},
   "outputs": [
    {
     "name": "stdout",
     "output_type": "stream",
     "text": [
      "month_day  store_name                                  \n",
      "07-31      3356 - Boulder, CO (XF)                         146.375\n",
      "07-30      3356 - Boulder, CO (XF)                         128.250\n",
      "02-29      59002 - Greeley - Greeley, CO (XF)              126.000\n",
      "           3460 - Jordan Landing - West Jordan, UT (XF)    124.000\n",
      "           59000 - Southwest Plaza - Littleton, CO (XF)    124.000\n",
      "07-31      3358 - Denver, CO (XF)                          122.000\n",
      "06-29      3351 - Albuquerque, NM (XF)                     113.000\n",
      "08-24      3351 - Albuquerque, NM (XF)                     112.750\n",
      "07-31      3351 - Albuquerque, NM (XF)                     112.250\n",
      "07-27      3351 - Albuquerque, NM (XF)                     111.625\n",
      "Name: equipment_transactions, dtype: float64\n"
     ]
    }
   ],
   "source": [
    "store_day_equipment_trans_max = df4.groupby(['month_day','store_name'])['equipment_transactions'].mean()\n",
    "print(store_day_equipment_trans_max.sort_values(ascending=False).head(10))"
   ]
  },
  {
   "cell_type": "code",
   "execution_count": 148,
   "id": "8caa969c",
   "metadata": {},
   "outputs": [
    {
     "name": "stdout",
     "output_type": "stream",
     "text": [
      "month_day  year  store_name                                  \n",
      "07-01      2021  59002 - Greeley - Greeley, CO (XF)              794.0\n",
      "08-01      2021  59002 - Greeley - Greeley, CO (XF)              749.0\n",
      "09-01      2021  59002 - Greeley - Greeley, CO (XF)              739.0\n",
      "10-01      2021  59002 - Greeley - Greeley, CO (XF)              692.0\n",
      "06-01      2021  59002 - Greeley - Greeley, CO (XF)              654.0\n",
      "07-01      2021  59000 - Southwest Plaza - Littleton, CO (XF)    635.0\n",
      "08-01      2021  59000 - Southwest Plaza - Littleton, CO (XF)    629.0\n",
      "10-01      2021  59000 - Southwest Plaza - Littleton, CO (XF)    591.0\n",
      "05-01      2021  59002 - Greeley - Greeley, CO (XF)              574.0\n",
      "09-01      2021  59000 - Southwest Plaza - Littleton, CO (XF)    570.0\n",
      "Name: work_order_transactions, dtype: float64\n"
     ]
    }
   ],
   "source": [
    "store_day_work_order_trans_max = df4.groupby(['month_day','year','store_name'])['work_order_transactions'].max()\n",
    "print(store_day_work_order_trans_max.sort_values(ascending=False).head(10))"
   ]
  },
  {
   "cell_type": "code",
   "execution_count": 169,
   "id": "fdd45c17",
   "metadata": {},
   "outputs": [
    {
     "name": "stdout",
     "output_type": "stream",
     "text": [
      "month_day  store_name                                  \n",
      "08-01      59002 - Greeley - Greeley, CO (XF)              308.25\n",
      "09-01      59002 - Greeley - Greeley, CO (XF)              303.00\n",
      "07-01      59002 - Greeley - Greeley, CO (XF)              300.50\n",
      "10-01      59002 - Greeley - Greeley, CO (XF)              294.00\n",
      "08-01      59000 - Southwest Plaza - Littleton, CO (XF)    280.25\n",
      "07-01      59000 - Southwest Plaza - Littleton, CO (XF)    278.50\n",
      "06-01      59002 - Greeley - Greeley, CO (XF)              269.50\n",
      "10-01      59000 - Southwest Plaza - Littleton, CO (XF)    258.25\n",
      "09-01      59000 - Southwest Plaza - Littleton, CO (XF)    253.25\n",
      "05-01      59002 - Greeley - Greeley, CO (XF)              234.25\n",
      "Name: work_order_transactions, dtype: float64\n"
     ]
    }
   ],
   "source": [
    "store_day_work_order_trans_avg = df4.groupby(['month_day','store_name'])['work_order_transactions'].mean()\n",
    "print(store_day_work_order_trans_avg.sort_values(ascending=False).head(10))"
   ]
  },
  {
   "cell_type": "markdown",
   "id": "f6574ba2",
   "metadata": {},
   "source": [
    "I was interested to see how the data breaks up by state instead of by store."
   ]
  },
  {
   "cell_type": "code",
   "execution_count": 183,
   "id": "5204938d",
   "metadata": {},
   "outputs": [
    {
     "name": "stdout",
     "output_type": "stream",
     "text": [
      "month_day  state\n",
      "08-01      CO       159.565891\n",
      "02-29      AZ       158.000000\n",
      "07-01      NM       156.947368\n",
      "08-03      NM       152.100000\n",
      "08-31      NM       142.950000\n",
      "06-01      CO       141.680672\n",
      "08-10      NM       141.350000\n",
      "08-01      NM       140.550000\n",
      "07-29      NM       139.800000\n",
      "07-01      CO       138.246032\n",
      "08-15      NM       137.000000\n",
      "07-02      NM       136.894737\n",
      "08-19      NM       135.750000\n",
      "06-29      NM       135.631579\n",
      "08-02      NM       134.600000\n",
      "Name: total_transactions, dtype: float64\n"
     ]
    }
   ],
   "source": [
    "state_day_total_trans_avg = df4.groupby(['month_day','state'])['total_transactions'].mean()\n",
    "print(state_day_total_trans_avg.sort_values(ascending=False).head(15))"
   ]
  },
  {
   "cell_type": "markdown",
   "id": "caabbe36",
   "metadata": {},
   "source": [
    "I found it interesting that AZ has the second highest average transactions on a leap year date."
   ]
  },
  {
   "cell_type": "code",
   "execution_count": 189,
   "id": "dd1813b7",
   "metadata": {},
   "outputs": [
    {
     "name": "stdout",
     "output_type": "stream",
     "text": [
      "month_day  state\n",
      "07-01      NM       40.105263\n",
      "08-03      NM       34.150000\n",
      "11-01      NM       32.045455\n",
      "07-05      NM       31.947368\n",
      "08-02      NM       31.050000\n",
      "08-01      NM       30.400000\n",
      "11-03      NM       28.500000\n",
      "07-15      NM       26.650000\n",
      "11-02      NM       26.227273\n",
      "07-06      NM       25.842105\n",
      "07-12      NM       25.700000\n",
      "08-04      NM       25.650000\n",
      "11-04      NM       25.272727\n",
      "07-03      NM       24.473684\n",
      "08-31      NM       23.900000\n",
      "07-02      NM       23.684211\n",
      "08-15      NM       23.500000\n",
      "06-30      NM       23.000000\n",
      "08-10      NM       22.800000\n",
      "02-05      NM       22.333333\n",
      "07-29      NM       22.100000\n",
      "08-12      NM       21.900000\n",
      "08-05      NM       21.900000\n",
      "08-30      NM       21.800000\n",
      "11-07      NM       21.681818\n",
      "09-21      NM       21.666667\n",
      "07-08      NM       21.600000\n",
      "07-19      NM       21.350000\n",
      "07-16      NM       21.350000\n",
      "08-08      NM       21.300000\n",
      "07-13      NM       21.300000\n",
      "08-19      NM       21.250000\n",
      "08-16      NM       21.250000\n",
      "06-28      NM       21.210526\n",
      "08-09      NM       21.100000\n",
      "08-22      NM       21.050000\n",
      "07-07      NM       21.000000\n",
      "06-27      NM       20.947368\n",
      "07-11      NM       20.900000\n",
      "12-03      NM       20.647059\n",
      "09-14      NM       20.350000\n",
      "08-17      NM       20.350000\n",
      "01-03      NM       20.315789\n",
      "06-22      NM       20.263158\n",
      "05-03      NM       20.250000\n",
      "10-31      NM       19.772727\n",
      "09-16      NM       19.761905\n",
      "09-13      NM       19.550000\n",
      "07-18      NM       19.450000\n",
      "09-15      NM       19.238095\n",
      "Name: payment_transactions, dtype: float64\n"
     ]
    }
   ],
   "source": [
    "state_day_payment_trans_avg = df4.groupby(['month_day','state'])['payment_transactions'].mean()\n",
    "print(state_day_payment_trans_avg.sort_values(ascending=False).head(50))"
   ]
  },
  {
   "cell_type": "markdown",
   "id": "a8f2ce7e",
   "metadata": {},
   "source": [
    "I wanted to see if NM was the only state with the highest payment transactions. With pulling the top 50 rows, no other states populated besides NM."
   ]
  },
  {
   "cell_type": "code",
   "execution_count": 185,
   "id": "6718bc3e",
   "metadata": {},
   "outputs": [
    {
     "name": "stdout",
     "output_type": "stream",
     "text": [
      "month_day  state\n",
      "02-29      AZ       96.000000\n",
      "06-29      NM       67.421053\n",
      "07-31      CO       67.077519\n",
      "           NM       67.000000\n",
      "08-31      NM       66.000000\n",
      "08-24      NM       65.850000\n",
      "07-27      NM       65.150000\n",
      "07-29      NM       65.000000\n",
      "07-30      NM       64.600000\n",
      "07-02      NM       64.421053\n",
      "08-14      NM       64.200000\n",
      "08-10      NM       64.050000\n",
      "08-18      NM       64.000000\n",
      "08-13      NM       63.750000\n",
      "08-01      CO       63.015504\n",
      "Name: equipment_transactions, dtype: float64\n"
     ]
    }
   ],
   "source": [
    "state_day_equipment_trans_max = df4.groupby(['month_day','state'])['equipment_transactions'].mean()\n",
    "print(state_day_equipment_trans_max.sort_values(ascending=False).head(15))"
   ]
  },
  {
   "cell_type": "code",
   "execution_count": 186,
   "id": "2c9143e1",
   "metadata": {},
   "outputs": [
    {
     "name": "stdout",
     "output_type": "stream",
     "text": [
      "month_day  state\n",
      "08-01      CO       88.736434\n",
      "10-01      CO       76.631579\n",
      "09-01      CO       74.806202\n",
      "06-01      CO       74.142857\n",
      "07-01      CO       72.666667\n",
      "05-01      CO       61.898305\n",
      "02-29      AZ       61.000000\n",
      "           NM       60.400000\n",
      "03-01      CO       59.521368\n",
      "12-01      CO       59.336364\n",
      "02-01      CO       59.008547\n",
      "08-03      NM       56.100000\n",
      "08-10      NM       54.500000\n",
      "07-01      NM       54.315789\n",
      "08-17      NM       54.000000\n",
      "Name: work_order_transactions, dtype: float64\n"
     ]
    }
   ],
   "source": [
    "state_day_work_order_trans_avg = df4.groupby(['month_day','state'])['work_order_transactions'].mean()\n",
    "print(state_day_work_order_trans_avg.sort_values(ascending=False).head(15))"
   ]
  },
  {
   "cell_type": "code",
   "execution_count": 165,
   "id": "83566abf",
   "metadata": {},
   "outputs": [
    {
     "data": {
      "text/plain": [
       "<AxesSubplot:>"
      ]
     },
     "execution_count": 165,
     "metadata": {},
     "output_type": "execute_result"
    },
    {
     "data": {
      "image/png": "[encoded data removed]",
      "text/plain": [
       "<Figure size 1200x1000 with 2 Axes>"
      ]
     },
     "metadata": {},
     "output_type": "display_data"
    }
   ],
   "source": [
    "plt.subplots(figsize=(12,10))\n",
    "sns.heatmap(df4.corr())"
   ]
  },
  {
   "cell_type": "markdown",
   "id": "1e1d1684",
   "metadata": {},
   "source": [
    "## 1.5 Summary"
   ]
  },
  {
   "cell_type": "markdown",
   "id": "adb9c72c",
   "metadata": {},
   "source": [
    "In this analysis, we found that customers like to make payments in the first five days of the week. Customers normally receive their benefits (social security, state benefits) in the first week of the month. On both heatmaps, total transactions and work order transactions have a pretty close relationship with door swings."
   ]
  }
 ],
 "metadata": {
  "kernelspec": {
   "display_name": "Python 3 (ipykernel)",
   "language": "python",
   "name": "python3"
  },
  "language_info": {
   "codemirror_mode": {
    "name": "ipython",
    "version": 3
   },
   "file_extension": ".py",
   "mimetype": "text/x-python",
   "name": "python",
   "nbconvert_exporter": "python",
   "pygments_lexer": "ipython3",
   "version": "3.9.13"
  }
 },
 "nbformat": 4,
 "nbformat_minor": 5
}
