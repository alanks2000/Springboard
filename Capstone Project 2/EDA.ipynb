{
 "cells": [
  {
   "cell_type": "markdown",
   "id": "00902821",
   "metadata": {},
   "source": [
    "# Exploratory Data Analysis<a id='Exploratory_Data_Analysis'></a>"
   ]
  },
  {
   "cell_type": "markdown",
   "id": "1eccde51",
   "metadata": {},
   "source": [
    "## 1.1 Contents<a id='3.1_Contents'></a>\n",
    "* [1 Exploratory Data Analysis](#3_Exploratory_Data_Analysis)\n",
    "  * [1.1 Imports](#1.1_Imports)\n",
    "  * [1.2 Load The Data](#1.2_Load_The_Data)\n",
    "  * [1.3 Explore The Data](#1.3_Explore_The_Data)\n",
    "    * [1.3.1 Visualizing High Dimensional Data](#1.3.1_Visualizing_High_Dimensional_Data)\n",
    "      * [1.3.1.1 Average Door Swings Per State](#1.3.1.1_Average_Door_Swings_Per_State)"
   ]
  },
  {
   "cell_type": "markdown",
   "id": "4c76411c",
   "metadata": {},
   "source": [
    "### 1.1 Imports"
   ]
  },
  {
   "cell_type": "code",
   "execution_count": 42,
   "id": "23535522",
   "metadata": {},
   "outputs": [],
   "source": [
    "import numpy as np\n",
    "import pandas as pd\n",
    "import pyodbc\n",
    "import matplotlib.pyplot as plt\n",
    "import seaborn as sns\n",
    "import os\n",
    "from sklearn.decomposition import PCA\n",
    "from sklearn.preprocessing import scale"
   ]
  },
  {
   "cell_type": "markdown",
   "id": "ea32fcf7",
   "metadata": {},
   "source": [
    "### 1.2 Load The Data"
   ]
  },
  {
   "cell_type": "code",
   "execution_count": 43,
   "id": "8331b777",
   "metadata": {},
   "outputs": [],
   "source": [
    "df = pd.read_excel(r'C:\\Users\\asiu200\\OneDrive - Comcast\\Python\\Springboard\\Data Wrangling.xlsx')"
   ]
  },
  {
   "cell_type": "code",
   "execution_count": 44,
   "id": "9fd13dc9",
   "metadata": {},
   "outputs": [
    {
     "name": "stdout",
     "output_type": "stream",
     "text": [
      "<class 'pandas.core.frame.DataFrame'>\n",
      "RangeIndex: 74789 entries, 0 to 74788\n",
      "Data columns (total 5 columns):\n",
      " #   Column            Non-Null Count  Dtype         \n",
      "---  ------            --------------  -----         \n",
      " 0   Traffic_Date      74789 non-null  datetime64[ns]\n",
      " 1   STORE_NAME        74789 non-null  object        \n",
      " 2   STORE_CITY_NAME   74789 non-null  object        \n",
      " 3   STORE_STATE_CODE  74789 non-null  object        \n",
      " 4   Door_Swings       74789 non-null  int64         \n",
      "dtypes: datetime64[ns](1), int64(1), object(3)\n",
      "memory usage: 2.9+ MB\n"
     ]
    }
   ],
   "source": [
    "df.info()"
   ]
  },
  {
   "cell_type": "code",
   "execution_count": 45,
   "id": "bda86468",
   "metadata": {},
   "outputs": [],
   "source": [
    "df.rename(columns={'STORE_NAME' : 'store_name', 'Traffic_Date' : 'date', 'STORE_CITY_NAME' : 'city', 'STORE_STATE_CODE' : 'state','Door_Swings' : 'door_swings'}, inplace=True)"
   ]
  },
  {
   "cell_type": "code",
   "execution_count": 46,
   "id": "b5099440",
   "metadata": {},
   "outputs": [
    {
     "data": {
      "text/html": [
       "<div>\n",
       "<style scoped>\n",
       "    .dataframe tbody tr th:only-of-type {\n",
       "        vertical-align: middle;\n",
       "    }\n",
       "\n",
       "    .dataframe tbody tr th {\n",
       "        vertical-align: top;\n",
       "    }\n",
       "\n",
       "    .dataframe thead th {\n",
       "        text-align: right;\n",
       "    }\n",
       "</style>\n",
       "<table border=\"1\" class=\"dataframe\">\n",
       "  <thead>\n",
       "    <tr style=\"text-align: right;\">\n",
       "      <th></th>\n",
       "      <th>date</th>\n",
       "      <th>store_name</th>\n",
       "      <th>city</th>\n",
       "      <th>state</th>\n",
       "      <th>door_swings</th>\n",
       "    </tr>\n",
       "  </thead>\n",
       "  <tbody>\n",
       "    <tr>\n",
       "      <th>0</th>\n",
       "      <td>2014-12-22</td>\n",
       "      <td>3351 - Albuquerque, NM (XF)</td>\n",
       "      <td>Albuquerque</td>\n",
       "      <td>NM</td>\n",
       "      <td>656</td>\n",
       "    </tr>\n",
       "    <tr>\n",
       "      <th>1</th>\n",
       "      <td>2014-12-22</td>\n",
       "      <td>3352 - Lakewood, CO (XF)</td>\n",
       "      <td>Lakewood</td>\n",
       "      <td>CO</td>\n",
       "      <td>452</td>\n",
       "    </tr>\n",
       "    <tr>\n",
       "      <th>2</th>\n",
       "      <td>2014-12-22</td>\n",
       "      <td>3353 - Colorado Springs, CO (XF)</td>\n",
       "      <td>Colorado Springs</td>\n",
       "      <td>CO</td>\n",
       "      <td>562</td>\n",
       "    </tr>\n",
       "    <tr>\n",
       "      <th>3</th>\n",
       "      <td>2014-12-22</td>\n",
       "      <td>3354 - Thornton, CO (XF)</td>\n",
       "      <td>Thornton</td>\n",
       "      <td>CO</td>\n",
       "      <td>594</td>\n",
       "    </tr>\n",
       "    <tr>\n",
       "      <th>4</th>\n",
       "      <td>2014-12-22</td>\n",
       "      <td>3356 - Boulder, CO (XF)</td>\n",
       "      <td>Boulder</td>\n",
       "      <td>CO</td>\n",
       "      <td>369</td>\n",
       "    </tr>\n",
       "  </tbody>\n",
       "</table>\n",
       "</div>"
      ],
      "text/plain": [
       "        date                        store_name              city state  \\\n",
       "0 2014-12-22       3351 - Albuquerque, NM (XF)       Albuquerque    NM   \n",
       "1 2014-12-22          3352 - Lakewood, CO (XF)          Lakewood    CO   \n",
       "2 2014-12-22  3353 - Colorado Springs, CO (XF)  Colorado Springs    CO   \n",
       "3 2014-12-22          3354 - Thornton, CO (XF)          Thornton    CO   \n",
       "4 2014-12-22           3356 - Boulder, CO (XF)           Boulder    CO   \n",
       "\n",
       "   door_swings  \n",
       "0          656  \n",
       "1          452  \n",
       "2          562  \n",
       "3          594  \n",
       "4          369  "
      ]
     },
     "execution_count": 46,
     "metadata": {},
     "output_type": "execute_result"
    }
   ],
   "source": [
    "df.head()"
   ]
  },
  {
   "cell_type": "markdown",
   "id": "f95251ce",
   "metadata": {},
   "source": [
    "### 1.3 Explore The Data"
   ]
  },
  {
   "cell_type": "code",
   "execution_count": 47,
   "id": "76b2e73f",
   "metadata": {},
   "outputs": [
    {
     "name": "stdout",
     "output_type": "stream",
     "text": [
      "3353 - Colorado Springs, CO (XF)                                2891\n",
      "3354 - Thornton, CO (XF)                                        2891\n",
      "3352 - Lakewood, CO (XF)                                        2891\n",
      "3456 - Layton2, UT (XF)                                         2887\n",
      "3357 - Centennial, CO (XF)                                      2879\n",
      "3453 - Orem, UT (XF)                                            2857\n",
      "3351 - Albuquerque, NM (XF)                                     2841\n",
      "3356 - Boulder, CO (XF)                                         2822\n",
      "3455 - Draper, UT (XF)                                          2718\n",
      "3359 - Loveland, CO (XF)                                        2489\n",
      "3360 - Arvada, CO (XF)                                          2134\n",
      "3457 - Salt Lake City, UT (XF)                                  2041\n",
      "3361 - Longmont, CO (XF)                                        1904\n",
      "3358 - Denver, CO (XF)                                          1829\n",
      "3362 - Pueblo, CO (XF)                                          1750\n",
      "3363 - Fort Collins, CO (XF)                                    1748\n",
      "3459 - Arizona Pavilions - Tucson, AZ (XF)                      1659\n",
      "3454 - Tucson - River, AZ (XF)                                  1579\n",
      "3458 - Academy Square - Logan, UT (XF)                          1531\n",
      "3365 - Gardens on Havana - Aurora, CO (XF)                      1507\n",
      "59001 - Applewood Village - Wheat Ridge, CO (XF)                1488\n",
      "3355 - Las Cruces, NM (XF)                                      1463\n",
      "3367 - Animas Valley Mall - Farmington, NM (XF)                 1454\n",
      "3368 - Prairie Center - Brighton, CO (XF)                       1411\n",
      "59002 - Greeley - Greeley, CO (XF)                              1386\n",
      "59000 - Southwest Plaza - Littleton, CO (XF)                    1382\n",
      "59008 - Southglenn/Cherry Hills - Greenwood Village, CO (XF)    1359\n",
      "3460 - Jordan Landing - West Jordan, UT (XF)                    1315\n",
      "59003 - Northfield Stapleton - Denver, CO (XF)                  1273\n",
      "3369 - Plaza Santa Fe - Santa Fe, NM (XF)                       1216\n",
      "3373 - Orchard Town Center - Westminster, CO (XF)               1196\n",
      "3372 - The Shops at NorthCreek - Denver, CO (XF)                1194\n",
      "3461 - Fashion Plaza - Murray, UT (XF)                          1168\n",
      "59009 - South Aurora - Aurora, CO (XF)                          1154\n",
      "3364 - Barnes Marketplace - Colorado Springs, CO (XF)           1107\n",
      "3403 - Park City, UT                                            1085\n",
      "3374 -Shops at Walnut Creek -Westminster, CO (XF)                958\n",
      "3371 - Crown Point - Parker, CO (XF)                             936\n",
      "3370 - Promenade at Castle Rock - Castle Rock, CO (XF)           881\n",
      "59031 - Hunter's Crossing - American Fork, UT (XF)               814\n",
      "59034 - Highbury Centre - West Valley City, UT (XF)              791\n",
      "59033 -Mountain View Village -  Riverton, UT (XF)                790\n",
      "59038 -  Diamond Plaza - Ogden, UT (XF)                          775\n",
      "59011 - River Point at Sheridan - Sheridan, CO (XF)              751\n",
      "59032 - Sugarhouse  - Salt Lake City, UT (XF)                    592\n",
      "59046 - Broadmoor Towne Center - Colorado Springs, CO (XF)       461\n",
      "3464 - Glenwood Meadows - Glenwood Springs, CO (XF)              170\n",
      "3463 - Summit Place - Silverthorne, CO (XF)                      168\n",
      "59055 - Albuquerque, NM (Uptown)                                 136\n",
      "59056 - Albuquerque, NM (Cottonwood) (BP)                         67\n",
      "Name: store_name, dtype: int64\n"
     ]
    }
   ],
   "source": [
    "print(df.store_name.value_counts())"
   ]
  },
  {
   "cell_type": "markdown",
   "id": "ff3bd081",
   "metadata": {},
   "source": [
    "There are stores that have higher amounts of data points because either they opened after 01-01-2019 or the stores have closed down and are no longer open."
   ]
  },
  {
   "cell_type": "code",
   "execution_count": 48,
   "id": "e2d1cbb4",
   "metadata": {},
   "outputs": [
    {
     "name": "stdout",
     "output_type": "stream",
     "text": [
      "state          4\n",
      "store_name    50\n",
      "dtype: int64\n"
     ]
    }
   ],
   "source": [
    "count = df[['state', 'store_name']].nunique()\n",
    "print(count)"
   ]
  },
  {
   "cell_type": "markdown",
   "id": "b066e6c7",
   "metadata": {},
   "source": [
    "We cover four states and have 50 stores in our specific region."
   ]
  },
  {
   "cell_type": "code",
   "execution_count": 49,
   "id": "d2a3dd64",
   "metadata": {},
   "outputs": [
    {
     "name": "stdout",
     "output_type": "stream",
     "text": [
      "state\n",
      "AZ     2\n",
      "CO    29\n",
      "NM     6\n",
      "UT    13\n",
      "Name: store_name, dtype: int64\n"
     ]
    }
   ],
   "source": [
    "print(df.groupby('state')['store_name'].nunique())"
   ]
  },
  {
   "cell_type": "markdown",
   "id": "e0a96392",
   "metadata": {},
   "source": [
    "Out of the four states, CO has the most stores open, while AZ has the least amount."
   ]
  },
  {
   "cell_type": "markdown",
   "id": "fefc4ac7",
   "metadata": {},
   "source": [
    "### 1.3.1 Visualizing High Dimensional Data"
   ]
  },
  {
   "cell_type": "markdown",
   "id": "643b429f",
   "metadata": {},
   "source": [
    "#### 1.3.1.1 Average Door Swings Per State"
   ]
  },
  {
   "cell_type": "code",
   "execution_count": 50,
   "id": "3bca1032",
   "metadata": {},
   "outputs": [
    {
     "data": {
      "text/plain": [
       "state\n",
       "AZ    190.512353\n",
       "CO    260.751677\n",
       "NM    377.025080\n",
       "UT    202.568478\n",
       "Name: door_swings, dtype: float64"
      ]
     },
     "execution_count": 50,
     "metadata": {},
     "output_type": "execute_result"
    }
   ],
   "source": [
    "state_avg_ds = df.groupby('state')['door_swings'].mean()\n",
    "state_avg_ds.head()"
   ]
  },
  {
   "cell_type": "code",
   "execution_count": 51,
   "id": "b8b6c6b2",
   "metadata": {},
   "outputs": [
    {
     "data": {
      "text/html": [
       "<div>\n",
       "<style scoped>\n",
       "    .dataframe tbody tr th:only-of-type {\n",
       "        vertical-align: middle;\n",
       "    }\n",
       "\n",
       "    .dataframe tbody tr th {\n",
       "        vertical-align: top;\n",
       "    }\n",
       "\n",
       "    .dataframe thead th {\n",
       "        text-align: right;\n",
       "    }\n",
       "</style>\n",
       "<table border=\"1\" class=\"dataframe\">\n",
       "  <thead>\n",
       "    <tr style=\"text-align: right;\">\n",
       "      <th></th>\n",
       "      <th>date</th>\n",
       "      <th>store_name</th>\n",
       "      <th>city</th>\n",
       "      <th>state</th>\n",
       "      <th>door_swings</th>\n",
       "    </tr>\n",
       "  </thead>\n",
       "  <tbody>\n",
       "    <tr>\n",
       "      <th>9577</th>\n",
       "      <td>2017-08-11</td>\n",
       "      <td>3360 - Arvada, CO (XF)</td>\n",
       "      <td>Arvada</td>\n",
       "      <td>CO</td>\n",
       "      <td>1683</td>\n",
       "    </tr>\n",
       "    <tr>\n",
       "      <th>9238</th>\n",
       "      <td>2017-07-16</td>\n",
       "      <td>3354 - Thornton, CO (XF)</td>\n",
       "      <td>Thornton</td>\n",
       "      <td>CO</td>\n",
       "      <td>1582</td>\n",
       "    </tr>\n",
       "    <tr>\n",
       "      <th>83</th>\n",
       "      <td>2014-12-31</td>\n",
       "      <td>3353 - Colorado Springs, CO (XF)</td>\n",
       "      <td>Colorado Springs</td>\n",
       "      <td>CO</td>\n",
       "      <td>1509</td>\n",
       "    </tr>\n",
       "    <tr>\n",
       "      <th>38246</th>\n",
       "      <td>2020-09-03</td>\n",
       "      <td>3351 - Albuquerque, NM (XF)</td>\n",
       "      <td>Albuquerque</td>\n",
       "      <td>NM</td>\n",
       "      <td>1291</td>\n",
       "    </tr>\n",
       "    <tr>\n",
       "      <th>16860</th>\n",
       "      <td>2018-10-27</td>\n",
       "      <td>3365 - Gardens on Havana - Aurora, CO (XF)</td>\n",
       "      <td>Aurora</td>\n",
       "      <td>CO</td>\n",
       "      <td>1274</td>\n",
       "    </tr>\n",
       "    <tr>\n",
       "      <th>9842</th>\n",
       "      <td>2017-09-01</td>\n",
       "      <td>3351 - Albuquerque, NM (XF)</td>\n",
       "      <td>Albuquerque</td>\n",
       "      <td>NM</td>\n",
       "      <td>1272</td>\n",
       "    </tr>\n",
       "    <tr>\n",
       "      <th>18287</th>\n",
       "      <td>2018-12-29</td>\n",
       "      <td>3360 - Arvada, CO (XF)</td>\n",
       "      <td>Arvada</td>\n",
       "      <td>CO</td>\n",
       "      <td>1249</td>\n",
       "    </tr>\n",
       "    <tr>\n",
       "      <th>39374</th>\n",
       "      <td>2020-10-01</td>\n",
       "      <td>3351 - Albuquerque, NM (XF)</td>\n",
       "      <td>Albuquerque</td>\n",
       "      <td>NM</td>\n",
       "      <td>1234</td>\n",
       "    </tr>\n",
       "    <tr>\n",
       "      <th>22417</th>\n",
       "      <td>2019-06-03</td>\n",
       "      <td>3365 - Gardens on Havana - Aurora, CO (XF)</td>\n",
       "      <td>Aurora</td>\n",
       "      <td>CO</td>\n",
       "      <td>1224</td>\n",
       "    </tr>\n",
       "    <tr>\n",
       "      <th>38207</th>\n",
       "      <td>2020-09-02</td>\n",
       "      <td>3351 - Albuquerque, NM (XF)</td>\n",
       "      <td>Albuquerque</td>\n",
       "      <td>NM</td>\n",
       "      <td>1218</td>\n",
       "    </tr>\n",
       "    <tr>\n",
       "      <th>38675</th>\n",
       "      <td>2020-09-14</td>\n",
       "      <td>3351 - Albuquerque, NM (XF)</td>\n",
       "      <td>Albuquerque</td>\n",
       "      <td>NM</td>\n",
       "      <td>1218</td>\n",
       "    </tr>\n",
       "    <tr>\n",
       "      <th>36007</th>\n",
       "      <td>2020-07-06</td>\n",
       "      <td>3351 - Albuquerque, NM (XF)</td>\n",
       "      <td>Albuquerque</td>\n",
       "      <td>NM</td>\n",
       "      <td>1217</td>\n",
       "    </tr>\n",
       "    <tr>\n",
       "      <th>99</th>\n",
       "      <td>2015-01-02</td>\n",
       "      <td>3351 - Albuquerque, NM (XF)</td>\n",
       "      <td>Albuquerque</td>\n",
       "      <td>NM</td>\n",
       "      <td>1216</td>\n",
       "    </tr>\n",
       "    <tr>\n",
       "      <th>39542</th>\n",
       "      <td>2020-10-05</td>\n",
       "      <td>3351 - Albuquerque, NM (XF)</td>\n",
       "      <td>Albuquerque</td>\n",
       "      <td>NM</td>\n",
       "      <td>1214</td>\n",
       "    </tr>\n",
       "    <tr>\n",
       "      <th>17039</th>\n",
       "      <td>2018-11-05</td>\n",
       "      <td>3353 - Colorado Springs, CO (XF)</td>\n",
       "      <td>Colorado Springs</td>\n",
       "      <td>CO</td>\n",
       "      <td>1195</td>\n",
       "    </tr>\n",
       "    <tr>\n",
       "      <th>14120</th>\n",
       "      <td>2018-06-01</td>\n",
       "      <td>3351 - Albuquerque, NM (XF)</td>\n",
       "      <td>Albuquerque</td>\n",
       "      <td>NM</td>\n",
       "      <td>1187</td>\n",
       "    </tr>\n",
       "    <tr>\n",
       "      <th>17432</th>\n",
       "      <td>2018-11-23</td>\n",
       "      <td>3365 - Gardens on Havana - Aurora, CO (XF)</td>\n",
       "      <td>Aurora</td>\n",
       "      <td>CO</td>\n",
       "      <td>1187</td>\n",
       "    </tr>\n",
       "    <tr>\n",
       "      <th>17619</th>\n",
       "      <td>2018-12-01</td>\n",
       "      <td>3365 - Gardens on Havana - Aurora, CO (XF)</td>\n",
       "      <td>Aurora</td>\n",
       "      <td>CO</td>\n",
       "      <td>1179</td>\n",
       "    </tr>\n",
       "    <tr>\n",
       "      <th>19134</th>\n",
       "      <td>2019-02-02</td>\n",
       "      <td>3365 - Gardens on Havana - Aurora, CO (XF)</td>\n",
       "      <td>Aurora</td>\n",
       "      <td>CO</td>\n",
       "      <td>1171</td>\n",
       "    </tr>\n",
       "    <tr>\n",
       "      <th>37747</th>\n",
       "      <td>2020-08-21</td>\n",
       "      <td>3351 - Albuquerque, NM (XF)</td>\n",
       "      <td>Albuquerque</td>\n",
       "      <td>NM</td>\n",
       "      <td>1170</td>\n",
       "    </tr>\n",
       "  </tbody>\n",
       "</table>\n",
       "</div>"
      ],
      "text/plain": [
       "            date                                  store_name  \\\n",
       "9577  2017-08-11                      3360 - Arvada, CO (XF)   \n",
       "9238  2017-07-16                    3354 - Thornton, CO (XF)   \n",
       "83    2014-12-31            3353 - Colorado Springs, CO (XF)   \n",
       "38246 2020-09-03                 3351 - Albuquerque, NM (XF)   \n",
       "16860 2018-10-27  3365 - Gardens on Havana - Aurora, CO (XF)   \n",
       "9842  2017-09-01                 3351 - Albuquerque, NM (XF)   \n",
       "18287 2018-12-29                      3360 - Arvada, CO (XF)   \n",
       "39374 2020-10-01                 3351 - Albuquerque, NM (XF)   \n",
       "22417 2019-06-03  3365 - Gardens on Havana - Aurora, CO (XF)   \n",
       "38207 2020-09-02                 3351 - Albuquerque, NM (XF)   \n",
       "38675 2020-09-14                 3351 - Albuquerque, NM (XF)   \n",
       "36007 2020-07-06                 3351 - Albuquerque, NM (XF)   \n",
       "99    2015-01-02                 3351 - Albuquerque, NM (XF)   \n",
       "39542 2020-10-05                 3351 - Albuquerque, NM (XF)   \n",
       "17039 2018-11-05            3353 - Colorado Springs, CO (XF)   \n",
       "14120 2018-06-01                 3351 - Albuquerque, NM (XF)   \n",
       "17432 2018-11-23  3365 - Gardens on Havana - Aurora, CO (XF)   \n",
       "17619 2018-12-01  3365 - Gardens on Havana - Aurora, CO (XF)   \n",
       "19134 2019-02-02  3365 - Gardens on Havana - Aurora, CO (XF)   \n",
       "37747 2020-08-21                 3351 - Albuquerque, NM (XF)   \n",
       "\n",
       "                   city state  door_swings  \n",
       "9577             Arvada    CO         1683  \n",
       "9238           Thornton    CO         1582  \n",
       "83     Colorado Springs    CO         1509  \n",
       "38246       Albuquerque    NM         1291  \n",
       "16860            Aurora    CO         1274  \n",
       "9842        Albuquerque    NM         1272  \n",
       "18287            Arvada    CO         1249  \n",
       "39374       Albuquerque    NM         1234  \n",
       "22417            Aurora    CO         1224  \n",
       "38207       Albuquerque    NM         1218  \n",
       "38675       Albuquerque    NM         1218  \n",
       "36007       Albuquerque    NM         1217  \n",
       "99          Albuquerque    NM         1216  \n",
       "39542       Albuquerque    NM         1214  \n",
       "17039  Colorado Springs    CO         1195  \n",
       "14120       Albuquerque    NM         1187  \n",
       "17432            Aurora    CO         1187  \n",
       "17619            Aurora    CO         1179  \n",
       "19134            Aurora    CO         1171  \n",
       "37747       Albuquerque    NM         1170  "
      ]
     },
     "execution_count": 51,
     "metadata": {},
     "output_type": "execute_result"
    }
   ],
   "source": [
    "df.sort_values(['door_swings'],ascending=False).head(20)"
   ]
  },
  {
   "cell_type": "markdown",
   "id": "aac34071",
   "metadata": {},
   "source": [
    "It is interesting to note that NM has the highest average door swings, and the Albuquerque store in NM has 10 out of the 20 highest door swings in the past eight years."
   ]
  }
 ],
 "metadata": {
  "kernelspec": {
   "display_name": "Python 3 (ipykernel)",
   "language": "python",
   "name": "python3"
  },
  "language_info": {
   "codemirror_mode": {
    "name": "ipython",
    "version": 3
   },
   "file_extension": ".py",
   "mimetype": "text/x-python",
   "name": "python",
   "nbconvert_exporter": "python",
   "pygments_lexer": "ipython3",
   "version": "3.9.13"
  }
 },
 "nbformat": 4,
 "nbformat_minor": 5
}
