{
 "cells": [
  {
   "cell_type": "markdown",
   "id": "ba314dc8",
   "metadata": {},
   "source": [
    "# Exploratory Data Analysis<a id='Exploratory_Data_Analysis'></a>"
   ]
  },
  {
   "cell_type": "markdown",
   "id": "8383df0e",
   "metadata": {},
   "source": [
    "# 1.1 Contents<a id='1.1_Contents'></a>\n",
    "* [1 Exploratory Data Analysis](#1_Exploratory_Data_Analysis)\n",
    "  * [1.1 Problem Statement](#1.1_Problem_Statement)\n",
    "  * [1.2 Imports](#1.2_Imports)\n",
    "  * [1.3 Load The Data](#1.3_Load_The_Data)\n",
    "  * [1.4 Explore The Data](#1.4_Explore_The_Data)\n",
    "    * [1.4.1 Visualizing High Dimensional Data](#1.4.1_Visualizing_High_Dimensional_Data)\n",
    "      * [1.4.1.1 Average Door Swings Per State](#1.4.1.1_Average_Door_Swings_Per_State)\n",
    "      * [1.4.1.2 Distribution of Door Swings By State](#1.4.1.1_Distribution_of_Door_Swings_By_State)\n",
    "    * [1.4.2 Numeric Features](#1.4.1_Numeric_Features)\n",
    "      * [1.4.2.1 Numeric Data Summary](#1.4.2.1_Numeric_Data_Summary)\n",
    "  * [1.5 Summary](#1.5_Summary)  "
   ]
  },
  {
   "cell_type": "markdown",
   "id": "28098097",
   "metadata": {},
   "source": [
    "## 1.1 Problem Statement"
   ]
  },
  {
   "cell_type": "markdown",
   "id": "c02f965d",
   "metadata": {},
   "source": [
    "The problem I am trying to solve is how we can find a model that can accurately forecast how many door swings (customer count) our retail locations (Xfinity stores) will see in a given month. In this notebook, I will look at the different attributes of door swings and features, including the average number of door swings per store, the average number of door swings per state, etc."
   ]
  },
  {
   "cell_type": "markdown",
   "id": "34701749",
   "metadata": {},
   "source": [
    "## 1.2 Imports"
   ]
  },
  {
   "cell_type": "markdown",
   "id": "63b5ec3f",
   "metadata": {},
   "source": [
    "## 1.3 Load The Data"
   ]
  },
  {
   "cell_type": "code",
   "execution_count": 190,
   "id": "8f469baf",
   "metadata": {},
   "outputs": [],
   "source": [
    "import numpy as np\n",
    "import pandas as pd\n",
    "import pyodbc\n",
    "import matplotlib.pyplot as plt\n",
    "import seaborn as sns\n",
    "import os\n",
    "import openpyxl\n",
    "from thefuzz import StringMatcher, fuzz, process, string_processing, utils\n",
    "import thefuzz\n",
    "from Username_PW import *"
   ]
  },
  {
   "cell_type": "code",
   "execution_count": 4,
   "id": "ce3f2c92",
   "metadata": {},
   "outputs": [],
   "source": [
    "df = pd.read_excel(r'/Users/Alan/Library/CloudStorage/OneDrive-Comcast/Python/Springboard/Data Wrangling.xlsx')"
   ]
  },
  {
   "cell_type": "code",
   "execution_count": 5,
   "id": "523a35e0",
   "metadata": {},
   "outputs": [],
   "source": [
    "df.rename(columns={'STORE_NAME' : 'store_name', 'Traffic_Date' : 'date', 'STORE_CITY_NAME' : 'city', 'STORE_STATE_CODE' : 'state','Door_Swings' : 'door_swings'}, inplace=True)"
   ]
  },
  {
   "cell_type": "code",
   "execution_count": 6,
   "id": "e22e7569",
   "metadata": {},
   "outputs": [
    {
     "data": {
      "text/html": [
       "<div>\n",
       "<style scoped>\n",
       "    .dataframe tbody tr th:only-of-type {\n",
       "        vertical-align: middle;\n",
       "    }\n",
       "\n",
       "    .dataframe tbody tr th {\n",
       "        vertical-align: top;\n",
       "    }\n",
       "\n",
       "    .dataframe thead th {\n",
       "        text-align: right;\n",
       "    }\n",
       "</style>\n",
       "<table border=\"1\" class=\"dataframe\">\n",
       "  <thead>\n",
       "    <tr style=\"text-align: right;\">\n",
       "      <th></th>\n",
       "      <th>date</th>\n",
       "      <th>store_name</th>\n",
       "      <th>city</th>\n",
       "      <th>state</th>\n",
       "      <th>door_swings</th>\n",
       "    </tr>\n",
       "  </thead>\n",
       "  <tbody>\n",
       "    <tr>\n",
       "      <th>0</th>\n",
       "      <td>2014-12-22</td>\n",
       "      <td>3351 - Albuquerque, NM (XF)</td>\n",
       "      <td>Albuquerque</td>\n",
       "      <td>NM</td>\n",
       "      <td>656</td>\n",
       "    </tr>\n",
       "    <tr>\n",
       "      <th>1</th>\n",
       "      <td>2014-12-22</td>\n",
       "      <td>3352 - Lakewood, CO (XF)</td>\n",
       "      <td>Lakewood</td>\n",
       "      <td>CO</td>\n",
       "      <td>452</td>\n",
       "    </tr>\n",
       "    <tr>\n",
       "      <th>2</th>\n",
       "      <td>2014-12-22</td>\n",
       "      <td>3353 - Colorado Springs, CO (XF)</td>\n",
       "      <td>Colorado Springs</td>\n",
       "      <td>CO</td>\n",
       "      <td>562</td>\n",
       "    </tr>\n",
       "    <tr>\n",
       "      <th>3</th>\n",
       "      <td>2014-12-22</td>\n",
       "      <td>3354 - Thornton, CO (XF)</td>\n",
       "      <td>Thornton</td>\n",
       "      <td>CO</td>\n",
       "      <td>594</td>\n",
       "    </tr>\n",
       "    <tr>\n",
       "      <th>4</th>\n",
       "      <td>2014-12-22</td>\n",
       "      <td>3356 - Boulder, CO (XF)</td>\n",
       "      <td>Boulder</td>\n",
       "      <td>CO</td>\n",
       "      <td>369</td>\n",
       "    </tr>\n",
       "  </tbody>\n",
       "</table>\n",
       "</div>"
      ],
      "text/plain": [
       "        date                        store_name              city state  \\\n",
       "0 2014-12-22       3351 - Albuquerque, NM (XF)       Albuquerque    NM   \n",
       "1 2014-12-22          3352 - Lakewood, CO (XF)          Lakewood    CO   \n",
       "2 2014-12-22  3353 - Colorado Springs, CO (XF)  Colorado Springs    CO   \n",
       "3 2014-12-22          3354 - Thornton, CO (XF)          Thornton    CO   \n",
       "4 2014-12-22           3356 - Boulder, CO (XF)           Boulder    CO   \n",
       "\n",
       "   door_swings  \n",
       "0          656  \n",
       "1          452  \n",
       "2          562  \n",
       "3          594  \n",
       "4          369  "
      ]
     },
     "execution_count": 6,
     "metadata": {},
     "output_type": "execute_result"
    }
   ],
   "source": [
    "df.head()"
   ]
  },
  {
   "cell_type": "markdown",
   "id": "f96821c7",
   "metadata": {},
   "source": [
    "## 1.4 Explore The Data"
   ]
  },
  {
   "cell_type": "markdown",
   "id": "29f72ee8",
   "metadata": {},
   "source": [
    "Where does the data set start?"
   ]
  },
  {
   "cell_type": "code",
   "execution_count": 138,
   "id": "bce5a38f",
   "metadata": {},
   "outputs": [
    {
     "name": "stdout",
     "output_type": "stream",
     "text": [
      "2014-12-22 00:00:00\n"
     ]
    }
   ],
   "source": [
    "print(df.date.min())"
   ]
  },
  {
   "cell_type": "markdown",
   "id": "e4c36cf2",
   "metadata": {},
   "source": [
    "The data set starts on December 12, 2014."
   ]
  },
  {
   "cell_type": "markdown",
   "id": "be091818",
   "metadata": {},
   "source": [
    "Where does the data set end?"
   ]
  },
  {
   "cell_type": "code",
   "execution_count": 142,
   "id": "40178a62",
   "metadata": {},
   "outputs": [
    {
     "name": "stdout",
     "output_type": "stream",
     "text": [
      "2022-11-20 00:00:00\n"
     ]
    }
   ],
   "source": [
    "print(df.date.max())"
   ]
  },
  {
   "cell_type": "markdown",
   "id": "463ccf5b",
   "metadata": {},
   "source": [
    "The data set end on November 20, 2022."
   ]
  },
  {
   "cell_type": "markdown",
   "id": "4357ff4d",
   "metadata": {},
   "source": [
    "How are the dates broken down? Is it by month, date, year, or date, month, year, etc.?"
   ]
  },
  {
   "cell_type": "code",
   "execution_count": 200,
   "id": "d21b7cfc",
   "metadata": {},
   "outputs": [
    {
     "name": "stdout",
     "output_type": "stream",
     "text": [
      "0       2014-12-22\n",
      "1       2014-12-22\n",
      "2       2014-12-22\n",
      "3       2014-12-22\n",
      "4       2014-12-22\n",
      "           ...    \n",
      "74784   2022-11-20\n",
      "74785   2022-11-20\n",
      "74786   2022-11-20\n",
      "74787   2022-11-20\n",
      "74788   2022-11-20\n",
      "Name: date, Length: 74789, dtype: datetime64[ns]\n"
     ]
    }
   ],
   "source": [
    "print(df.date)"
   ]
  },
  {
   "cell_type": "markdown",
   "id": "3ebe9acb",
   "metadata": {},
   "source": [
    "The date is broken down by year, month and then day."
   ]
  },
  {
   "cell_type": "markdown",
   "id": "6aa4b04f",
   "metadata": {},
   "source": [
    "Do we have any missing days?"
   ]
  },
  {
   "cell_type": "code",
   "execution_count": 180,
   "id": "557c51f4",
   "metadata": {},
   "outputs": [],
   "source": [
    "dataFrame = pd.DataFrame(df)\n",
    "dataFrame = dataFrame.set_index('date')\n",
    "dataFrame.index = pd.to_datetime(dataFrame.index)\n",
    "k = pd.date_range(start=\"2014-12-21\", end=\"2022-11-21\").difference(dataFrame.index)"
   ]
  },
  {
   "cell_type": "markdown",
   "id": "548a2406",
   "metadata": {},
   "source": [
    "As a test, I wanted to put the start date one day before our data set started and ended, which was 12/22/2022 and 11/21/2022, respectively."
   ]
  },
  {
   "cell_type": "code",
   "execution_count": 181,
   "id": "318cd1ed",
   "metadata": {},
   "outputs": [
    {
     "name": "stdout",
     "output_type": "stream",
     "text": [
      "DatetimeIndex(['2014-12-21', '2022-11-21'], dtype='datetime64[ns]', freq=None)\n"
     ]
    }
   ],
   "source": [
    "print(k)"
   ]
  },
  {
   "cell_type": "code",
   "execution_count": null,
   "id": "8e25611e",
   "metadata": {},
   "outputs": [],
   "source": [
    "df.date"
   ]
  },
  {
   "cell_type": "markdown",
   "id": "2643c62e",
   "metadata": {},
   "source": [
    "Based on the results above, we are missing data on 12/21/2014 and 11/21/2014. However, these dates are outside the dates of our data. We have no days missing in our data frame. "
   ]
  },
  {
   "cell_type": "markdown",
   "id": "f9b6c778",
   "metadata": {},
   "source": [
    "Are there any mispellings in the cities?"
   ]
  },
  {
   "cell_type": "code",
   "execution_count": 23,
   "id": "88119335",
   "metadata": {},
   "outputs": [],
   "source": [
    "sorted_city_names = sorted(df.city.unique())"
   ]
  },
  {
   "cell_type": "code",
   "execution_count": 24,
   "id": "b7d0f546",
   "metadata": {},
   "outputs": [
    {
     "data": {
      "text/plain": [
       "40"
      ]
     },
     "execution_count": 24,
     "metadata": {},
     "output_type": "execute_result"
    }
   ],
   "source": [
    "len(sorted_city_names)"
   ]
  },
  {
   "cell_type": "markdown",
   "id": "89313a45",
   "metadata": {},
   "source": [
    "We have 40 unique city names, which could mean we have some stores in the same city as another."
   ]
  },
  {
   "cell_type": "code",
   "execution_count": 28,
   "id": "68c33cca",
   "metadata": {},
   "outputs": [
    {
     "name": "stdout",
     "output_type": "stream",
     "text": [
      "Albuquerque\n",
      "American Fork\n",
      "Arvada\n",
      "Aurora\n",
      "Boulder\n",
      "Brighton\n",
      "Castle Rock\n",
      "Centennial\n",
      "Colorado Springs\n",
      "Denver\n",
      "Draper\n",
      "Farmington\n",
      "Fort Collins\n",
      "Glenwood Springs\n",
      "Greeley\n",
      "Greenwood Village\n",
      "Lakewood\n",
      "Las Cruces\n",
      "Layton\n",
      "Littleton\n",
      "Logan\n",
      "Longmont\n",
      "Loveland\n",
      "Murray\n",
      "Ogden\n",
      "Orem\n",
      "Park City\n",
      "Parker\n",
      "Pueblo\n",
      "Riverton\n",
      "Salt Lake City\n",
      "Santa Fe\n",
      "Sheridan\n",
      "Silverthorne\n",
      "Thornton\n",
      "Tucson\n",
      "West Jordan\n",
      "West Valley City\n",
      "Westminster\n",
      "Wheat Ridge\n"
     ]
    }
   ],
   "source": [
    "print(*sorted_city_names, sep = \"\\n\")"
   ]
  },
  {
   "cell_type": "markdown",
   "id": "98160d8e",
   "metadata": {},
   "source": [
    "No cities are duplicated and/or mispelled"
   ]
  },
  {
   "cell_type": "markdown",
   "id": "de5bad01",
   "metadata": {},
   "source": [
    "How many unique store names are there? Are there any duplicates and spelling errors?"
   ]
  },
  {
   "cell_type": "code",
   "execution_count": 10,
   "id": "1021b6a7",
   "metadata": {},
   "outputs": [],
   "source": [
    "sorted_store_names = sorted(df.store_name.unique())"
   ]
  },
  {
   "cell_type": "code",
   "execution_count": 17,
   "id": "a598f47c",
   "metadata": {},
   "outputs": [
    {
     "data": {
      "text/plain": [
       "50"
      ]
     },
     "execution_count": 17,
     "metadata": {},
     "output_type": "execute_result"
    }
   ],
   "source": [
    "len(sorted_store_names)"
   ]
  },
  {
   "cell_type": "markdown",
   "id": "f758df93",
   "metadata": {},
   "source": [
    "We have 50 unique store names. Now let us see if there are any misspellings."
   ]
  },
  {
   "cell_type": "code",
   "execution_count": 26,
   "id": "4dbcceb8",
   "metadata": {},
   "outputs": [
    {
     "name": "stdout",
     "output_type": "stream",
     "text": [
      "3351 - Albuquerque, NM (XF)\n",
      "3352 - Lakewood, CO (XF)\n",
      "3353 - Colorado Springs, CO (XF)\n",
      "3354 - Thornton, CO (XF)\n",
      "3355 - Las Cruces, NM (XF)\n",
      "3356 - Boulder, CO (XF)\n",
      "3357 - Centennial, CO (XF)\n",
      "3358 - Denver, CO (XF)\n",
      "3359 - Loveland, CO (XF)\n",
      "3360 - Arvada, CO (XF)\n",
      "3361 - Longmont, CO (XF)\n",
      "3362 - Pueblo, CO (XF)\n",
      "3363 - Fort Collins, CO (XF)\n",
      "3364 - Barnes Marketplace - Colorado Springs, CO (XF)\n",
      "3365 - Gardens on Havana - Aurora, CO (XF)\n",
      "3367 - Animas Valley Mall - Farmington, NM (XF)\n",
      "3368 - Prairie Center - Brighton, CO (XF)\n",
      "3369 - Plaza Santa Fe - Santa Fe, NM (XF)\n",
      "3370 - Promenade at Castle Rock - Castle Rock, CO (XF)\n",
      "3371 - Crown Point - Parker, CO (XF)\n",
      "3372 - The Shops at NorthCreek - Denver, CO (XF)\n",
      "3373 - Orchard Town Center - Westminster, CO (XF)\n",
      "3374 -Shops at Walnut Creek -Westminster, CO (XF)\n",
      "3403 - Park City, UT\n",
      "3453 - Orem, UT (XF)\n",
      "3454 - Tucson - River, AZ (XF)\n",
      "3455 - Draper, UT (XF)\n",
      "3456 - Layton2, UT (XF)\n",
      "3457 - Salt Lake City, UT (XF)\n",
      "3458 - Academy Square - Logan, UT (XF)\n",
      "3459 - Arizona Pavilions - Tucson, AZ (XF)\n",
      "3460 - Jordan Landing - West Jordan, UT (XF)\n",
      "3461 - Fashion Plaza - Murray, UT (XF)\n",
      "3463 - Summit Place - Silverthorne, CO (XF)\n",
      "3464 - Glenwood Meadows - Glenwood Springs, CO (XF)\n",
      "59000 - Southwest Plaza - Littleton, CO (XF)\n",
      "59001 - Applewood Village - Wheat Ridge, CO (XF)\n",
      "59002 - Greeley - Greeley, CO (XF)\n",
      "59003 - Northfield Stapleton - Denver, CO (XF)\n",
      "59008 - Southglenn/Cherry Hills - Greenwood Village, CO (XF)\n",
      "59009 - South Aurora - Aurora, CO (XF)\n",
      "59011 - River Point at Sheridan - Sheridan, CO (XF)\n",
      "59031 - Hunter's Crossing - American Fork, UT (XF)\n",
      "59032 - Sugarhouse  - Salt Lake City, UT (XF)\n",
      "59033 -Mountain View Village -  Riverton, UT (XF)\n",
      "59034 - Highbury Centre - West Valley City, UT (XF)\n",
      "59038 -  Diamond Plaza - Ogden, UT (XF)\n",
      "59046 - Broadmoor Towne Center - Colorado Springs, CO (XF)\n",
      "59055 - Albuquerque, NM (Uptown)\n",
      "59056 - Albuquerque, NM (Cottonwood) (BP)\n"
     ]
    }
   ],
   "source": [
    "print(*sorted_store_names, sep = \"\\n\")"
   ]
  },
  {
   "cell_type": "markdown",
   "id": "a3b8fd2a",
   "metadata": {},
   "source": [
    "Each store name has a specific store number at the beginning to differentiate them from each other because we can have some stores in the same cities."
   ]
  },
  {
   "cell_type": "markdown",
   "id": "f61f3bee",
   "metadata": {},
   "source": [
    "There are no duplicates or misspellings in the names. Each store has its unique store number, and none overlap."
   ]
  },
  {
   "cell_type": "markdown",
   "id": "0abcb1ea",
   "metadata": {},
   "source": [
    "Let us look at how many value counts each store has. I am interested to see if some stores have more records than others."
   ]
  },
  {
   "cell_type": "code",
   "execution_count": 44,
   "id": "a3b76258",
   "metadata": {},
   "outputs": [],
   "source": [
    "unique_store_records = df.date.groupby([df.store_name.str.strip(\"'\")]).nunique()"
   ]
  },
  {
   "cell_type": "code",
   "execution_count": 45,
   "id": "eef661cc",
   "metadata": {},
   "outputs": [
    {
     "name": "stdout",
     "output_type": "stream",
     "text": [
      "store_name\n",
      "3351 - Albuquerque, NM (XF)                                     2841\n",
      "3352 - Lakewood, CO (XF)                                        2891\n",
      "3353 - Colorado Springs, CO (XF)                                2891\n",
      "3354 - Thornton, CO (XF)                                        2891\n",
      "3355 - Las Cruces, NM (XF)                                      1463\n",
      "3356 - Boulder, CO (XF)                                         2822\n",
      "3357 - Centennial, CO (XF)                                      2879\n",
      "3358 - Denver, CO (XF)                                          1829\n",
      "3359 - Loveland, CO (XF)                                        2489\n",
      "3360 - Arvada, CO (XF)                                          2134\n",
      "3361 - Longmont, CO (XF)                                        1904\n",
      "3362 - Pueblo, CO (XF)                                          1750\n",
      "3363 - Fort Collins, CO (XF)                                    1748\n",
      "3364 - Barnes Marketplace - Colorado Springs, CO (XF)           1107\n",
      "3365 - Gardens on Havana - Aurora, CO (XF)                      1507\n",
      "3367 - Animas Valley Mall - Farmington, NM (XF)                 1454\n",
      "3368 - Prairie Center - Brighton, CO (XF)                       1411\n",
      "3369 - Plaza Santa Fe - Santa Fe, NM (XF)                       1216\n",
      "3370 - Promenade at Castle Rock - Castle Rock, CO (XF)           881\n",
      "3371 - Crown Point - Parker, CO (XF)                             936\n",
      "3372 - The Shops at NorthCreek - Denver, CO (XF)                1194\n",
      "3373 - Orchard Town Center - Westminster, CO (XF)               1196\n",
      "3374 -Shops at Walnut Creek -Westminster, CO (XF)                958\n",
      "3403 - Park City, UT                                            1085\n",
      "3453 - Orem, UT (XF)                                            2857\n",
      "3454 - Tucson - River, AZ (XF)                                  1579\n",
      "3455 - Draper, UT (XF)                                          2718\n",
      "3456 - Layton2, UT (XF)                                         2887\n",
      "3457 - Salt Lake City, UT (XF)                                  2041\n",
      "3458 - Academy Square - Logan, UT (XF)                          1531\n",
      "3459 - Arizona Pavilions - Tucson, AZ (XF)                      1659\n",
      "3460 - Jordan Landing - West Jordan, UT (XF)                    1315\n",
      "3461 - Fashion Plaza - Murray, UT (XF)                          1168\n",
      "3463 - Summit Place - Silverthorne, CO (XF)                      168\n",
      "3464 - Glenwood Meadows - Glenwood Springs, CO (XF)              170\n",
      "59000 - Southwest Plaza - Littleton, CO (XF)                    1382\n",
      "59001 - Applewood Village - Wheat Ridge, CO (XF)                1488\n",
      "59002 - Greeley - Greeley, CO (XF)                              1386\n",
      "59003 - Northfield Stapleton - Denver, CO (XF)                  1273\n",
      "59008 - Southglenn/Cherry Hills - Greenwood Village, CO (XF)    1359\n",
      "59009 - South Aurora - Aurora, CO (XF)                          1154\n",
      "59011 - River Point at Sheridan - Sheridan, CO (XF)              751\n",
      "59031 - Hunter's Crossing - American Fork, UT (XF)               814\n",
      "59032 - Sugarhouse  - Salt Lake City, UT (XF)                    592\n",
      "59033 -Mountain View Village -  Riverton, UT (XF)                790\n",
      "59034 - Highbury Centre - West Valley City, UT (XF)              791\n",
      "59038 -  Diamond Plaza - Ogden, UT (XF)                          775\n",
      "59046 - Broadmoor Towne Center - Colorado Springs, CO (XF)       461\n",
      "59055 - Albuquerque, NM (Uptown)                                 136\n",
      "59056 - Albuquerque, NM (Cottonwood) (BP)                         67\n",
      "Name: date, dtype: int64\n"
     ]
    }
   ],
   "source": [
    "print(unique_store_records)"
   ]
  },
  {
   "cell_type": "markdown",
   "id": "bd9de476",
   "metadata": {},
   "source": [
    "There are stores that have higher amounts of data points because either they opened after 01-01-2019 or the stores have closed down and are no longer open."
   ]
  },
  {
   "cell_type": "markdown",
   "id": "c6af4c9d",
   "metadata": {},
   "source": [
    "Let us ensure that the state abbreviations are not duplicated or misspelled."
   ]
  },
  {
   "cell_type": "code",
   "execution_count": 35,
   "id": "3c66eb9b",
   "metadata": {},
   "outputs": [
    {
     "name": "stdout",
     "output_type": "stream",
     "text": [
      "['NM' 'CO' 'UT' 'AZ']\n"
     ]
    }
   ],
   "source": [
    "print(df.state.unique())"
   ]
  },
  {
   "cell_type": "markdown",
   "id": "ba2ee0da",
   "metadata": {},
   "source": [
    "All state abbreviatons are spelled correctly and not duplicated."
   ]
  },
  {
   "cell_type": "markdown",
   "id": "e8b9ad4d",
   "metadata": {},
   "source": [
    "How many stores are there per state?"
   ]
  },
  {
   "cell_type": "code",
   "execution_count": 10,
   "id": "bca2fb15",
   "metadata": {},
   "outputs": [
    {
     "name": "stdout",
     "output_type": "stream",
     "text": [
      "state\n",
      "AZ     2\n",
      "CO    29\n",
      "NM     6\n",
      "UT    13\n",
      "Name: store_name, dtype: int64\n"
     ]
    }
   ],
   "source": [
    "print(df.groupby('state')['store_name'].nunique())"
   ]
  },
  {
   "cell_type": "markdown",
   "id": "0c547d77",
   "metadata": {},
   "source": [
    "We have a total of 50 stores with the most in Colorado and the least amount in Arizona."
   ]
  },
  {
   "cell_type": "markdown",
   "id": "19cc2884",
   "metadata": {},
   "source": [
    "### 1.4.1 Visualizing High Dimensional Data"
   ]
  },
  {
   "cell_type": "markdown",
   "id": "a830b3ac",
   "metadata": {},
   "source": [
    "#### 1.4.1.1 Average Door Swings Per State"
   ]
  },
  {
   "cell_type": "markdown",
   "id": "bcd25ecf",
   "metadata": {},
   "source": [
    "Now that we have explored the data, I am interested in a couple of questions about the data set. The first question is, what is the average amount of door swings per state?"
   ]
  },
  {
   "cell_type": "code",
   "execution_count": 23,
   "id": "32d44abf",
   "metadata": {},
   "outputs": [
    {
     "data": {
      "text/plain": [
       "state\n",
       "AZ    190.512353\n",
       "CO    260.751677\n",
       "NM    377.025080\n",
       "UT    202.568478\n",
       "Name: door_swings, dtype: float64"
      ]
     },
     "execution_count": 23,
     "metadata": {},
     "output_type": "execute_result"
    }
   ],
   "source": [
    "state_avg_ds = df.groupby('state')['door_swings'].mean()\n",
    "state_avg_ds.head()"
   ]
  },
  {
   "cell_type": "code",
   "execution_count": 24,
   "id": "3f3822f5",
   "metadata": {},
   "outputs": [
    {
     "data": {
      "text/html": [
       "<div>\n",
       "<style scoped>\n",
       "    .dataframe tbody tr th:only-of-type {\n",
       "        vertical-align: middle;\n",
       "    }\n",
       "\n",
       "    .dataframe tbody tr th {\n",
       "        vertical-align: top;\n",
       "    }\n",
       "\n",
       "    .dataframe thead th {\n",
       "        text-align: right;\n",
       "    }\n",
       "</style>\n",
       "<table border=\"1\" class=\"dataframe\">\n",
       "  <thead>\n",
       "    <tr style=\"text-align: right;\">\n",
       "      <th></th>\n",
       "      <th>date</th>\n",
       "      <th>store_name</th>\n",
       "      <th>city</th>\n",
       "      <th>state</th>\n",
       "      <th>door_swings</th>\n",
       "    </tr>\n",
       "  </thead>\n",
       "  <tbody>\n",
       "    <tr>\n",
       "      <th>9577</th>\n",
       "      <td>2017-08-11</td>\n",
       "      <td>3360 - Arvada, CO (XF)</td>\n",
       "      <td>Arvada</td>\n",
       "      <td>CO</td>\n",
       "      <td>1683</td>\n",
       "    </tr>\n",
       "    <tr>\n",
       "      <th>9238</th>\n",
       "      <td>2017-07-16</td>\n",
       "      <td>3354 - Thornton, CO (XF)</td>\n",
       "      <td>Thornton</td>\n",
       "      <td>CO</td>\n",
       "      <td>1582</td>\n",
       "    </tr>\n",
       "    <tr>\n",
       "      <th>83</th>\n",
       "      <td>2014-12-31</td>\n",
       "      <td>3353 - Colorado Springs, CO (XF)</td>\n",
       "      <td>Colorado Springs</td>\n",
       "      <td>CO</td>\n",
       "      <td>1509</td>\n",
       "    </tr>\n",
       "    <tr>\n",
       "      <th>38246</th>\n",
       "      <td>2020-09-03</td>\n",
       "      <td>3351 - Albuquerque, NM (XF)</td>\n",
       "      <td>Albuquerque</td>\n",
       "      <td>NM</td>\n",
       "      <td>1291</td>\n",
       "    </tr>\n",
       "    <tr>\n",
       "      <th>16860</th>\n",
       "      <td>2018-10-27</td>\n",
       "      <td>3365 - Gardens on Havana - Aurora, CO (XF)</td>\n",
       "      <td>Aurora</td>\n",
       "      <td>CO</td>\n",
       "      <td>1274</td>\n",
       "    </tr>\n",
       "    <tr>\n",
       "      <th>9842</th>\n",
       "      <td>2017-09-01</td>\n",
       "      <td>3351 - Albuquerque, NM (XF)</td>\n",
       "      <td>Albuquerque</td>\n",
       "      <td>NM</td>\n",
       "      <td>1272</td>\n",
       "    </tr>\n",
       "    <tr>\n",
       "      <th>18287</th>\n",
       "      <td>2018-12-29</td>\n",
       "      <td>3360 - Arvada, CO (XF)</td>\n",
       "      <td>Arvada</td>\n",
       "      <td>CO</td>\n",
       "      <td>1249</td>\n",
       "    </tr>\n",
       "    <tr>\n",
       "      <th>39374</th>\n",
       "      <td>2020-10-01</td>\n",
       "      <td>3351 - Albuquerque, NM (XF)</td>\n",
       "      <td>Albuquerque</td>\n",
       "      <td>NM</td>\n",
       "      <td>1234</td>\n",
       "    </tr>\n",
       "    <tr>\n",
       "      <th>22417</th>\n",
       "      <td>2019-06-03</td>\n",
       "      <td>3365 - Gardens on Havana - Aurora, CO (XF)</td>\n",
       "      <td>Aurora</td>\n",
       "      <td>CO</td>\n",
       "      <td>1224</td>\n",
       "    </tr>\n",
       "    <tr>\n",
       "      <th>38207</th>\n",
       "      <td>2020-09-02</td>\n",
       "      <td>3351 - Albuquerque, NM (XF)</td>\n",
       "      <td>Albuquerque</td>\n",
       "      <td>NM</td>\n",
       "      <td>1218</td>\n",
       "    </tr>\n",
       "    <tr>\n",
       "      <th>38675</th>\n",
       "      <td>2020-09-14</td>\n",
       "      <td>3351 - Albuquerque, NM (XF)</td>\n",
       "      <td>Albuquerque</td>\n",
       "      <td>NM</td>\n",
       "      <td>1218</td>\n",
       "    </tr>\n",
       "    <tr>\n",
       "      <th>36007</th>\n",
       "      <td>2020-07-06</td>\n",
       "      <td>3351 - Albuquerque, NM (XF)</td>\n",
       "      <td>Albuquerque</td>\n",
       "      <td>NM</td>\n",
       "      <td>1217</td>\n",
       "    </tr>\n",
       "    <tr>\n",
       "      <th>99</th>\n",
       "      <td>2015-01-02</td>\n",
       "      <td>3351 - Albuquerque, NM (XF)</td>\n",
       "      <td>Albuquerque</td>\n",
       "      <td>NM</td>\n",
       "      <td>1216</td>\n",
       "    </tr>\n",
       "    <tr>\n",
       "      <th>39542</th>\n",
       "      <td>2020-10-05</td>\n",
       "      <td>3351 - Albuquerque, NM (XF)</td>\n",
       "      <td>Albuquerque</td>\n",
       "      <td>NM</td>\n",
       "      <td>1214</td>\n",
       "    </tr>\n",
       "    <tr>\n",
       "      <th>17039</th>\n",
       "      <td>2018-11-05</td>\n",
       "      <td>3353 - Colorado Springs, CO (XF)</td>\n",
       "      <td>Colorado Springs</td>\n",
       "      <td>CO</td>\n",
       "      <td>1195</td>\n",
       "    </tr>\n",
       "    <tr>\n",
       "      <th>14120</th>\n",
       "      <td>2018-06-01</td>\n",
       "      <td>3351 - Albuquerque, NM (XF)</td>\n",
       "      <td>Albuquerque</td>\n",
       "      <td>NM</td>\n",
       "      <td>1187</td>\n",
       "    </tr>\n",
       "    <tr>\n",
       "      <th>17432</th>\n",
       "      <td>2018-11-23</td>\n",
       "      <td>3365 - Gardens on Havana - Aurora, CO (XF)</td>\n",
       "      <td>Aurora</td>\n",
       "      <td>CO</td>\n",
       "      <td>1187</td>\n",
       "    </tr>\n",
       "    <tr>\n",
       "      <th>17619</th>\n",
       "      <td>2018-12-01</td>\n",
       "      <td>3365 - Gardens on Havana - Aurora, CO (XF)</td>\n",
       "      <td>Aurora</td>\n",
       "      <td>CO</td>\n",
       "      <td>1179</td>\n",
       "    </tr>\n",
       "    <tr>\n",
       "      <th>19134</th>\n",
       "      <td>2019-02-02</td>\n",
       "      <td>3365 - Gardens on Havana - Aurora, CO (XF)</td>\n",
       "      <td>Aurora</td>\n",
       "      <td>CO</td>\n",
       "      <td>1171</td>\n",
       "    </tr>\n",
       "    <tr>\n",
       "      <th>37747</th>\n",
       "      <td>2020-08-21</td>\n",
       "      <td>3351 - Albuquerque, NM (XF)</td>\n",
       "      <td>Albuquerque</td>\n",
       "      <td>NM</td>\n",
       "      <td>1170</td>\n",
       "    </tr>\n",
       "  </tbody>\n",
       "</table>\n",
       "</div>"
      ],
      "text/plain": [
       "            date                                  store_name  \\\n",
       "9577  2017-08-11                      3360 - Arvada, CO (XF)   \n",
       "9238  2017-07-16                    3354 - Thornton, CO (XF)   \n",
       "83    2014-12-31            3353 - Colorado Springs, CO (XF)   \n",
       "38246 2020-09-03                 3351 - Albuquerque, NM (XF)   \n",
       "16860 2018-10-27  3365 - Gardens on Havana - Aurora, CO (XF)   \n",
       "9842  2017-09-01                 3351 - Albuquerque, NM (XF)   \n",
       "18287 2018-12-29                      3360 - Arvada, CO (XF)   \n",
       "39374 2020-10-01                 3351 - Albuquerque, NM (XF)   \n",
       "22417 2019-06-03  3365 - Gardens on Havana - Aurora, CO (XF)   \n",
       "38207 2020-09-02                 3351 - Albuquerque, NM (XF)   \n",
       "38675 2020-09-14                 3351 - Albuquerque, NM (XF)   \n",
       "36007 2020-07-06                 3351 - Albuquerque, NM (XF)   \n",
       "99    2015-01-02                 3351 - Albuquerque, NM (XF)   \n",
       "39542 2020-10-05                 3351 - Albuquerque, NM (XF)   \n",
       "17039 2018-11-05            3353 - Colorado Springs, CO (XF)   \n",
       "14120 2018-06-01                 3351 - Albuquerque, NM (XF)   \n",
       "17432 2018-11-23  3365 - Gardens on Havana - Aurora, CO (XF)   \n",
       "17619 2018-12-01  3365 - Gardens on Havana - Aurora, CO (XF)   \n",
       "19134 2019-02-02  3365 - Gardens on Havana - Aurora, CO (XF)   \n",
       "37747 2020-08-21                 3351 - Albuquerque, NM (XF)   \n",
       "\n",
       "                   city state  door_swings  \n",
       "9577             Arvada    CO         1683  \n",
       "9238           Thornton    CO         1582  \n",
       "83     Colorado Springs    CO         1509  \n",
       "38246       Albuquerque    NM         1291  \n",
       "16860            Aurora    CO         1274  \n",
       "9842        Albuquerque    NM         1272  \n",
       "18287            Arvada    CO         1249  \n",
       "39374       Albuquerque    NM         1234  \n",
       "22417            Aurora    CO         1224  \n",
       "38207       Albuquerque    NM         1218  \n",
       "38675       Albuquerque    NM         1218  \n",
       "36007       Albuquerque    NM         1217  \n",
       "99          Albuquerque    NM         1216  \n",
       "39542       Albuquerque    NM         1214  \n",
       "17039  Colorado Springs    CO         1195  \n",
       "14120       Albuquerque    NM         1187  \n",
       "17432            Aurora    CO         1187  \n",
       "17619            Aurora    CO         1179  \n",
       "19134            Aurora    CO         1171  \n",
       "37747       Albuquerque    NM         1170  "
      ]
     },
     "execution_count": 24,
     "metadata": {},
     "output_type": "execute_result"
    }
   ],
   "source": [
    "df.sort_values(['door_swings'],ascending=False).head(20)"
   ]
  },
  {
   "cell_type": "code",
   "execution_count": 18,
   "id": "f58e5aff",
   "metadata": {},
   "outputs": [
    {
     "data": {
      "image/png": "[encoded data removed]",
      "text/plain": [
       "<Figure size 500x500 with 1 Axes>"
      ]
     },
     "metadata": {},
     "output_type": "display_data"
    }
   ],
   "source": [
    "(state_mean_doorswings.reindex(index=state_mean_doorswings.mean(axis=1)\n",
    "    .sort_values(ascending=False)\n",
    "    .index)\n",
    "    .plot(kind='barh', figsize=(5, 5), title='Average door swings by State'))\n",
    "plt.xlabel('Door Swings');"
   ]
  },
  {
   "cell_type": "markdown",
   "id": "d0864ace",
   "metadata": {},
   "source": [
    "It is interesting to note that NM has the highest average door swings per state, and the Albuquerque store in NM has 10 out of the 20 highest door swings in the past eight years. Keep in mind that NM is the second lowest state regarding the total number of stores per state."
   ]
  },
  {
   "cell_type": "code",
   "execution_count": 19,
   "id": "caffb719",
   "metadata": {},
   "outputs": [
    {
     "data": {
      "image/png": "[encoded data removed]",
      "text/plain": [
       "<Figure size 1200x800 with 1 Axes>"
      ]
     },
     "metadata": {},
     "output_type": "display_data"
    }
   ],
   "source": [
    "plt.subplots(figsize=(12, 8))\n",
    "sns.boxplot(x='state', y='door_swings', data=df)\n",
    "plt.xticks(rotation='vertical')\n",
    "plt.ylabel('Door Swings')\n",
    "plt.xlabel('State');"
   ]
  },
  {
   "cell_type": "markdown",
   "id": "4e22de2a",
   "metadata": {},
   "source": [
    "#### 1.4.1.2 Count of Door Swings"
   ]
  },
  {
   "cell_type": "markdown",
   "id": "f01ab7d1",
   "metadata": {},
   "source": [
    "I wonder if there are specific numbers that occur over this data set. Specifically, is there a number that pops up more often than others regarding door swings?\n"
   ]
  },
  {
   "cell_type": "code",
   "execution_count": 13,
   "id": "4fda6766",
   "metadata": {},
   "outputs": [
    {
     "data": {
      "text/plain": [
       "(array([8.2080e+03, 1.9344e+04, 1.7196e+04, 1.2314e+04, 6.7630e+03,\n",
       "        3.8420e+03, 2.7360e+03, 1.7920e+03, 1.0800e+03, 7.2300e+02,\n",
       "        4.2600e+02, 2.1000e+02, 9.2000e+01, 4.5000e+01, 1.2000e+01,\n",
       "        3.0000e+00, 0.0000e+00, 1.0000e+00, 1.0000e+00, 1.0000e+00]),\n",
       " array([   0.  ,   84.15,  168.3 ,  252.45,  336.6 ,  420.75,  504.9 ,\n",
       "         589.05,  673.2 ,  757.35,  841.5 ,  925.65, 1009.8 , 1093.95,\n",
       "        1178.1 , 1262.25, 1346.4 , 1430.55, 1514.7 , 1598.85, 1683.  ]),\n",
       " <BarContainer object of 20 artists>)"
      ]
     },
     "execution_count": 13,
     "metadata": {},
     "output_type": "execute_result"
    },
    {
     "data": {
      "image/png": "[encoded data removed]",
      "text/plain": [
       "<Figure size 640x480 with 1 Axes>"
      ]
     },
     "metadata": {},
     "output_type": "display_data"
    }
   ],
   "source": [
    "plt.xlabel('Amount of Door Swings')\n",
    "plt.ylabel('Count')\n",
    "plt.title('Count of Door Swings')\n",
    "plt.hist(df['door_swings'], bins=20)"
   ]
  },
  {
   "cell_type": "code",
   "execution_count": 15,
   "id": "4525bc7b",
   "metadata": {},
   "outputs": [
    {
     "data": {
      "text/plain": [
       "0       2286\n",
       "162      265\n",
       "106      265\n",
       "158      263\n",
       "137      261\n",
       "        ... \n",
       "1003       1\n",
       "1039       1\n",
       "1043       1\n",
       "1161       1\n",
       "1012       1\n",
       "Name: door_swings, Length: 1105, dtype: int64"
      ]
     },
     "execution_count": 15,
     "metadata": {},
     "output_type": "execute_result"
    }
   ],
   "source": [
    "df['door_swings'].value_counts()"
   ]
  },
  {
   "cell_type": "markdown",
   "id": "b6e01d75",
   "metadata": {},
   "source": [
    "The most recurring number of daily door swings is between 0 and 300. Most of our stores are open 10 hours a day and 7 hours on the weekend. Besides 0, the top 4 most recurring number that comes up is 162, 106, 158 and 137."
   ]
  },
  {
   "cell_type": "markdown",
   "id": "a47db3de",
   "metadata": {},
   "source": [
    "#### 1.4.3.1 Numeric Data Summary"
   ]
  },
  {
   "cell_type": "code",
   "execution_count": 20,
   "id": "2d2baae7",
   "metadata": {},
   "outputs": [
    {
     "data": {
      "text/html": [
       "<div>\n",
       "<style scoped>\n",
       "    .dataframe tbody tr th:only-of-type {\n",
       "        vertical-align: middle;\n",
       "    }\n",
       "\n",
       "    .dataframe tbody tr th {\n",
       "        vertical-align: top;\n",
       "    }\n",
       "\n",
       "    .dataframe thead th {\n",
       "        text-align: right;\n",
       "    }\n",
       "</style>\n",
       "<table border=\"1\" class=\"dataframe\">\n",
       "  <thead>\n",
       "    <tr style=\"text-align: right;\">\n",
       "      <th></th>\n",
       "      <th>door_swings</th>\n",
       "    </tr>\n",
       "  </thead>\n",
       "  <tbody>\n",
       "    <tr>\n",
       "      <th>count</th>\n",
       "      <td>74789.000000</td>\n",
       "    </tr>\n",
       "    <tr>\n",
       "      <th>mean</th>\n",
       "      <td>253.804129</td>\n",
       "    </tr>\n",
       "    <tr>\n",
       "      <th>std</th>\n",
       "      <td>177.083237</td>\n",
       "    </tr>\n",
       "    <tr>\n",
       "      <th>min</th>\n",
       "      <td>0.000000</td>\n",
       "    </tr>\n",
       "    <tr>\n",
       "      <th>25%</th>\n",
       "      <td>131.000000</td>\n",
       "    </tr>\n",
       "    <tr>\n",
       "      <th>50%</th>\n",
       "      <td>214.000000</td>\n",
       "    </tr>\n",
       "    <tr>\n",
       "      <th>75%</th>\n",
       "      <td>328.000000</td>\n",
       "    </tr>\n",
       "    <tr>\n",
       "      <th>max</th>\n",
       "      <td>1683.000000</td>\n",
       "    </tr>\n",
       "  </tbody>\n",
       "</table>\n",
       "</div>"
      ],
      "text/plain": [
       "        door_swings\n",
       "count  74789.000000\n",
       "mean     253.804129\n",
       "std      177.083237\n",
       "min        0.000000\n",
       "25%      131.000000\n",
       "50%      214.000000\n",
       "75%      328.000000\n",
       "max     1683.000000"
      ]
     },
     "execution_count": 20,
     "metadata": {},
     "output_type": "execute_result"
    }
   ],
   "source": [
    "df.describe()"
   ]
  },
  {
   "cell_type": "markdown",
   "id": "ad6ec24f",
   "metadata": {},
   "source": [
    "It is interesting to see that we had a store have almost 1700 customers go into a store in one given day."
   ]
  },
  {
   "cell_type": "code",
   "execution_count": 21,
   "id": "e2867f07",
   "metadata": {},
   "outputs": [
    {
     "data": {
      "text/html": [
       "<div>\n",
       "<style scoped>\n",
       "    .dataframe tbody tr th:only-of-type {\n",
       "        vertical-align: middle;\n",
       "    }\n",
       "\n",
       "    .dataframe tbody tr th {\n",
       "        vertical-align: top;\n",
       "    }\n",
       "\n",
       "    .dataframe thead th {\n",
       "        text-align: right;\n",
       "    }\n",
       "</style>\n",
       "<table border=\"1\" class=\"dataframe\">\n",
       "  <thead>\n",
       "    <tr style=\"text-align: right;\">\n",
       "      <th></th>\n",
       "      <th>door_swings</th>\n",
       "    </tr>\n",
       "    <tr>\n",
       "      <th>date</th>\n",
       "      <th></th>\n",
       "    </tr>\n",
       "  </thead>\n",
       "  <tbody>\n",
       "    <tr>\n",
       "      <th>2014-12-31</th>\n",
       "      <td>32174</td>\n",
       "    </tr>\n",
       "    <tr>\n",
       "      <th>2015-12-31</th>\n",
       "      <td>1275108</td>\n",
       "    </tr>\n",
       "    <tr>\n",
       "      <th>2016-12-31</th>\n",
       "      <td>1301189</td>\n",
       "    </tr>\n",
       "    <tr>\n",
       "      <th>2017-12-31</th>\n",
       "      <td>1602200</td>\n",
       "    </tr>\n",
       "    <tr>\n",
       "      <th>2018-12-31</th>\n",
       "      <td>2321143</td>\n",
       "    </tr>\n",
       "    <tr>\n",
       "      <th>2019-12-31</th>\n",
       "      <td>3203486</td>\n",
       "    </tr>\n",
       "    <tr>\n",
       "      <th>2020-12-31</th>\n",
       "      <td>3249148</td>\n",
       "    </tr>\n",
       "    <tr>\n",
       "      <th>2021-12-31</th>\n",
       "      <td>3145370</td>\n",
       "    </tr>\n",
       "    <tr>\n",
       "      <th>2022-12-31</th>\n",
       "      <td>2851939</td>\n",
       "    </tr>\n",
       "  </tbody>\n",
       "</table>\n",
       "</div>"
      ],
      "text/plain": [
       "            door_swings\n",
       "date                   \n",
       "2014-12-31        32174\n",
       "2015-12-31      1275108\n",
       "2016-12-31      1301189\n",
       "2017-12-31      1602200\n",
       "2018-12-31      2321143\n",
       "2019-12-31      3203486\n",
       "2020-12-31      3249148\n",
       "2021-12-31      3145370\n",
       "2022-12-31      2851939"
      ]
     },
     "execution_count": 21,
     "metadata": {},
     "output_type": "execute_result"
    }
   ],
   "source": [
    "df.groupby(pd.Grouper(key='date', freq='1Y')).sum().head(10)"
   ]
  },
  {
   "cell_type": "markdown",
   "id": "cd4baa35",
   "metadata": {},
   "source": [
    "Interestingly, our door swings increased from 2019 to 2020 when the pandemic was at its height."
   ]
  },
  {
   "cell_type": "markdown",
   "id": "c61596ed",
   "metadata": {},
   "source": [
    "## 1.5 Summary "
   ]
  },
  {
   "cell_type": "markdown",
   "id": "3c0bb32b",
   "metadata": {},
   "source": [
    "There are no missing dates, misspellings, or duplicates in store names. We have all the states, the cities and states are also spelled correctly, and we have all the state data. We found that we operate in four states and have 50 stores across the four states. NM has had the highest average door swings over the past eight years, even though they only have six stores. We will bring this data over to the pre-processing and training data."
   ]
  },
  {
   "cell_type": "code",
   "execution_count": null,
   "id": "36215528",
   "metadata": {},
   "outputs": [],
   "source": []
  }
 ],
 "metadata": {
  "kernelspec": {
   "display_name": "Python 3 (ipykernel)",
   "language": "python",
   "name": "python3"
  },
  "language_info": {
   "codemirror_mode": {
    "name": "ipython",
    "version": 3
   },
   "file_extension": ".py",
   "mimetype": "text/x-python",
   "name": "python",
   "nbconvert_exporter": "python",
   "pygments_lexer": "ipython3",
   "version": "3.9.13"
  }
 },
 "nbformat": 4,
 "nbformat_minor": 5
}
