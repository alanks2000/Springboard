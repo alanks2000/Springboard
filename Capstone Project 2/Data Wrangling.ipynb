{
 "cells": [
  {
   "cell_type": "code",
   "execution_count": 4,
   "id": "23535522",
   "metadata": {},
   "outputs": [],
   "source": [
    "import numpy as np\n",
    "import pandas as pd\n",
    "import pyodbc\n",
    "from Username_PW import *"
   ]
  },
  {
   "cell_type": "markdown",
   "id": "d2ff1919",
   "metadata": {},
   "source": [
    "Ran my query to get the data I need for doorswings at one particular store"
   ]
  },
  {
   "cell_type": "code",
   "execution_count": 11,
   "id": "42886ea0",
   "metadata": {},
   "outputs": [
    {
     "name": "stdout",
     "output_type": "stream",
     "text": [
      "Connection to Teradata NDW established\n",
      "Connection Closed\n",
      "                    LOCATION_DESC STORE_TRAFFIC_DATE  Doorswings\n",
      "0     3351 - Albuquerque, NM (XF)         2014-12-22         656\n",
      "1     3351 - Albuquerque, NM (XF)         2014-12-23         612\n",
      "2     3351 - Albuquerque, NM (XF)         2014-12-24         354\n",
      "3     3351 - Albuquerque, NM (XF)         2014-12-25           0\n",
      "4     3351 - Albuquerque, NM (XF)         2014-12-26         819\n",
      "...                           ...                ...         ...\n",
      "2817  3351 - Albuquerque, NM (XF)         2022-10-28         539\n",
      "2818  3351 - Albuquerque, NM (XF)         2022-10-29         427\n",
      "2819  3351 - Albuquerque, NM (XF)         2022-10-30         269\n",
      "2820  3351 - Albuquerque, NM (XF)         2022-10-31         472\n",
      "2821  3351 - Albuquerque, NM (XF)         2022-11-01           0\n",
      "\n",
      "[2822 rows x 3 columns]\n"
     ]
    }
   ],
   "source": [
    "link = 'DRIVER={DRIVERNAME};DBCNAME={hostname};Authentication=LDAP; UID={uid};PWD={pwd}'.format(\n",
    "    DRIVERNAME='Teradata Database ODBC Driver 16.20', hostname='172.28.130.20',\n",
    "    uid= username ,Database='WAVE_DAILY_XFINITY_STORES', pwd= password)\n",
    "\n",
    "conn = pyodbc.connect(link)\n",
    "\n",
    "cus=conn.cursor()\n",
    "print('Connection to Teradata NDW established')\n",
    "\n",
    "sql_query = pd.read_sql_query(\"\"\"\n",
    "\n",
    "SELECT SL.LOCATION_DESC\n",
    ",ST.STORE_TRAFFIC_DATE\n",
    "--,ST.STORE_TRAFFIC_TIME\n",
    ",SUM(ST.EXIT_CNT) as Doorswings\n",
    "FROM\tNDW_SALESCOMP_ANALYTICS_VIEWS.WAVE_DAILY_XFINITY_STORE_TRAFFIC as ST\n",
    "INNER JOIN NDW_ARTERRA_JRNL_VIEWS.WAVE_DAILY_XFINITY_STORE_LISTING as SL\n",
    "ON ST.COMCAST_STORE_ID = SL.COMCAST_STORE_ID\n",
    "WHERE TRAFFIC_TYPE_CODE = 'Actual'\n",
    "AND ST.COMCAST_STORE_ID = '3351'\n",
    "\n",
    "ORDER BY\n",
    "ST.COMCAST_STORE_ID\n",
    ",SL.LOCATION_DESC\n",
    ",ST.STORE_TRAFFIC_DATE\n",
    "--,ST.STORE_TRAFFIC_TIME\n",
    ",Doorswings\n",
    "\n",
    "GROUP BY\n",
    "ST.COMCAST_STORE_ID\n",
    ",SL.LOCATION_DESC\n",
    ",ST.STORE_TRAFFIC_DATE\n",
    "--,ST.STORE_TRAFFIC_TIME\n",
    "\"\"\", conn)\n",
    "\n",
    "#cus.execute(query_ar)\n",
    "\n",
    "#row = cus.fetchone()\n",
    "#print(row)\n",
    "\n",
    "df = pd.DataFrame(sql_query, columns = ['LOCATION_DESC', 'STORE_TRAFFIC_DATE','Doorswings'])\n",
    "\n",
    "conn.close()\n",
    "print(\"Connection Closed\")\n",
    "\n",
    "print(df)"
   ]
  },
  {
   "cell_type": "markdown",
   "id": "80f917e2",
   "metadata": {},
   "source": [
    "I wanted to see if there were any null values as well as the data types."
   ]
  },
  {
   "cell_type": "code",
   "execution_count": 12,
   "id": "f94720dc",
   "metadata": {},
   "outputs": [
    {
     "name": "stdout",
     "output_type": "stream",
     "text": [
      "<class 'pandas.core.frame.DataFrame'>\n",
      "RangeIndex: 2822 entries, 0 to 2821\n",
      "Data columns (total 3 columns):\n",
      " #   Column              Non-Null Count  Dtype \n",
      "---  ------              --------------  ----- \n",
      " 0   LOCATION_DESC       2822 non-null   object\n",
      " 1   STORE_TRAFFIC_DATE  2822 non-null   object\n",
      " 2   Doorswings          2822 non-null   int64 \n",
      "dtypes: int64(1), object(2)\n",
      "memory usage: 66.3+ KB\n"
     ]
    }
   ],
   "source": [
    "df.info()"
   ]
  },
  {
   "cell_type": "markdown",
   "id": "61d1a013",
   "metadata": {},
   "source": [
    "I renamed the columns so that it would be easier to type out"
   ]
  },
  {
   "cell_type": "code",
   "execution_count": 20,
   "id": "55fc9357",
   "metadata": {},
   "outputs": [],
   "source": [
    "df2 = df.rename(columns={'LOCATION_DESC':'store_name', 'STORE_TRAFFIC_DATE':'date', 'Doorswings':'doorswings'})"
   ]
  },
  {
   "cell_type": "code",
   "execution_count": 21,
   "id": "e9c874c6",
   "metadata": {},
   "outputs": [
    {
     "name": "stdout",
     "output_type": "stream",
     "text": [
      "<class 'pandas.core.frame.DataFrame'>\n",
      "RangeIndex: 2822 entries, 0 to 2821\n",
      "Data columns (total 3 columns):\n",
      " #   Column      Non-Null Count  Dtype \n",
      "---  ------      --------------  ----- \n",
      " 0   store_name  2822 non-null   object\n",
      " 1   date        2822 non-null   object\n",
      " 2   doorswings  2822 non-null   int64 \n",
      "dtypes: int64(1), object(2)\n",
      "memory usage: 66.3+ KB\n"
     ]
    }
   ],
   "source": [
    "df2.info()"
   ]
  },
  {
   "cell_type": "code",
   "execution_count": 22,
   "id": "0beaa631",
   "metadata": {},
   "outputs": [
    {
     "data": {
      "text/plain": [
       "store_name    0\n",
       "date          0\n",
       "doorswings    0\n",
       "dtype: int64"
      ]
     },
     "execution_count": 22,
     "metadata": {},
     "output_type": "execute_result"
    }
   ],
   "source": [
    "df2.isnull().sum()"
   ]
  },
  {
   "cell_type": "markdown",
   "id": "dcaebf50",
   "metadata": {},
   "source": [
    "I ran describe to understand at a high level what the statistics were behind doorswings"
   ]
  },
  {
   "cell_type": "code",
   "execution_count": 23,
   "id": "9fd13dc9",
   "metadata": {},
   "outputs": [
    {
     "data": {
      "text/plain": [
       "count    2822.000000\n",
       "mean      609.957831\n",
       "std       203.417848\n",
       "min         0.000000\n",
       "25%       522.500000\n",
       "50%       619.500000\n",
       "75%       730.000000\n",
       "max      1291.000000\n",
       "Name: doorswings, dtype: float64"
      ]
     },
     "execution_count": 23,
     "metadata": {},
     "output_type": "execute_result"
    }
   ],
   "source": [
    "df2.doorswings.describe()"
   ]
  },
  {
   "cell_type": "markdown",
   "id": "1bc58363",
   "metadata": {},
   "source": [
    "I wanted to see what values were recurring in the dataset"
   ]
  },
  {
   "cell_type": "code",
   "execution_count": 24,
   "id": "87c23f42",
   "metadata": {},
   "outputs": [
    {
     "data": {
      "text/plain": [
       "0      28\n",
       "550    14\n",
       "581    14\n",
       "619    13\n",
       "599    13\n",
       "       ..\n",
       "386     1\n",
       "917     1\n",
       "904     1\n",
       "501     1\n",
       "441     1\n",
       "Name: doorswings, Length: 793, dtype: int64"
      ]
     },
     "execution_count": 24,
     "metadata": {},
     "output_type": "execute_result"
    }
   ],
   "source": [
    "df2.doorswings.value_counts()"
   ]
  }
 ],
 "metadata": {
  "kernelspec": {
   "display_name": "Python 3 (ipykernel)",
   "language": "python",
   "name": "python3"
  },
  "language_info": {
   "codemirror_mode": {
    "name": "ipython",
    "version": 3
   },
   "file_extension": ".py",
   "mimetype": "text/x-python",
   "name": "python",
   "nbconvert_exporter": "python",
   "pygments_lexer": "ipython3",
   "version": "3.9.7"
  }
 },
 "nbformat": 4,
 "nbformat_minor": 5
}
