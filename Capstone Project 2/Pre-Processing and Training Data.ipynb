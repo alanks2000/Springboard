{
 "cells": [
  {
   "cell_type": "markdown",
   "id": "121e22a3",
   "metadata": {},
   "source": [
    "# Pre-Processing and Training Data"
   ]
  },
  {
   "cell_type": "markdown",
   "id": "01cb4cad",
   "metadata": {},
   "source": [
    "# 1.1 Contents<a id='1.1_Contents'></a>\n",
    "* [1 Pre-Processing and Training Data](#1_Pre-Processing_and_Training_Data)\n",
    "  * [1.1 Imports](#1.1_Imports)\n",
    "  * [1.2 Load The Data](#1.2_Load_The_Data)\n",
    "  * [1.3 Train Test Split](#1.3_Train_Test_Split)\n",
    "  * [1.4 Metrics](#1.4_Metrics)\n",
    "      * [1.4.1 R-Squared](#1.4.1_R-Squared)\n",
    "      * [1.4.2 Mean Absolute Error](#1.4.2_Mean_Absolute_Error)\n",
    "      * [1.4.3 Mean Squared Error](#1.4.3_Mean_Squared_Error)\n",
    "  * [1.5 Initial Models](#1.5_Initial_Models)\n",
    "      * [1.5.1 Initial Mean Model](#1.5.1_Initial_Mean_Model) \n",
    "      * [1.5.2 Pipelines](#1.5.1_Pipelines) \n",
    "  * [1.6 Refining the Linear Model](#1.6_Refining_the_Linear_Model)\n",
    "      * [1.6.1 Define the Pipeline](#1.6.1_Define_the_Pipeline) \n",
    "      * [1.6.2 Fit the Pipeline](#1.6.2_Fit_the_Pipeline) \n",
    "      * [1.6.3 Assess Performance on Train and Test Set](#1.6.3_Assess_Performance_on_Train_and_Test_Set) \n",
    "      * [1.6.4 Assessing Performance Using Cross-Validation](#1.6.4_Assessing_Performance_Using_Cross-Validation) \n",
    "      * [1.6.5 Hyperparameter Search Using GridSearchCV](#1.6.5_Hyperparameter_Search_Using_GridSearchCV) \n",
    "  * [1.7 Random Forest Model](#1.7_Random_Forest_Model)\n",
    "      * [1.7.1 Define the Pipeline](#1.7.2_Define_the_Pipeline) \n",
    "      * [1.7.2 Fit and Assess Performance Using Cross-Validation](#1.7.2_Fit_and_Assess_Performance_Using_Cross-Validation)\n",
    "      * [1.7.3 Hyperparameter Search Using GridSearchCV](#1.7.3_Hyperparameter_Search_Using_GridSearchCV) \n",
    "  * [1.8 Final Model Selection](#1.8_Final_Model_Selection)\n",
    "      * [1.8.1 Linear Regression Model Performance](#1.8.1_Linear_Regression_Model_Performance)\n",
    "      * [1.8.2 Random Forest Regression Model_Performance](#1.8.2_Random_Forest_Regression_Model_Performance)\n",
    "      * [1.8.3 Conclusion](#1.8.3_Conclusion)\n",
    "  * [1.9 Save Best Model Object From Pipeline](#1.9_Save_Best_Model_Object_From_Pipeline)\n",
    "  * [1.10 Summary](#1.10_Summary)"
   ]
  },
  {
   "cell_type": "markdown",
   "id": "2f013303",
   "metadata": {},
   "source": [
    "## 1.1 Imports"
   ]
  },
  {
   "cell_type": "code",
   "execution_count": 167,
   "id": "7d0f847a",
   "metadata": {},
   "outputs": [],
   "source": [
    "import pandas as pd\n",
    "import numpy as np\n",
    "import os\n",
    "import pickle\n",
    "import matplotlib.pyplot as plt\n",
    "import seaborn as sns\n",
    "from sklearn import __version__ as sklearn_version\n",
    "from sklearn.decomposition import PCA\n",
    "from sklearn.preprocessing import scale\n",
    "from sklearn.model_selection import train_test_split, cross_validate, GridSearchCV, learning_curve\n",
    "from sklearn.preprocessing import StandardScaler, MinMaxScaler\n",
    "from sklearn.dummy import DummyRegressor\n",
    "from sklearn.linear_model import LinearRegression\n",
    "from sklearn.ensemble import RandomForestRegressor\n",
    "from sklearn.metrics import r2_score, mean_squared_error, mean_absolute_error\n",
    "from sklearn.pipeline import make_pipeline\n",
    "from sklearn.impute import SimpleImputer\n",
    "from sklearn.feature_selection import SelectKBest, f_regression\n",
    "import datetime\n",
    "\n",
    "from sb_utils import save_file"
   ]
  },
  {
   "cell_type": "markdown",
   "id": "4136fb2a",
   "metadata": {},
   "source": [
    "## 1.2 Load Data"
   ]
  },
  {
   "cell_type": "code",
   "execution_count": 14,
   "id": "124e52f8",
   "metadata": {
    "scrolled": true
   },
   "outputs": [
    {
     "data": {
      "text/html": [
       "<div>\n",
       "<style scoped>\n",
       "    .dataframe tbody tr th:only-of-type {\n",
       "        vertical-align: middle;\n",
       "    }\n",
       "\n",
       "    .dataframe tbody tr th {\n",
       "        vertical-align: top;\n",
       "    }\n",
       "\n",
       "    .dataframe thead th {\n",
       "        text-align: right;\n",
       "    }\n",
       "</style>\n",
       "<table border=\"1\" class=\"dataframe\">\n",
       "  <thead>\n",
       "    <tr style=\"text-align: right;\">\n",
       "      <th></th>\n",
       "      <th>0</th>\n",
       "      <th>1</th>\n",
       "      <th>2</th>\n",
       "      <th>3</th>\n",
       "      <th>4</th>\n",
       "    </tr>\n",
       "  </thead>\n",
       "  <tbody>\n",
       "    <tr>\n",
       "      <th>Traffic_Date</th>\n",
       "      <td>2014-12-22 00:00:00</td>\n",
       "      <td>2014-12-22 00:00:00</td>\n",
       "      <td>2014-12-22 00:00:00</td>\n",
       "      <td>2014-12-22 00:00:00</td>\n",
       "      <td>2014-12-22 00:00:00</td>\n",
       "    </tr>\n",
       "    <tr>\n",
       "      <th>STORE_NAME</th>\n",
       "      <td>3351 - Albuquerque, NM (XF)</td>\n",
       "      <td>3352 - Lakewood, CO (XF)</td>\n",
       "      <td>3353 - Colorado Springs, CO (XF)</td>\n",
       "      <td>3354 - Thornton, CO (XF)</td>\n",
       "      <td>3356 - Boulder, CO (XF)</td>\n",
       "    </tr>\n",
       "    <tr>\n",
       "      <th>STORE_CITY_NAME</th>\n",
       "      <td>Albuquerque</td>\n",
       "      <td>Lakewood</td>\n",
       "      <td>Colorado Springs</td>\n",
       "      <td>Thornton</td>\n",
       "      <td>Boulder</td>\n",
       "    </tr>\n",
       "    <tr>\n",
       "      <th>STORE_STATE_CODE</th>\n",
       "      <td>NM</td>\n",
       "      <td>CO</td>\n",
       "      <td>CO</td>\n",
       "      <td>CO</td>\n",
       "      <td>CO</td>\n",
       "    </tr>\n",
       "    <tr>\n",
       "      <th>Door_Swings</th>\n",
       "      <td>656</td>\n",
       "      <td>452</td>\n",
       "      <td>562</td>\n",
       "      <td>594</td>\n",
       "      <td>369</td>\n",
       "    </tr>\n",
       "  </tbody>\n",
       "</table>\n",
       "</div>"
      ],
      "text/plain": [
       "                                            0                         1  \\\n",
       "Traffic_Date              2014-12-22 00:00:00       2014-12-22 00:00:00   \n",
       "STORE_NAME        3351 - Albuquerque, NM (XF)  3352 - Lakewood, CO (XF)   \n",
       "STORE_CITY_NAME                   Albuquerque                  Lakewood   \n",
       "STORE_STATE_CODE                           NM                        CO   \n",
       "Door_Swings                               656                       452   \n",
       "\n",
       "                                                 2                         3  \\\n",
       "Traffic_Date                   2014-12-22 00:00:00       2014-12-22 00:00:00   \n",
       "STORE_NAME        3353 - Colorado Springs, CO (XF)  3354 - Thornton, CO (XF)   \n",
       "STORE_CITY_NAME                   Colorado Springs                  Thornton   \n",
       "STORE_STATE_CODE                                CO                        CO   \n",
       "Door_Swings                                    562                       594   \n",
       "\n",
       "                                        4  \n",
       "Traffic_Date          2014-12-22 00:00:00  \n",
       "STORE_NAME        3356 - Boulder, CO (XF)  \n",
       "STORE_CITY_NAME                   Boulder  \n",
       "STORE_STATE_CODE                       CO  \n",
       "Door_Swings                           369  "
      ]
     },
     "execution_count": 14,
     "metadata": {},
     "output_type": "execute_result"
    }
   ],
   "source": [
    "df = pd.read_excel(r'C:\\Users\\asiu200\\OneDrive - Comcast\\Python\\Springboard\\Data Wrangling.xlsx')\n",
    "df.head().T"
   ]
  },
  {
   "cell_type": "code",
   "execution_count": 18,
   "id": "9c6ed9b2",
   "metadata": {},
   "outputs": [],
   "source": [
    "df.rename(columns={'STORE_NAME' : 'store_name', 'Traffic_Date' : 'date', 'STORE_CITY_NAME' : 'city', 'STORE_STATE_CODE' : 'state','Door_Swings' : 'door_swings'}, inplace=True)"
   ]
  },
  {
   "cell_type": "markdown",
   "id": "f0567f94",
   "metadata": {},
   "source": [
    "## 1.3 Train/Test Split"
   ]
  },
  {
   "cell_type": "code",
   "execution_count": 23,
   "id": "0a9bbff8",
   "metadata": {},
   "outputs": [
    {
     "data": {
      "text/plain": [
       "(50363.6, 21584.399999999998)"
      ]
     },
     "execution_count": 23,
     "metadata": {},
     "output_type": "execute_result"
    }
   ],
   "source": [
    "len(df) *.7, len(df) * .3"
   ]
  },
  {
   "cell_type": "code",
   "execution_count": 37,
   "id": "2ab27b75",
   "metadata": {},
   "outputs": [],
   "source": [
    "X_train, X_test, y_train, y_test = train_test_split(df.drop(columns='city'),df.door_swings, test_size=0.3, \n",
    "                                                    random_state=23)"
   ]
  },
  {
   "cell_type": "code",
   "execution_count": 38,
   "id": "18fdf1fd",
   "metadata": {},
   "outputs": [
    {
     "data": {
      "text/plain": [
       "((50363, 4), (21585, 4))"
      ]
     },
     "execution_count": 38,
     "metadata": {},
     "output_type": "execute_result"
    }
   ],
   "source": [
    "X_train.shape, X_test.shape"
   ]
  },
  {
   "cell_type": "code",
   "execution_count": 39,
   "id": "5182f49e",
   "metadata": {},
   "outputs": [
    {
     "data": {
      "text/plain": [
       "((50363,), (21585,))"
      ]
     },
     "execution_count": 39,
     "metadata": {},
     "output_type": "execute_result"
    }
   ],
   "source": [
    "y_train.shape, y_test.shape"
   ]
  },
  {
   "cell_type": "code",
   "execution_count": 41,
   "id": "0267938b",
   "metadata": {},
   "outputs": [
    {
     "data": {
      "text/plain": [
       "((50363, 1), (21585, 1))"
      ]
     },
     "execution_count": 41,
     "metadata": {},
     "output_type": "execute_result"
    }
   ],
   "source": [
    "names_list = ['store_name', 'date', 'state']\n",
    "names_train = X_train[names_list]\n",
    "names_test = X_test[names_list]\n",
    "X_train.drop(columns=names_list, inplace=True)\n",
    "X_test.drop(columns=names_list, inplace=True)\n",
    "X_train.shape, X_test.shape"
   ]
  },
  {
   "cell_type": "code",
   "execution_count": 42,
   "id": "24a4d31f",
   "metadata": {},
   "outputs": [
    {
     "data": {
      "text/plain": [
       "door_swings    int64\n",
       "dtype: object"
      ]
     },
     "execution_count": 42,
     "metadata": {},
     "output_type": "execute_result"
    }
   ],
   "source": [
    "X_train.dtypes"
   ]
  },
  {
   "cell_type": "code",
   "execution_count": 43,
   "id": "2d925efc",
   "metadata": {},
   "outputs": [
    {
     "data": {
      "text/plain": [
       "door_swings    int64\n",
       "dtype: object"
      ]
     },
     "execution_count": 43,
     "metadata": {},
     "output_type": "execute_result"
    }
   ],
   "source": [
    "X_test.dtypes"
   ]
  },
  {
   "cell_type": "code",
   "execution_count": 45,
   "id": "6b9ddbfd",
   "metadata": {},
   "outputs": [
    {
     "data": {
      "text/plain": [
       "array([[239.13577428]])"
      ]
     },
     "execution_count": 45,
     "metadata": {},
     "output_type": "execute_result"
    }
   ],
   "source": [
    "dumb_reg = DummyRegressor(strategy='mean')\n",
    "dumb_reg.fit(X_train, y_train)\n",
    "dumb_reg.constant_"
   ]
  },
  {
   "cell_type": "markdown",
   "id": "6db15fff",
   "metadata": {},
   "source": [
    "## 1.4 Metrics"
   ]
  },
  {
   "cell_type": "markdown",
   "id": "16553f7a",
   "metadata": {},
   "source": [
    "### 1.4.1 R-Squared"
   ]
  },
  {
   "cell_type": "code",
   "execution_count": 61,
   "id": "d4194231",
   "metadata": {},
   "outputs": [
    {
     "data": {
      "text/plain": [
       "(0.0, -0.00016786945988411794)"
      ]
     },
     "execution_count": 61,
     "metadata": {},
     "output_type": "execute_result"
    }
   ],
   "source": [
    "r2_score(y_train, y_tr_pred), r2_score(y_test, y_te_pred)"
   ]
  },
  {
   "cell_type": "markdown",
   "id": "d0a649d8",
   "metadata": {},
   "source": [
    "### 1.4.2 Mean Absolute Error"
   ]
  },
  {
   "cell_type": "code",
   "execution_count": 62,
   "id": "f35cae90",
   "metadata": {},
   "outputs": [
    {
     "data": {
      "text/plain": [
       "(120.1363249523311, 121.13820984737669)"
      ]
     },
     "execution_count": 62,
     "metadata": {},
     "output_type": "execute_result"
    }
   ],
   "source": [
    "mean_absolute_error(y_train, y_tr_pred), mean_absolute_error(y_test, y_te_pred)"
   ]
  },
  {
   "cell_type": "markdown",
   "id": "91c5ae93",
   "metadata": {},
   "source": [
    "On average, I might be off around 121 door swings if I guessed the door swings based on an average of known values"
   ]
  },
  {
   "cell_type": "markdown",
   "id": "0355d580",
   "metadata": {},
   "source": [
    "### 1.4.3 Mean Squared Error"
   ]
  },
  {
   "cell_type": "code",
   "execution_count": 63,
   "id": "b06def70",
   "metadata": {},
   "outputs": [
    {
     "data": {
      "text/plain": [
       "(25617.051239510794, 26162.273041019143)"
      ]
     },
     "execution_count": 63,
     "metadata": {},
     "output_type": "execute_result"
    }
   ],
   "source": [
    "mean_squared_error(y_train, y_tr_pred), mean_squared_error(y_test, y_te_pred)"
   ]
  },
  {
   "cell_type": "markdown",
   "id": "4c742cc0",
   "metadata": {},
   "source": [
    "I got a slightly better MSE on my test set versus my train test."
   ]
  },
  {
   "cell_type": "markdown",
   "id": "8ca73096",
   "metadata": {},
   "source": [
    "## 1.5 Initial Models"
   ]
  },
  {
   "cell_type": "markdown",
   "id": "cf321c9d",
   "metadata": {},
   "source": [
    "### 1.5.1 Initial Mean Model"
   ]
  },
  {
   "cell_type": "code",
   "execution_count": 173,
   "id": "dafa9ae9",
   "metadata": {},
   "outputs": [
    {
     "data": {
      "text/plain": [
       "239.13577427873636"
      ]
     },
     "execution_count": 173,
     "metadata": {},
     "output_type": "execute_result"
    }
   ],
   "source": [
    "train_mean = y_train.mean()\n",
    "train_mean"
   ]
  },
  {
   "cell_type": "markdown",
   "id": "610cd6ee",
   "metadata": {},
   "source": [
    "### 1.5.2 Pipelines"
   ]
  },
  {
   "cell_type": "code",
   "execution_count": 81,
   "id": "20eb5d42",
   "metadata": {},
   "outputs": [],
   "source": [
    "pipe = make_pipeline(\n",
    "    SimpleImputer(strategy='median'), \n",
    "    StandardScaler(), \n",
    "    LinearRegression()\n",
    ")"
   ]
  },
  {
   "cell_type": "code",
   "execution_count": 82,
   "id": "52a39148",
   "metadata": {},
   "outputs": [
    {
     "data": {
      "text/plain": [
       "sklearn.pipeline.Pipeline"
      ]
     },
     "execution_count": 82,
     "metadata": {},
     "output_type": "execute_result"
    }
   ],
   "source": [
    "type(pipe)"
   ]
  },
  {
   "cell_type": "code",
   "execution_count": 83,
   "id": "d7541bb1",
   "metadata": {},
   "outputs": [
    {
     "data": {
      "text/plain": [
       "(True, True)"
      ]
     },
     "execution_count": 83,
     "metadata": {},
     "output_type": "execute_result"
    }
   ],
   "source": [
    "hasattr(pipe, 'fit'), hasattr(pipe, 'predict')"
   ]
  },
  {
   "cell_type": "code",
   "execution_count": 84,
   "id": "5064f33f",
   "metadata": {},
   "outputs": [
    {
     "data": {
      "text/plain": [
       "Pipeline(steps=[('simpleimputer', SimpleImputer(strategy='median')),\n",
       "                ('standardscaler', StandardScaler()),\n",
       "                ('linearregression', LinearRegression())])"
      ]
     },
     "execution_count": 84,
     "metadata": {},
     "output_type": "execute_result"
    }
   ],
   "source": [
    "pipe.fit(X_train, y_train)"
   ]
  },
  {
   "cell_type": "code",
   "execution_count": 85,
   "id": "3d058984",
   "metadata": {},
   "outputs": [],
   "source": [
    "y_tr_pred = pipe.predict(X_train)\n",
    "y_te_pred = pipe.predict(X_test)"
   ]
  },
  {
   "cell_type": "code",
   "execution_count": 86,
   "id": "f4ffc2c2",
   "metadata": {},
   "outputs": [
    {
     "data": {
      "text/plain": [
       "(1.0, 1.0)"
      ]
     },
     "execution_count": 86,
     "metadata": {},
     "output_type": "execute_result"
    }
   ],
   "source": [
    "r2_score(y_train, y_tr_pred), r2_score(y_test, y_te_pred)"
   ]
  },
  {
   "cell_type": "code",
   "execution_count": 87,
   "id": "6e956a18",
   "metadata": {},
   "outputs": [
    {
     "data": {
      "text/plain": [
       "(1.0, 1.0)"
      ]
     },
     "execution_count": 87,
     "metadata": {},
     "output_type": "execute_result"
    }
   ],
   "source": [
    "median_r2"
   ]
  },
  {
   "cell_type": "code",
   "execution_count": 88,
   "id": "d26b8bc3",
   "metadata": {},
   "outputs": [
    {
     "data": {
      "text/plain": [
       "(4.0120135370827726e-14, 4.063639497736452e-14)"
      ]
     },
     "execution_count": 88,
     "metadata": {},
     "output_type": "execute_result"
    }
   ],
   "source": [
    "mean_absolute_error(y_train, y_tr_pred), mean_absolute_error(y_test, y_te_pred)"
   ]
  },
  {
   "cell_type": "code",
   "execution_count": 89,
   "id": "858ff83d",
   "metadata": {},
   "outputs": [
    {
     "data": {
      "text/plain": [
       "(4.0120135370827726e-14, 4.063639497736452e-14)"
      ]
     },
     "execution_count": 89,
     "metadata": {},
     "output_type": "execute_result"
    }
   ],
   "source": [
    "median_mae"
   ]
  },
  {
   "cell_type": "markdown",
   "id": "606edef6",
   "metadata": {},
   "source": [
    "## 1.6 Refining the Linear Model"
   ]
  },
  {
   "cell_type": "markdown",
   "id": "525781e5",
   "metadata": {},
   "source": [
    "### 1.6.1 Define the Pipeline"
   ]
  },
  {
   "cell_type": "code",
   "execution_count": 111,
   "id": "5139029d",
   "metadata": {},
   "outputs": [],
   "source": [
    "pipe = make_pipeline(\n",
    "    SimpleImputer(strategy='median'), \n",
    "    StandardScaler(),\n",
    "    SelectKBest(f_regression,  k='all'),\n",
    "    LinearRegression()\n",
    ")"
   ]
  },
  {
   "cell_type": "markdown",
   "id": "67a1149d",
   "metadata": {},
   "source": [
    "All the k features needed to be added or else an error would populate."
   ]
  },
  {
   "cell_type": "markdown",
   "id": "3d12adce",
   "metadata": {},
   "source": [
    "### 1.6.2 Fit the Pipeline"
   ]
  },
  {
   "cell_type": "code",
   "execution_count": 113,
   "id": "9d05483f",
   "metadata": {},
   "outputs": [
    {
     "data": {
      "text/plain": [
       "Pipeline(steps=[('simpleimputer', SimpleImputer(strategy='median')),\n",
       "                ('standardscaler', StandardScaler()),\n",
       "                ('selectkbest',\n",
       "                 SelectKBest(k='all',\n",
       "                             score_func=<function f_regression at 0x0000024BBF3F58B0>)),\n",
       "                ('linearregression', LinearRegression())])"
      ]
     },
     "execution_count": 113,
     "metadata": {},
     "output_type": "execute_result"
    }
   ],
   "source": [
    "pipe.fit(X_train, y_train)"
   ]
  },
  {
   "cell_type": "markdown",
   "id": "502d7923",
   "metadata": {},
   "source": [
    "### 1.6.3 Assess Performance on Train and Test Set"
   ]
  },
  {
   "cell_type": "code",
   "execution_count": 114,
   "id": "569becf5",
   "metadata": {},
   "outputs": [],
   "source": [
    "y_tr_pred = pipe.predict(X_train)\n",
    "y_te_pred = pipe.predict(X_test)"
   ]
  },
  {
   "cell_type": "code",
   "execution_count": 115,
   "id": "ffe51f36",
   "metadata": {},
   "outputs": [
    {
     "data": {
      "text/plain": [
       "(1.0, 1.0)"
      ]
     },
     "execution_count": 115,
     "metadata": {},
     "output_type": "execute_result"
    }
   ],
   "source": [
    "r2_score(y_train, y_tr_pred), r2_score(y_test, y_te_pred)"
   ]
  },
  {
   "cell_type": "code",
   "execution_count": 116,
   "id": "dcb76037",
   "metadata": {},
   "outputs": [
    {
     "data": {
      "text/plain": [
       "(4.0120135370827726e-14, 4.063639497736452e-14)"
      ]
     },
     "execution_count": 116,
     "metadata": {},
     "output_type": "execute_result"
    }
   ],
   "source": [
    "mean_absolute_error(y_train, y_tr_pred), mean_absolute_error(y_test, y_te_pred)"
   ]
  },
  {
   "cell_type": "markdown",
   "id": "528aec28",
   "metadata": {},
   "source": [
    "### 1.6.4 Assessing Performance Using Cross-Validation"
   ]
  },
  {
   "cell_type": "code",
   "execution_count": 117,
   "id": "0de9949f",
   "metadata": {},
   "outputs": [],
   "source": [
    "cv_results = cross_validate(pipe15, X_train, y_train, cv=5)"
   ]
  },
  {
   "cell_type": "code",
   "execution_count": 118,
   "id": "f652e2fa",
   "metadata": {},
   "outputs": [
    {
     "data": {
      "text/plain": [
       "array([1., 1., 1., 1., 1.])"
      ]
     },
     "execution_count": 118,
     "metadata": {},
     "output_type": "execute_result"
    }
   ],
   "source": [
    "cv_scores = cv_results['test_score']\n",
    "cv_scores"
   ]
  },
  {
   "cell_type": "code",
   "execution_count": 119,
   "id": "c5bddc92",
   "metadata": {},
   "outputs": [
    {
     "data": {
      "text/plain": [
       "(1.0, 0.0)"
      ]
     },
     "execution_count": 119,
     "metadata": {},
     "output_type": "execute_result"
    }
   ],
   "source": [
    "np.mean(cv_scores), np.std(cv_scores)"
   ]
  },
  {
   "cell_type": "code",
   "execution_count": 120,
   "id": "53113bd8",
   "metadata": {},
   "outputs": [
    {
     "data": {
      "text/plain": [
       "array([1., 1.])"
      ]
     },
     "execution_count": 120,
     "metadata": {},
     "output_type": "execute_result"
    }
   ],
   "source": [
    "np.round((np.mean(cv_scores) - 2 * np.std(cv_scores), np.mean(cv_scores) + 2 * np.std(cv_scores)), 2)\n"
   ]
  },
  {
   "cell_type": "markdown",
   "id": "484eec5e",
   "metadata": {},
   "source": [
    "### 1.6.5 Hyperparameter Search Using GridSearchCV"
   ]
  },
  {
   "cell_type": "code",
   "execution_count": 122,
   "id": "5916d5e4",
   "metadata": {},
   "outputs": [],
   "source": [
    "k = [k+1 for k in range(len(X_train.columns))]\n",
    "grid_params = {'selectkbest__k': k}"
   ]
  },
  {
   "cell_type": "code",
   "execution_count": 123,
   "id": "f79551a6",
   "metadata": {},
   "outputs": [],
   "source": [
    "lr_grid_cv = GridSearchCV(pipe, param_grid=grid_params, cv=5, n_jobs=-1)"
   ]
  },
  {
   "cell_type": "code",
   "execution_count": 124,
   "id": "0efcaabe",
   "metadata": {},
   "outputs": [
    {
     "data": {
      "text/plain": [
       "GridSearchCV(cv=5,\n",
       "             estimator=Pipeline(steps=[('simpleimputer',\n",
       "                                        SimpleImputer(strategy='median')),\n",
       "                                       ('standardscaler', StandardScaler()),\n",
       "                                       ('selectkbest',\n",
       "                                        SelectKBest(k='all',\n",
       "                                                    score_func=<function f_regression at 0x0000024BBF3F58B0>)),\n",
       "                                       ('linearregression',\n",
       "                                        LinearRegression())]),\n",
       "             n_jobs=-1, param_grid={'selectkbest__k': [1]})"
      ]
     },
     "execution_count": 124,
     "metadata": {},
     "output_type": "execute_result"
    }
   ],
   "source": [
    "lr_grid_cv.fit(X_train, y_train)"
   ]
  },
  {
   "cell_type": "code",
   "execution_count": 125,
   "id": "e799019e",
   "metadata": {},
   "outputs": [],
   "source": [
    "score_mean = lr_grid_cv.cv_results_['mean_test_score']\n",
    "score_std = lr_grid_cv.cv_results_['std_test_score']\n",
    "cv_k = [k for k in lr_grid_cv.cv_results_['param_selectkbest__k']]"
   ]
  },
  {
   "cell_type": "code",
   "execution_count": 126,
   "id": "19cbb7ba",
   "metadata": {},
   "outputs": [
    {
     "data": {
      "text/plain": [
       "{'selectkbest__k': 1}"
      ]
     },
     "execution_count": 126,
     "metadata": {},
     "output_type": "execute_result"
    }
   ],
   "source": [
    "lr_grid_cv.best_params_"
   ]
  },
  {
   "cell_type": "code",
   "execution_count": 129,
   "id": "987b33a0",
   "metadata": {},
   "outputs": [],
   "source": [
    "selected = lr_grid_cv.best_estimator_.named_steps.selectkbest.get_support()"
   ]
  },
  {
   "cell_type": "code",
   "execution_count": 130,
   "id": "502e8018",
   "metadata": {},
   "outputs": [
    {
     "data": {
      "text/plain": [
       "door_swings    160.053276\n",
       "dtype: float64"
      ]
     },
     "execution_count": 130,
     "metadata": {},
     "output_type": "execute_result"
    }
   ],
   "source": [
    "coefs = lr_grid_cv.best_estimator_.named_steps.linearregression.coef_\n",
    "features = X_train.columns[selected]\n",
    "pd.Series(coefs, index=features).sort_values(ascending=False)"
   ]
  },
  {
   "cell_type": "markdown",
   "id": "6cb753b1",
   "metadata": {},
   "source": [
    "## 1.7 Random Forest Model "
   ]
  },
  {
   "cell_type": "markdown",
   "id": "3d76ad08",
   "metadata": {},
   "source": [
    "### 1.7.1 Define the Pipeline"
   ]
  },
  {
   "cell_type": "code",
   "execution_count": 148,
   "id": "bb0503b6",
   "metadata": {},
   "outputs": [],
   "source": [
    "RF_pipe = make_pipeline(\n",
    "    SimpleImputer(strategy='median'),\n",
    "    StandardScaler(),\n",
    "    RandomForestRegressor(random_state=47)\n",
    ")"
   ]
  },
  {
   "cell_type": "markdown",
   "id": "fe9283a2",
   "metadata": {},
   "source": [
    "### 1.7.2 Fit and Assess Peformance Using Cross-Validation"
   ]
  },
  {
   "cell_type": "code",
   "execution_count": 149,
   "id": "7244e0ed",
   "metadata": {},
   "outputs": [],
   "source": [
    "rf_default_cv_results = cross_validate(RF_pipe, X_train, y_train, cv=5)"
   ]
  },
  {
   "cell_type": "code",
   "execution_count": 150,
   "id": "833451b6",
   "metadata": {},
   "outputs": [
    {
     "data": {
      "text/plain": [
       "array([0.99920761, 0.99998361, 0.99999986, 0.99999987, 0.99999831])"
      ]
     },
     "execution_count": 150,
     "metadata": {},
     "output_type": "execute_result"
    }
   ],
   "source": [
    "rf_cv_scores = rf_default_cv_results['test_score']\n",
    "rf_cv_scores"
   ]
  },
  {
   "cell_type": "code",
   "execution_count": 151,
   "id": "23056805",
   "metadata": {},
   "outputs": [
    {
     "data": {
      "text/plain": [
       "(0.9998378499475165, 0.0003151777859367049)"
      ]
     },
     "execution_count": 151,
     "metadata": {},
     "output_type": "execute_result"
    }
   ],
   "source": [
    "np.mean(rf_cv_scores), np.std(rf_cv_scores)"
   ]
  },
  {
   "cell_type": "markdown",
   "id": "4e5cee47",
   "metadata": {},
   "source": [
    "### 1.7.3 Hyperparameter Search Using GridSearchCV"
   ]
  },
  {
   "cell_type": "code",
   "execution_count": 135,
   "id": "b6f02580",
   "metadata": {},
   "outputs": [
    {
     "data": {
      "text/plain": [
       "{'randomforestregressor__n_estimators': [10,\n",
       "  12,\n",
       "  16,\n",
       "  20,\n",
       "  26,\n",
       "  33,\n",
       "  42,\n",
       "  54,\n",
       "  69,\n",
       "  88,\n",
       "  112,\n",
       "  143,\n",
       "  183,\n",
       "  233,\n",
       "  297,\n",
       "  379,\n",
       "  483,\n",
       "  615,\n",
       "  784,\n",
       "  1000],\n",
       " 'standardscaler': [StandardScaler(), None],\n",
       " 'simpleimputer__strategy': ['mean', 'median']}"
      ]
     },
     "execution_count": 135,
     "metadata": {},
     "output_type": "execute_result"
    }
   ],
   "source": [
    "n_est = [int(n) for n in np.logspace(start=1, stop=3, num=20)]\n",
    "grid_params = {\n",
    "        'randomforestregressor__n_estimators': n_est,\n",
    "        'standardscaler': [StandardScaler(), None],\n",
    "        'simpleimputer__strategy': ['mean', 'median']\n",
    "}\n",
    "grid_params"
   ]
  },
  {
   "cell_type": "code",
   "execution_count": 136,
   "id": "0142cc5b",
   "metadata": {},
   "outputs": [],
   "source": [
    "rf_grid_cv = GridSearchCV(RF_pipe, param_grid=grid_params, cv=5, n_jobs=-1)"
   ]
  },
  {
   "cell_type": "code",
   "execution_count": 137,
   "id": "c214c45e",
   "metadata": {},
   "outputs": [
    {
     "data": {
      "text/plain": [
       "GridSearchCV(cv=5,\n",
       "             estimator=Pipeline(steps=[('simpleimputer',\n",
       "                                        SimpleImputer(strategy='median')),\n",
       "                                       ('standardscaler', StandardScaler()),\n",
       "                                       ('randomforestregressor',\n",
       "                                        RandomForestRegressor(random_state=47))]),\n",
       "             n_jobs=-1,\n",
       "             param_grid={'randomforestregressor__n_estimators': [10, 12, 16, 20,\n",
       "                                                                 26, 33, 42, 54,\n",
       "                                                                 69, 88, 112,\n",
       "                                                                 143, 183, 233,\n",
       "                                                                 297, 379, 483,\n",
       "                                                                 615, 784,\n",
       "                                                                 1000],\n",
       "                         'simpleimputer__strategy': ['mean', 'median'],\n",
       "                         'standardscaler': [StandardScaler(), None]})"
      ]
     },
     "execution_count": 137,
     "metadata": {},
     "output_type": "execute_result"
    }
   ],
   "source": [
    "rf_grid_cv.fit(X_train, y_train)"
   ]
  },
  {
   "cell_type": "code",
   "execution_count": 138,
   "id": "e400610f",
   "metadata": {},
   "outputs": [
    {
     "data": {
      "text/plain": [
       "{'randomforestregressor__n_estimators': 12,\n",
       " 'simpleimputer__strategy': 'mean',\n",
       " 'standardscaler': StandardScaler()}"
      ]
     },
     "execution_count": 138,
     "metadata": {},
     "output_type": "execute_result"
    }
   ],
   "source": [
    "rf_grid_cv.best_params_"
   ]
  },
  {
   "cell_type": "code",
   "execution_count": 139,
   "id": "6af4c247",
   "metadata": {},
   "outputs": [
    {
     "data": {
      "text/plain": [
       "array([0.99922992, 0.99998347, 0.99999964, 0.9999997 , 0.9999979 ])"
      ]
     },
     "execution_count": 139,
     "metadata": {},
     "output_type": "execute_result"
    }
   ],
   "source": [
    "rf_best_cv_results = cross_validate(rf_grid_cv.best_estimator_, X_train, y_train, cv=5)\n",
    "rf_best_scores = rf_best_cv_results['test_score']\n",
    "rf_best_scores"
   ]
  },
  {
   "cell_type": "code",
   "execution_count": 140,
   "id": "fffd2b48",
   "metadata": {},
   "outputs": [
    {
     "data": {
      "text/plain": [
       "(0.9998421266613965, 0.00030616478820763685)"
      ]
     },
     "execution_count": 140,
     "metadata": {},
     "output_type": "execute_result"
    }
   ],
   "source": [
    "np.mean(rf_best_scores), np.std(rf_best_scores)"
   ]
  },
  {
   "cell_type": "markdown",
   "id": "98d068fb",
   "metadata": {},
   "source": [
    "## 1.8 Final Model Selection"
   ]
  },
  {
   "cell_type": "markdown",
   "id": "293c389d",
   "metadata": {},
   "source": [
    "### 1.8.1 Linear Regression Model Performance"
   ]
  },
  {
   "cell_type": "code",
   "execution_count": 153,
   "id": "3360acff",
   "metadata": {},
   "outputs": [],
   "source": [
    "lr_neg_mae = cross_validate(lr_grid_cv.best_estimator_, X_train, y_train, \n",
    "                            scoring='neg_mean_absolute_error', cv=5, n_jobs=-1)"
   ]
  },
  {
   "cell_type": "code",
   "execution_count": 154,
   "id": "07704611",
   "metadata": {},
   "outputs": [
    {
     "data": {
      "text/plain": [
       "(3.919733222165685e-13, 1.832713876948819e-13)"
      ]
     },
     "execution_count": 154,
     "metadata": {},
     "output_type": "execute_result"
    }
   ],
   "source": [
    "lr_mae_mean = np.mean(-1 * lr_neg_mae['test_score'])\n",
    "lr_mae_std = np.std(-1 * lr_neg_mae['test_score'])\n",
    "lr_mae_mean, lr_mae_std"
   ]
  },
  {
   "cell_type": "code",
   "execution_count": 155,
   "id": "db78f1fb",
   "metadata": {},
   "outputs": [
    {
     "data": {
      "text/plain": [
       "4.063639497736452e-14"
      ]
     },
     "execution_count": 155,
     "metadata": {},
     "output_type": "execute_result"
    }
   ],
   "source": [
    "mean_absolute_error(y_test, lr_grid_cv.best_estimator_.predict(X_test))"
   ]
  },
  {
   "cell_type": "markdown",
   "id": "34be15d8",
   "metadata": {},
   "source": [
    "### 1.8.2 Random Forest Regression Model Performance"
   ]
  },
  {
   "cell_type": "code",
   "execution_count": 156,
   "id": "4c446224",
   "metadata": {},
   "outputs": [],
   "source": [
    "rf_neg_mae = cross_validate(rf_grid_cv.best_estimator_, X_train, y_train, \n",
    "                            scoring='neg_mean_absolute_error', cv=5, n_jobs=-1)"
   ]
  },
  {
   "cell_type": "code",
   "execution_count": 157,
   "id": "99834a62",
   "metadata": {},
   "outputs": [
    {
     "data": {
      "text/plain": [
       "(0.015995148803987815, 0.016814414170379963)"
      ]
     },
     "execution_count": 157,
     "metadata": {},
     "output_type": "execute_result"
    }
   ],
   "source": [
    "rf_mae_mean = np.mean(-1 * rf_neg_mae['test_score'])\n",
    "rf_mae_std = np.std(-1 * rf_neg_mae['test_score'])\n",
    "rf_mae_mean, rf_mae_std\n"
   ]
  },
  {
   "cell_type": "code",
   "execution_count": 158,
   "id": "5074b2da",
   "metadata": {},
   "outputs": [
    {
     "data": {
      "text/plain": [
       "0.010049417033433788"
      ]
     },
     "execution_count": 158,
     "metadata": {},
     "output_type": "execute_result"
    }
   ],
   "source": [
    "mean_absolute_error(y_test, rf_grid_cv.best_estimator_.predict(X_test))"
   ]
  },
  {
   "cell_type": "markdown",
   "id": "d61bdc55",
   "metadata": {},
   "source": [
    "### 1.8.3 Conclusion"
   ]
  },
  {
   "cell_type": "markdown",
   "id": "b0f7bc5c",
   "metadata": {},
   "source": [
    "I will be using the linear regression because it has a lower cross validation mean absolute error."
   ]
  },
  {
   "cell_type": "markdown",
   "id": "7ee1129f",
   "metadata": {},
   "source": [
    "## 1.9 Save Best Model Object From Pipeline"
   ]
  },
  {
   "cell_type": "code",
   "execution_count": 168,
   "id": "805931ce",
   "metadata": {},
   "outputs": [],
   "source": [
    "best_model = rf_grid_cv.best_estimator_\n",
    "best_model.version = '1.0'\n",
    "best_model.pandas_version = (pd.__version__)\n",
    "best_model.numpy_version = (np.__version__)\n",
    "best_model.sklearn_version = (sklearn_version)\n",
    "best_model.X_columns = [col for col in X_train.columns]\n",
    "best_model.build_datetime = (datetime.datetime.now())"
   ]
  },
  {
   "cell_type": "code",
   "execution_count": 172,
   "id": "9e09323c",
   "metadata": {},
   "outputs": [
    {
     "name": "stdout",
     "output_type": "stream",
     "text": [
      "Directory ../data was created.\n",
      "Writing file.  \"../data\\door_swings_model.pkl\"\n"
     ]
    }
   ],
   "source": [
    "modelpath = '../data'\n",
    "save_file(best_model, 'door_swings_model.pkl', modelpath)"
   ]
  },
  {
   "cell_type": "markdown",
   "id": "148b30fe",
   "metadata": {},
   "source": [
    "## 1.10 Summary"
   ]
  },
  {
   "cell_type": "markdown",
   "id": "a4935e75",
   "metadata": {},
   "source": [
    "We ran a 70/30 train test split on the data to estimate the performance of our learning model. Before we ran the test, we calculated the mean door swings of 239. We had no missing data sets, so we did not need to fill in any missing values. The best number of features was one; we cannot collect more data because this is all my company's data on door swings."
   ]
  }
 ],
 "metadata": {
  "kernelspec": {
   "display_name": "Python 3 (ipykernel)",
   "language": "python",
   "name": "python3"
  },
  "language_info": {
   "codemirror_mode": {
    "name": "ipython",
    "version": 3
   },
   "file_extension": ".py",
   "mimetype": "text/x-python",
   "name": "python",
   "nbconvert_exporter": "python",
   "pygments_lexer": "ipython3",
   "version": "3.9.13"
  }
 },
 "nbformat": 4,
 "nbformat_minor": 5
}
